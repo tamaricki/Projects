{
 "cells": [
  {
   "cell_type": "markdown",
   "metadata": {},
   "source": [
    "### Name Entitiy Recognition project using RNN"
   ]
  },
  {
   "cell_type": "markdown",
   "metadata": {},
   "source": [
    "NER is an information extraction technique to identify and classify \"entities\" (words) in a text. These entities can be of different natures: names of places, organizations, a schedule. The NER has a wide variety of use cases in a company. Messaging systems like Gmail can use it to send you a calendar notification if a time is mentioned in the email, or to remind you to attach a file in case you send the email without an attachment. It is also interesting to use this type of model to extract important information from a text more easily.\n",
    "More info about dataset:\n",
    "-   The column \"Sentence #\" represents the identifier of the sentence.\n",
    "-   The Word column represents one of the words in the sentence.\n",
    "-   The POS column gives the grammatical nature of our word.\n",
    "-   The Tag column corresponds to the entity that we will try to predict."
   ]
  },
  {
   "cell_type": "code",
   "execution_count": 1,
   "metadata": {},
   "outputs": [],
   "source": [
    "import pandas as pd\n",
    "import numpy as np\n"
   ]
  },
  {
   "cell_type": "code",
   "execution_count": 25,
   "metadata": {},
   "outputs": [
    {
     "data": {
      "text/html": [
       "<div>\n",
       "<style scoped>\n",
       "    .dataframe tbody tr th:only-of-type {\n",
       "        vertical-align: middle;\n",
       "    }\n",
       "\n",
       "    .dataframe tbody tr th {\n",
       "        vertical-align: top;\n",
       "    }\n",
       "\n",
       "    .dataframe thead th {\n",
       "        text-align: right;\n",
       "    }\n",
       "</style>\n",
       "<table border=\"1\" class=\"dataframe\">\n",
       "  <thead>\n",
       "    <tr style=\"text-align: right;\">\n",
       "      <th></th>\n",
       "      <th>Sentence #</th>\n",
       "      <th>Word</th>\n",
       "      <th>POS</th>\n",
       "      <th>Tag</th>\n",
       "    </tr>\n",
       "  </thead>\n",
       "  <tbody>\n",
       "    <tr>\n",
       "      <th>0</th>\n",
       "      <td>Sentence: 1</td>\n",
       "      <td>Thousands</td>\n",
       "      <td>NNS</td>\n",
       "      <td>O</td>\n",
       "    </tr>\n",
       "    <tr>\n",
       "      <th>1</th>\n",
       "      <td>NaN</td>\n",
       "      <td>of</td>\n",
       "      <td>IN</td>\n",
       "      <td>O</td>\n",
       "    </tr>\n",
       "    <tr>\n",
       "      <th>2</th>\n",
       "      <td>NaN</td>\n",
       "      <td>demonstrators</td>\n",
       "      <td>NNS</td>\n",
       "      <td>O</td>\n",
       "    </tr>\n",
       "    <tr>\n",
       "      <th>3</th>\n",
       "      <td>NaN</td>\n",
       "      <td>have</td>\n",
       "      <td>VBP</td>\n",
       "      <td>O</td>\n",
       "    </tr>\n",
       "    <tr>\n",
       "      <th>4</th>\n",
       "      <td>NaN</td>\n",
       "      <td>marched</td>\n",
       "      <td>VBN</td>\n",
       "      <td>O</td>\n",
       "    </tr>\n",
       "  </tbody>\n",
       "</table>\n",
       "</div>"
      ],
      "text/plain": [
       "    Sentence #           Word  POS Tag\n",
       "0  Sentence: 1      Thousands  NNS   O\n",
       "1          NaN             of   IN   O\n",
       "2          NaN  demonstrators  NNS   O\n",
       "3          NaN           have  VBP   O\n",
       "4          NaN        marched  VBN   O"
      ]
     },
     "execution_count": 25,
     "metadata": {},
     "output_type": "execute_result"
    }
   ],
   "source": [
    "data= pd.read_csv('ner_dataset.csv', encoding ='latin1')\n",
    "data.head()"
   ]
  },
  {
   "cell_type": "code",
   "execution_count": 3,
   "metadata": {},
   "outputs": [
    {
     "data": {
      "text/plain": [
       "47959"
      ]
     },
     "execution_count": 3,
     "metadata": {},
     "output_type": "execute_result"
    }
   ],
   "source": [
    "len(data['Sentence #'].unique()) -1"
   ]
  },
  {
   "cell_type": "code",
   "execution_count": 4,
   "metadata": {},
   "outputs": [
    {
     "name": "stdout",
     "output_type": "stream",
     "text": [
      "<class 'pandas.core.frame.DataFrame'>\n",
      "RangeIndex: 1048575 entries, 0 to 1048574\n",
      "Data columns (total 4 columns):\n",
      " #   Column      Non-Null Count    Dtype \n",
      "---  ------      --------------    ----- \n",
      " 0   Sentence #  47959 non-null    object\n",
      " 1   Word        1048575 non-null  object\n",
      " 2   POS         1048575 non-null  object\n",
      " 3   Tag         1048575 non-null  object\n",
      "dtypes: object(4)\n",
      "memory usage: 32.0+ MB\n"
     ]
    }
   ],
   "source": [
    "data.info()"
   ]
  },
  {
   "cell_type": "code",
   "execution_count": 35,
   "metadata": {},
   "outputs": [
    {
     "name": "stdout",
     "output_type": "stream",
     "text": [
      "35178 17\n",
      "True\n"
     ]
    }
   ],
   "source": [
    "#let's try to create vocabs before we changed the data set \n",
    "w_vocab= list(set(data['Word'].to_list()))\n",
    "t_vocab = list(set(data['Tag'].to_list()))\n",
    "print(len(w_vocab), len(t_vocab))\n",
    "print(len(w_vocab)==len(word_vocab))"
   ]
  },
  {
   "cell_type": "code",
   "execution_count": 38,
   "metadata": {},
   "outputs": [
    {
     "name": "stdout",
     "output_type": "stream",
     "text": [
      "['Leading', 'edged', '320', 'quarter-on-quarter', 'Liban', 'Rony', 'unexplored', 'PSV', 'frontier', 'Mulino'] \n",
      " ['Leading', 'edged', '320', 'quarter-on-quarter', 'Liban', 'Rony', 'unexplored', 'PSV', 'frontier', 'Mulino']\n",
      "\n",
      "\n",
      "['B-nat', 'B-art', 'B-eve', 'B-gpe', 'I-eve', 'O', 'I-per', 'I-org', 'I-tim', 'B-per', 'I-nat', 'I-geo', 'I-gpe', 'B-geo', 'B-tim', 'B-org', 'I-art'] \n",
      " ['B-nat', 'B-art', 'B-eve', 'B-gpe', 'I-eve', 'O', 'I-org', 'I-per', 'I-tim', 'B-per', 'I-nat', 'B-tim', 'I-gpe', 'B-geo', 'B-org', 'I-geo', 'I-art']\n"
     ]
    }
   ],
   "source": [
    "#both are same \n",
    "print(w_vocab[:10], '\\n', word_vocab[:10])\n",
    "print('\\n')\n",
    "print(tag_vocab, '\\n', t_vocab)"
   ]
  },
  {
   "cell_type": "code",
   "execution_count": 5,
   "metadata": {},
   "outputs": [
    {
     "data": {
      "text/html": [
       "<div>\n",
       "<style scoped>\n",
       "    .dataframe tbody tr th:only-of-type {\n",
       "        vertical-align: middle;\n",
       "    }\n",
       "\n",
       "    .dataframe tbody tr th {\n",
       "        vertical-align: top;\n",
       "    }\n",
       "\n",
       "    .dataframe thead th {\n",
       "        text-align: right;\n",
       "    }\n",
       "</style>\n",
       "<table border=\"1\" class=\"dataframe\">\n",
       "  <thead>\n",
       "    <tr style=\"text-align: right;\">\n",
       "      <th></th>\n",
       "      <th>Sentence #</th>\n",
       "      <th>Word</th>\n",
       "      <th>POS</th>\n",
       "      <th>Tag</th>\n",
       "    </tr>\n",
       "  </thead>\n",
       "  <tbody>\n",
       "    <tr>\n",
       "      <th>47954</th>\n",
       "      <td>Sentence: 9995</td>\n",
       "      <td>[Opposition, leader, Mir, Hossein, Mousavi, ha...</td>\n",
       "      <td>[NNP, NN, NNP, NNP, NNP, VBZ, VBN, PRP, VBZ, T...</td>\n",
       "      <td>[O, O, O, B-per, I-per, O, O, O, O, O, O, O, O...</td>\n",
       "    </tr>\n",
       "    <tr>\n",
       "      <th>47955</th>\n",
       "      <td>Sentence: 9996</td>\n",
       "      <td>[On, Thursday, ,, Iranian, state, media, publi...</td>\n",
       "      <td>[IN, NNP, ,, JJ, NN, NNS, VBN, DT, NN, IN, DT,...</td>\n",
       "      <td>[O, B-tim, O, B-gpe, O, O, O, O, O, O, O, O, B...</td>\n",
       "    </tr>\n",
       "    <tr>\n",
       "      <th>47956</th>\n",
       "      <td>Sentence: 9997</td>\n",
       "      <td>[Following, Iran, 's, disputed, June, 12, elec...</td>\n",
       "      <td>[VBG, NNP, POS, JJ, NNP, CD, NNS, ,, NNS, NNS,...</td>\n",
       "      <td>[O, B-geo, O, O, B-tim, I-tim, O, O, O, O, O, ...</td>\n",
       "    </tr>\n",
       "    <tr>\n",
       "      <th>47957</th>\n",
       "      <td>Sentence: 9998</td>\n",
       "      <td>[Since, then, ,, authorities, have, held, publ...</td>\n",
       "      <td>[IN, RB, ,, NNS, VBP, VBN, JJ, NNS, IN, DT, VB...</td>\n",
       "      <td>[O, O, O, O, O, O, O, O, O, O, O, O, O, O, O, ...</td>\n",
       "    </tr>\n",
       "    <tr>\n",
       "      <th>47958</th>\n",
       "      <td>Sentence: 9999</td>\n",
       "      <td>[The, United, Nations, is, praising, the, use,...</td>\n",
       "      <td>[DT, NNP, NNP, VBZ, VBG, DT, NN, IN, JJ, NNS, ...</td>\n",
       "      <td>[O, B-org, I-org, O, O, O, O, O, O, O, O, O, O...</td>\n",
       "    </tr>\n",
       "  </tbody>\n",
       "</table>\n",
       "</div>"
      ],
      "text/plain": [
       "           Sentence #                                               Word  \\\n",
       "47954  Sentence: 9995  [Opposition, leader, Mir, Hossein, Mousavi, ha...   \n",
       "47955  Sentence: 9996  [On, Thursday, ,, Iranian, state, media, publi...   \n",
       "47956  Sentence: 9997  [Following, Iran, 's, disputed, June, 12, elec...   \n",
       "47957  Sentence: 9998  [Since, then, ,, authorities, have, held, publ...   \n",
       "47958  Sentence: 9999  [The, United, Nations, is, praising, the, use,...   \n",
       "\n",
       "                                                     POS  \\\n",
       "47954  [NNP, NN, NNP, NNP, NNP, VBZ, VBN, PRP, VBZ, T...   \n",
       "47955  [IN, NNP, ,, JJ, NN, NNS, VBN, DT, NN, IN, DT,...   \n",
       "47956  [VBG, NNP, POS, JJ, NNP, CD, NNS, ,, NNS, NNS,...   \n",
       "47957  [IN, RB, ,, NNS, VBP, VBN, JJ, NNS, IN, DT, VB...   \n",
       "47958  [DT, NNP, NNP, VBZ, VBG, DT, NN, IN, JJ, NNS, ...   \n",
       "\n",
       "                                                     Tag  \n",
       "47954  [O, O, O, B-per, I-per, O, O, O, O, O, O, O, O...  \n",
       "47955  [O, B-tim, O, B-gpe, O, O, O, O, O, O, O, O, B...  \n",
       "47956  [O, B-geo, O, O, B-tim, I-tim, O, O, O, O, O, ...  \n",
       "47957  [O, O, O, O, O, O, O, O, O, O, O, O, O, O, O, ...  \n",
       "47958  [O, B-org, I-org, O, O, O, O, O, O, O, O, O, O...  "
      ]
     },
     "execution_count": 5,
     "metadata": {},
     "output_type": "execute_result"
    }
   ],
   "source": [
    "df = data.fillna(method='ffill', axis =0)\n",
    "df = df.groupby('Sentence #').agg(list).reset_index()\n",
    "df.tail()"
   ]
  },
  {
   "cell_type": "markdown",
   "metadata": {},
   "source": [
    " The objective here is to predict the list of Tag according to the words of the sentence."
   ]
  },
  {
   "cell_type": "code",
   "execution_count": 7,
   "metadata": {},
   "outputs": [],
   "source": [
    "# let us visualise distribution of number of words\n",
    "import matplotlib.pyplot as plt\n",
    "df['word_count'] = df['Word'].apply(lambda x: len(x))\n"
   ]
  },
  {
   "cell_type": "code",
   "execution_count": 24,
   "metadata": {},
   "outputs": [
    {
     "data": {
      "image/png": "[encoded data removed]",
      "text/plain": [
       "<Figure size 640x480 with 1 Axes>"
      ]
     },
     "metadata": {},
     "output_type": "display_data"
    }
   ],
   "source": [
    "#we can represent word count as follows and then also mark longest sequence in the corpus\n",
    "summary = df['word_count'].describe(percentiles=[.1,.2,.3,.4,.5,.6,.7,.8,.9,1])\n",
    "df['word_count'].plot.hist(xticks=[0,15, 32,64,108], bins=100, range=[0,108],color='blue').axvline(x=summary['100%'],c='red')\n",
    "plt.title('Distribution of number of words')\n",
    "plt.text(85, 3000, 'longest \\nsequence \\n'+str(summary['100%']))\n",
    "plt.show()\n"
   ]
  },
  {
   "cell_type": "markdown",
   "metadata": {},
   "source": [
    "To continue, we will create a vocabolary, and vocabolary of tags , then dictionary with tokens and their indexes, and vice versa indexes as keys and tokens as values.   "
   ]
  },
  {
   "cell_type": "code",
   "execution_count": 32,
   "metadata": {},
   "outputs": [],
   "source": [
    "word_vocab = list(set(word for entry in df['Word'].to_list() for word in entry))\n",
    "tag_vocab = list(set(tag for entry in df['Tag'].to_list() for tag in entry))"
   ]
  },
  {
   "cell_type": "code",
   "execution_count": 33,
   "metadata": {},
   "outputs": [
    {
     "name": "stdout",
     "output_type": "stream",
     "text": [
      "35178\n",
      "17\n"
     ]
    }
   ],
   "source": [
    "print(len(word_vocab))\n",
    "print(len(tag_vocab))"
   ]
  },
  {
   "cell_type": "code",
   "execution_count": 39,
   "metadata": {},
   "outputs": [],
   "source": [
    "word2idx = {w:i for i,w in enumerate(word_vocab)}\n",
    "tag2idx = {t:i for i, t in enumerate(tag_vocab)}\n",
    "idx2word = {i:w for i, w in enumerate(word_vocab)}\n",
    "idx2tag = {i:t for i, t in enumerate(tag_vocab)}\n"
   ]
  },
  {
   "cell_type": "markdown",
   "metadata": {},
   "source": [
    "We created vocabularies and idx to word and tag mappings, this is also possible with keras.preprocessing module.  Tokenizer Class enables to transform each text into sequence of intergers where each integer is index of the token in dictionary."
   ]
  },
  {
   "cell_type": "code",
   "execution_count": 40,
   "metadata": {},
   "outputs": [],
   "source": [
    "df['word_str'] = df['Word'].apply(lambda x: ' '.join(x))\n",
    "df['tag_str'] = df['Tag'].apply(lambda x:' '.join(x))\n",
    "\n"
   ]
  },
  {
   "cell_type": "code",
   "execution_count": 41,
   "metadata": {},
   "outputs": [],
   "source": [
    "import tensorflow as tf\n",
    "word_token = tf.keras.preprocessing.text.Tokenizer(num_words=10000, lower=True)\n",
    "#for tag tokenizer, we do not want to font size to be lower, also we do not want any filter to be applied , like punctuation, or line breaks\n",
    "tag_token = tf.keras.preprocessing.text.Tokenizer(num_words=10000, split=' ', lower=False, filters=' ')\n",
    "\n",
    "word_token.fit_on_texts(df['word_str'])\n",
    "tag_token.fit_on_texts(df['tag_str'])\n"
   ]
  },
  {
   "cell_type": "code",
   "execution_count": 44,
   "metadata": {},
   "outputs": [],
   "source": [
    "#we can then generate vocabulary and token integer mappings \n",
    "w2idx = word_token.word_index\n",
    "idx2w = word_token.index_word\n",
    "t2idx = tag_token.word_index\n",
    "idx2t = tag_token.index_word\n",
    "\n",
    "w_counts = word_token.word_counts\n",
    "t_counts = tag_token.word_counts\n",
    "\n"
   ]
  },
  {
   "cell_type": "code",
   "execution_count": null,
   "metadata": {},
   "outputs": [],
   "source": []
  },
  {
   "cell_type": "code",
   "execution_count": 99,
   "metadata": {},
   "outputs": [
    {
     "name": "stdout",
     "output_type": "stream",
     "text": [
      "27953 35178\n",
      "18 17\n"
     ]
    }
   ],
   "source": [
    "print(len(w2idx), len(word2idx)) # word2idx is longer I guess because of stop words, and because lower and upper case \n",
    "print(len(t2idx), len(tag2idx))\n"
   ]
  },
  {
   "cell_type": "code",
   "execution_count": 100,
   "metadata": {},
   "outputs": [
    {
     "name": "stdout",
     "output_type": "stream",
     "text": [
      "[('the', 1), ('in', 2), ('of', 3), ('to', 4), ('a', 5), ('and', 6), (\"'s\", 7), ('for', 8), ('has', 9), ('on', 10), ('is', 11), ('that', 12), ('have', 13), ('u', 14), ('with', 15), ('said', 16), ('was', 17), ('at', 18), ('says', 19), ('s', 20)] \n",
      " [('Leading', 0), ('edged', 1), ('320', 2), ('quarter-on-quarter', 3), ('Liban', 4), ('Rony', 5), ('unexplored', 6), ('PSV', 7), ('frontier', 8), ('Mulino', 9), ('Poiree', 10), ('banning', 11), ('Navarre', 12), ('sailors', 13), ('sprang', 14), ('Tirah', 15), ('randomly', 16), ('institutional', 17), ('994', 18), ('furor', 19)]\n"
     ]
    }
   ],
   "source": [
    "print(list(w2idx.items())[:20], '\\n', list(word2idx.items())[:20]) "
   ]
  },
  {
   "cell_type": "markdown",
   "metadata": {},
   "source": [
    "it seems different but this should not make any difference "
   ]
  },
  {
   "cell_type": "code",
   "execution_count": 101,
   "metadata": {},
   "outputs": [
    {
     "data": {
      "text/plain": [
       "{'O': 1,\n",
       " 'B-geo': 2,\n",
       " 'B-tim': 3,\n",
       " 'B-org': 4,\n",
       " 'I-per': 5,\n",
       " 'B-per': 6,\n",
       " 'I-org': 7,\n",
       " 'B-gpe': 8,\n",
       " 'I-geo': 9,\n",
       " 'I-tim': 10,\n",
       " 'B-art': 11,\n",
       " 'B-eve': 12,\n",
       " 'I-art': 13,\n",
       " 'I-eve': 14,\n",
       " 'B-nat': 15,\n",
       " 'I-gpe': 16,\n",
       " 'I-nat': 17,\n",
       " '.': 0}"
      ]
     },
     "execution_count": 101,
     "metadata": {},
     "output_type": "execute_result"
    }
   ],
   "source": [
    "t2idx       # in tensorflow indexing starts from 1 not from 0"
   ]
  },
  {
   "cell_type": "code",
   "execution_count": 102,
   "metadata": {},
   "outputs": [],
   "source": [
    "t2idx['.'] = 0\n",
    "idx2t[0]='.'"
   ]
  },
  {
   "cell_type": "code",
   "execution_count": 52,
   "metadata": {},
   "outputs": [
    {
     "data": {
      "text/plain": [
       "104"
      ]
     },
     "execution_count": 52,
     "metadata": {},
     "output_type": "execute_result"
    }
   ],
   "source": [
    "max_sequence =max(len(s) for s in df['Word'].to_list())\n",
    "max_sequence"
   ]
  },
  {
   "cell_type": "markdown",
   "metadata": {},
   "source": [
    "Transforming entries into sequence of integers"
   ]
  },
  {
   "cell_type": "code",
   "execution_count": 103,
   "metadata": {},
   "outputs": [],
   "source": [
    "X_raw= word_token.texts_to_sequences(df['word_str'])\n",
    "Y_raw= tag_token.texts_to_sequences(df['tag_str'])"
   ]
  },
  {
   "cell_type": "code",
   "execution_count": 104,
   "metadata": {},
   "outputs": [
    {
     "name": "stdout",
     "output_type": "stream",
     "text": [
      "[[260, 3, 997, 13, 1838, 245, 452, 4, 545, 1, 121, 2, 60, 6, 595, 1, 861, 3, 184, 89, 21, 12, 54]]\n",
      "[[1, 1, 1, 1, 1, 1, 2, 1, 1, 1, 1, 1, 2, 1, 1, 1, 1, 1, 8, 1, 1, 1, 1, 1], [8, 1, 1, 1, 1, 1, 1, 1, 1, 1, 1, 1, 1, 1, 1, 3, 1, 1, 1, 4, 1, 1, 1, 1, 1], [1, 1, 3, 1, 1, 1, 1, 1, 2, 1, 1, 1, 1, 1, 4, 1, 1, 1, 1, 1, 1, 1, 1, 1, 1, 1, 1, 1, 1, 2, 9, 1], [1, 1, 1, 1, 1, 1, 1, 1, 1, 1, 1]]\n"
     ]
    }
   ],
   "source": [
    "print(X_raw[:1])\n",
    "print(Y_raw[:4])\n"
   ]
  },
  {
   "cell_type": "markdown",
   "metadata": {},
   "source": [
    "Next step is dividing the text into sequences, which results in numpy array with dimmensions of number of samples and number of timestemps. Good indicator of number of timestemps is maximum length of sequence. Anything shorter will be filled with 0 and longer sequences are trunctuated to match desired lenght.  This makes sure that all sequences have the same length.\n",
    "value is padding value, either string or integer "
   ]
  },
  {
   "cell_type": "code",
   "execution_count": 105,
   "metadata": {},
   "outputs": [],
   "source": [
    "from sklearn.model_selection import train_test_split\n",
    "X = tf.keras.preprocessing.sequence.pad_sequences(X_raw, maxlen= max_sequence, padding='post')\n",
    "Y = tf.keras.preprocessing.sequence.pad_sequences(Y_raw, padding='post')\n",
    "\n",
    "x_train, x_test, y_train, y_test = train_test_split(X,Y, test_size=0.2, random_state=234354353)"
   ]
  },
  {
   "cell_type": "code",
   "execution_count": 140,
   "metadata": {},
   "outputs": [
    {
     "data": {
      "text/plain": [
       "27953"
      ]
     },
     "execution_count": 140,
     "metadata": {},
     "output_type": "execute_result"
    }
   ],
   "source": [
    "len(w2idx.keys())"
   ]
  },
  {
   "cell_type": "markdown",
   "metadata": {},
   "source": [
    "To build classification model we will use 2 layers of bidirectional LSTM layers. Main strength of RNN is possibility to use previous information for current prediction task. There is some input on which parameters are applied, and with output ht which is then used as input for next network layer. It has chain structure where information is passed from one part of network to another. LSTM are special RNNs in cases where for next word to be predicted it needs more context (distance between the information available and task is large). They also have chain strucutre but there is not one layer per network but 4 and they communicating with each other:\n",
    "\n",
    "- There is Ct vector which acts like memory vector, goes through the LSTM cell like conveyor belt. \n",
    "- Then there are 3 gates which regulate how much inforamtion will be added to cell state( Ct). they are composed of sigmoid layer which outputs numbers between 0 and 1 describing how much information should go through:\n",
    "  \n",
    "    - first layer decides which components to forget and which to pass through\n",
    "    - Input vector which stores the retained components to Ct\n",
    "    - output vector which decides what to produce as output. Basis for that is Ct which goes through sigmoid layer, and this output gets transformed via tanh layer(produce values between -1 and 1).\n",
    "\n",
    "What bidirectional means? We roughly explained how one-directional network works since it resembles with the way we speak, read and listen. Howere sometimes we have random accesss to input sequences and having bi-directional lstm calculations might be beneficial.  In this case, there are two Ct vectors (hidden state vectors), one for each direction. \n",
    "\n",
    "TimeDistributed layer : we intend to output to use same dense layer to each of the outputs of LSTM at each step "
   ]
  },
  {
   "cell_type": "code",
   "execution_count": 108,
   "metadata": {},
   "outputs": [
    {
     "name": "stdout",
     "output_type": "stream",
     "text": [
      "Model: \"sequential_8\"\n",
      "_________________________________________________________________\n",
      " Layer (type)                Output Shape              Param #   \n",
      "=================================================================\n",
      " embedding_8 (Embedding)     (None, 104, 104)          2907112   \n",
      "                                                                 \n",
      " bidirectional_16 (Bidirecti  (None, 104, 208)         173888    \n",
      " onal)                                                           \n",
      "                                                                 \n",
      " bidirectional_17 (Bidirecti  (None, 104, 208)         260416    \n",
      " onal)                                                           \n",
      "                                                                 \n",
      " time_distributed_8 (TimeDis  (None, 104, 19)          3971      \n",
      " tributed)                                                       \n",
      "                                                                 \n",
      "=================================================================\n",
      "Total params: 3,345,387\n",
      "Trainable params: 3,345,387\n",
      "Non-trainable params: 0\n",
      "_________________________________________________________________\n"
     ]
    }
   ],
   "source": [
    "from tensorflow.keras import Sequential, Model, Input\n",
    "from tensorflow.keras.layers import  InputLayer, SpatialDropout1D, Embedding, LSTM, Dense, GRUCell, RNN, TimeDistributed, Dropout, Bidirectional, GlobalAveragePooling1D\n",
    "\n",
    "model = Sequential()\n",
    "#64 is length of the vector for each word\n",
    "model.add(Embedding(len(w2idx.keys()), output_dim=max_sequence, input_length=max_sequence))\n",
    "\n",
    "model.add(Bidirectional(LSTM(max_sequence, return_sequences=True, activation='tanh')))\n",
    "model.add(Bidirectional(LSTM(max_sequence, return_sequences=True, activation='tanh')))\n",
    "\n",
    "model.add(TimeDistributed(Dense(len(t2idx)+1, activation='softmax')))\n",
    "\n",
    "model.compile(loss='sparse_categorical_crossentropy', optimizer='adam', metrics=['acc'])\n",
    "model.summary()"
   ]
  },
  {
   "cell_type": "code",
   "execution_count": 189,
   "metadata": {},
   "outputs": [
    {
     "name": "stdout",
     "output_type": "stream",
     "text": [
      "Epoch 1/3\n"
     ]
    },
    {
     "name": "stdout",
     "output_type": "stream",
     "text": [
      "2398/2398 [==============================] - 2358s 983ms/step - loss: 0.1012 - acc: 0.9670 - val_loss: 0.0993 - val_acc: 0.9682\n",
      "Epoch 2/3\n",
      "2398/2398 [==============================] - 1395s 582ms/step - loss: 0.0865 - acc: 0.9708 - val_loss: 0.0933 - val_acc: 0.9697\n",
      "Epoch 3/3\n",
      "2398/2398 [==============================] - 2171s 906ms/step - loss: 0.0774 - acc: 0.9734 - val_loss: 0.0912 - val_acc: 0.9703\n"
     ]
    }
   ],
   "source": [
    "history = model.fit(x_train, y_train, epochs= 3, batch_size= 16, validation_data=[x_test, y_test])"
   ]
  },
  {
   "cell_type": "code",
   "execution_count": 190,
   "metadata": {},
   "outputs": [
    {
     "name": "stdout",
     "output_type": "stream",
     "text": [
      "75/75 [==============================] - 96s 1s/step - loss: 0.0912 - acc: 0.9703\n",
      "test loss: 0.09124068915843964 test_acc: 0.9703238010406494\n"
     ]
    }
   ],
   "source": [
    "test_loss, test_accuracy = model.evaluate(x_test, y_test, batch_size=128)\n",
    "print('test loss:', test_loss, 'test_acc:', test_accuracy)"
   ]
  },
  {
   "cell_type": "code",
   "execution_count": 191,
   "metadata": {},
   "outputs": [
    {
     "name": "stdout",
     "output_type": "stream",
     "text": [
      "This is sentence number: 8452\n",
      "1/1 [==============================] - 0s 185ms/step\n"
     ]
    }
   ],
   "source": [
    "i = np.random.randint(1, x_test.shape[0])\n",
    "word_list = list(w2idx.keys())\n",
    "print(\"This is sentence number:\",i)\n",
    "p = model.predict(np.array([x_test[i]]))\n",
    "#print(p)\n",
    "pp = np.argmax(p, axis=-1)\n"
   ]
  },
  {
   "cell_type": "code",
   "execution_count": 192,
   "metadata": {},
   "outputs": [
    {
     "name": "stdout",
     "output_type": "stream",
     "text": [
      "[8 1 1 1 1 1 1 1 1 1 1 1 1 4 7 1 1 1 1 1 1 1 1 1 1 1 1 7 1 1 0 0 0 0 0 0 0\n",
      " 0 0 0 0 0 0 0 0 0 0 0 0 0 0 0 0 0 0 0 0 0 0 0 0 0 0 0 0 0 0 0 0 0 0 0 0 0\n",
      " 0 0 0 0 0 0 0 0 0 0 0 0 0 0 0 0 0 0 0 0 0 0 0 0 0 0 0 0 0 0]\n"
     ]
    }
   ],
   "source": [
    "print(pp[0])"
   ]
  },
  {
   "cell_type": "code",
   "execution_count": 193,
   "metadata": {},
   "outputs": [
    {
     "name": "stdout",
     "output_type": "stream",
     "text": [
      "Word           True \t Pred\n",
      "\n",
      "------------------------------\n",
      "pakistani      B-gpe\tB-gpe\n",
      "officials      O\tO\n",
      "say            O\tO\n",
      "unknown        O\tO\n",
      "gunmen         O\tO\n",
      "have           O\tO\n",
      "opened         O\tO\n",
      "fire           O\tO\n",
      "on             O\tO\n",
      "a              O\tO\n",
      "bus            O\tO\n",
      "carrying       O\tO\n",
      "the            O\tO\n",
      "sri            B-org\tB-org\n",
      "lankan         I-org\tI-org\n",
      "cricket        O\tO\n",
      "team           O\tO\n",
      "killing        O\tO\n",
      "at             O\tO\n",
      "least          O\tO\n",
      "five           O\tO\n",
      "police         O\tO\n",
      "officers       O\tO\n",
      "and            O\tO\n",
      "wounding       O\tO\n",
      "six            O\tO\n",
      "sri            O\tO\n",
      "lankan         B-org\tI-org\n",
      "players        I-org\tO\n",
      "marginalize    O\tO\n",
      "marginalize    O\t.\n",
      "marginalize    .\t.\n",
      "marginalize    .\t.\n",
      "marginalize    .\t.\n",
      "marginalize    .\t.\n",
      "marginalize    .\t.\n",
      "marginalize    .\t.\n",
      "marginalize    .\t.\n",
      "marginalize    .\t.\n",
      "marginalize    .\t.\n",
      "marginalize    .\t.\n",
      "marginalize    .\t.\n",
      "marginalize    .\t.\n",
      "marginalize    .\t.\n",
      "marginalize    .\t.\n",
      "marginalize    .\t.\n",
      "marginalize    .\t.\n",
      "marginalize    .\t.\n",
      "marginalize    .\t.\n",
      "marginalize    .\t.\n",
      "marginalize    .\t.\n",
      "marginalize    .\t.\n",
      "marginalize    .\t.\n",
      "marginalize    .\t.\n",
      "marginalize    .\t.\n",
      "marginalize    .\t.\n",
      "marginalize    .\t.\n",
      "marginalize    .\t.\n",
      "marginalize    .\t.\n",
      "marginalize    .\t.\n",
      "marginalize    .\t.\n",
      "marginalize    .\t.\n",
      "marginalize    .\t.\n",
      "marginalize    .\t.\n",
      "marginalize    .\t.\n",
      "marginalize    .\t.\n",
      "marginalize    .\t.\n",
      "marginalize    .\t.\n",
      "marginalize    .\t.\n",
      "marginalize    .\t.\n",
      "marginalize    .\t.\n",
      "marginalize    .\t.\n",
      "marginalize    .\t.\n",
      "marginalize    .\t.\n",
      "marginalize    .\t.\n",
      "marginalize    .\t.\n",
      "marginalize    .\t.\n",
      "marginalize    .\t.\n",
      "marginalize    .\t.\n",
      "marginalize    .\t.\n",
      "marginalize    .\t.\n",
      "marginalize    .\t.\n",
      "marginalize    .\t.\n",
      "marginalize    .\t.\n",
      "marginalize    .\t.\n",
      "marginalize    .\t.\n",
      "marginalize    .\t.\n",
      "marginalize    .\t.\n",
      "marginalize    .\t.\n",
      "marginalize    .\t.\n",
      "marginalize    .\t.\n",
      "marginalize    .\t.\n",
      "marginalize    .\t.\n",
      "marginalize    .\t.\n",
      "marginalize    .\t.\n",
      "marginalize    .\t.\n",
      "marginalize    .\t.\n",
      "marginalize    .\t.\n",
      "marginalize    .\t.\n",
      "marginalize    .\t.\n",
      "marginalize    .\t.\n",
      "marginalize    .\t.\n",
      "marginalize    .\t.\n",
      "marginalize    .\t.\n"
     ]
    }
   ],
   "source": [
    "\n",
    "tag_list = list(t2idx.keys())\n",
    "print(\"{:15}{:5}\\t {}\\n\".format(\"Word\", \"True\", \"Pred\"))\n",
    "print(\"-\" *30)\n",
    "for w, true, pred in zip(x_test[i], y_test[i], pp[0]):\n",
    "    print(\"{:15}{}\\t{}\".format(word_list[w-1], tag_list[true-1], tag_list[pred-1]))"
   ]
  },
  {
   "cell_type": "code",
   "execution_count": null,
   "metadata": {},
   "outputs": [],
   "source": []
  }
 ],
 "metadata": {
  "kernelspec": {
   "display_name": "ml_env",
   "language": "python",
   "name": "python3"
  },
  "language_info": {
   "codemirror_mode": {
    "name": "ipython",
    "version": 3
   },
   "file_extension": ".py",
   "mimetype": "text/x-python",
   "name": "python",
   "nbconvert_exporter": "python",
   "pygments_lexer": "ipython3",
   "version": "3.9.15"
  },
  "orig_nbformat": 4
 },
 "nbformat": 4,
 "nbformat_minor": 2
}
