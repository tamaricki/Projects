{
 "cells": [
  {
   "cell_type": "markdown",
   "metadata": {
    "dc": {
     "key": "3"
    },
    "deletable": false,
    "editable": false,
    "run_control": {
     "frozen": true
    },
    "tags": [
     "context"
    ]
   },
   "source": [
    "## 1. Loading the motor claims dataset\n",
    "<p>“Managing time expectations is the key driver of satisfaction — meaning, a prompt claim settlement is still the best advertisable punch line for insurance firms. While a new era of claims settlement benchmarks are being set with AI, the industry is shifting their attitude towards embracing the real potential of intelligent technologies that can shave-off valuable time and money from the firm’s bottom-line.”</p>\n",
    "<p>The insurance claims process involves a series of procedures from the time the insurer is alerted to when a settlement is made in which First notice of loss(FNOL) starts the wheel of the claims cycle and is when the policyholder or any other person notifies the insurer of an unfortunate event. In the case of Motor insurance, a driver or Third Party informs the insurance company of a crash that occurred involving a vehicle.</p>\n",
    "<p>The event will be registered by a claims handler in the Insurance company whose role is to determine the Liability and the  amount of settlement. The claims handler determines the nature and severity of the damage to the policyholder’s car. His assessment relies on various information regarding the \n",
    "Incident by the reporter and other details regarding the incident.</p>\n",
    "<p><strong>The objective of this project is to utilise the historical data of the claims and develop a liability prediction model which would enable the handlers to swiftly decide on Claims liability at FNOL Stage.</strong> </p>"
   ]
  },
  {
   "cell_type": "code",
   "execution_count": 1,
   "metadata": {
    "dc": {
     "key": "3"
    },
    "tags": [
     "sample_code"
    ]
   },
   "outputs": [
    {
     "name": "stdout",
     "output_type": "stream",
     "text": [
      "Data types:\n",
      "Claim_number                 object\n",
      "Excess                      float64\n",
      "Circumstance_code            object\n",
      "Organization_notified_by     object\n",
      "Method_of_notification       object\n",
      "NCD_indicator                object\n",
      "Notification_delay            int64\n",
      "Injury                        int64\n",
      "TP_vehicle_damaged            int64\n",
      "Insured_vehicle_damaged       int64\n",
      "Insured_age                   int64\n",
      "Estimated_vehicle_value       int64\n",
      "Liability_group              object\n",
      "dtype: object\n",
      "\n",
      "Description:\n",
      "             Excess  Notification_delay       Injury  TP_vehicle_damaged  \\\n",
      "count   3642.000000         3650.000000  3650.000000         3650.000000   \n",
      "mean     348.496431           23.859452     0.530959            0.716164   \n",
      "std      675.302842           27.251420     0.499109            0.450920   \n",
      "min        0.000000            0.000000     0.000000            0.000000   \n",
      "25%        0.000000           11.000000     0.000000            0.000000   \n",
      "50%      250.000000           17.000000     1.000000            1.000000   \n",
      "75%      500.000000           23.000000     1.000000            1.000000   \n",
      "max    20000.000000          367.000000     1.000000            1.000000   \n",
      "\n",
      "       Insured_vehicle_damaged  Insured_age  Estimated_vehicle_value  \n",
      "count              3650.000000  3650.000000              3650.000000  \n",
      "mean                  0.917260    34.097260             15040.738904  \n",
      "std                   0.275526    14.357172             10760.849486  \n",
      "min                   0.000000    18.000000               850.000000  \n",
      "25%                   1.000000    22.000000              7906.500000  \n",
      "50%                   1.000000    30.000000             12704.500000  \n",
      "75%                   1.000000    43.000000             19417.500000  \n",
      "max                   1.000000    75.000000            151500.000000  \n",
      "\n",
      "Dataset:\n"
     ]
    },
    {
     "data": {
      "text/html": [
       "<div>\n",
       "<style scoped>\n",
       "    .dataframe tbody tr th:only-of-type {\n",
       "        vertical-align: middle;\n",
       "    }\n",
       "\n",
       "    .dataframe tbody tr th {\n",
       "        vertical-align: top;\n",
       "    }\n",
       "\n",
       "    .dataframe thead th {\n",
       "        text-align: right;\n",
       "    }\n",
       "</style>\n",
       "<table border=\"1\" class=\"dataframe\">\n",
       "  <thead>\n",
       "    <tr style=\"text-align: right;\">\n",
       "      <th></th>\n",
       "      <th>Claim_number</th>\n",
       "      <th>Excess</th>\n",
       "      <th>Circumstance_code</th>\n",
       "      <th>Organization_notified_by</th>\n",
       "      <th>Method_of_notification</th>\n",
       "      <th>NCD_indicator</th>\n",
       "      <th>Notification_delay</th>\n",
       "      <th>Injury</th>\n",
       "      <th>TP_vehicle_damaged</th>\n",
       "      <th>Insured_vehicle_damaged</th>\n",
       "      <th>Insured_age</th>\n",
       "      <th>Estimated_vehicle_value</th>\n",
       "      <th>Liability_group</th>\n",
       "    </tr>\n",
       "  </thead>\n",
       "  <tbody>\n",
       "    <tr>\n",
       "      <th>0</th>\n",
       "      <td>CHC 55530276</td>\n",
       "      <td>1000.0</td>\n",
       "      <td>Insured Vehicle changing lanes</td>\n",
       "      <td>Employee</td>\n",
       "      <td>email</td>\n",
       "      <td>Yes</td>\n",
       "      <td>18</td>\n",
       "      <td>1</td>\n",
       "      <td>1</td>\n",
       "      <td>1</td>\n",
       "      <td>41</td>\n",
       "      <td>13946</td>\n",
       "      <td>Not_Liable</td>\n",
       "    </tr>\n",
       "    <tr>\n",
       "      <th>1</th>\n",
       "      <td>NAT 61714811</td>\n",
       "      <td>0.0</td>\n",
       "      <td>Third Party opening door</td>\n",
       "      <td>Nameddriver</td>\n",
       "      <td>Phone</td>\n",
       "      <td>No</td>\n",
       "      <td>5</td>\n",
       "      <td>0</td>\n",
       "      <td>1</td>\n",
       "      <td>1</td>\n",
       "      <td>53</td>\n",
       "      <td>13245</td>\n",
       "      <td>Split_Liable</td>\n",
       "    </tr>\n",
       "    <tr>\n",
       "      <th>2</th>\n",
       "      <td>BAX 14109679</td>\n",
       "      <td>0.0</td>\n",
       "      <td>Third Party Hit Insured</td>\n",
       "      <td>Broker</td>\n",
       "      <td>Phone</td>\n",
       "      <td>Yes</td>\n",
       "      <td>23</td>\n",
       "      <td>1</td>\n",
       "      <td>0</td>\n",
       "      <td>1</td>\n",
       "      <td>30</td>\n",
       "      <td>18790</td>\n",
       "      <td>Not_Liable</td>\n",
       "    </tr>\n",
       "    <tr>\n",
       "      <th>3</th>\n",
       "      <td>BBD 26987439</td>\n",
       "      <td>0.0</td>\n",
       "      <td>Insured Vehicle changing lanes</td>\n",
       "      <td>Nameddriver</td>\n",
       "      <td>Phone</td>\n",
       "      <td>No</td>\n",
       "      <td>50</td>\n",
       "      <td>1</td>\n",
       "      <td>1</td>\n",
       "      <td>1</td>\n",
       "      <td>51</td>\n",
       "      <td>2998</td>\n",
       "      <td>Split_Liable</td>\n",
       "    </tr>\n",
       "    <tr>\n",
       "      <th>4</th>\n",
       "      <td>BLA 41890131</td>\n",
       "      <td>120.0</td>\n",
       "      <td>Insured Vehicle Hit Third Party</td>\n",
       "      <td>Broker</td>\n",
       "      <td>email</td>\n",
       "      <td>No</td>\n",
       "      <td>20</td>\n",
       "      <td>0</td>\n",
       "      <td>1</td>\n",
       "      <td>1</td>\n",
       "      <td>18</td>\n",
       "      <td>17172</td>\n",
       "      <td>Fully_Liable</td>\n",
       "    </tr>\n",
       "  </tbody>\n",
       "</table>\n",
       "</div>"
      ],
      "text/plain": [
       "   Claim_number  Excess                Circumstance_code  \\\n",
       "0  CHC 55530276  1000.0   Insured Vehicle changing lanes   \n",
       "1  NAT 61714811     0.0         Third Party opening door   \n",
       "2  BAX 14109679     0.0          Third Party Hit Insured   \n",
       "3  BBD 26987439     0.0   Insured Vehicle changing lanes   \n",
       "4  BLA 41890131   120.0  Insured Vehicle Hit Third Party   \n",
       "\n",
       "  Organization_notified_by Method_of_notification NCD_indicator  \\\n",
       "0                 Employee                  email           Yes   \n",
       "1              Nameddriver                  Phone            No   \n",
       "2                   Broker                  Phone           Yes   \n",
       "3              Nameddriver                  Phone            No   \n",
       "4                   Broker                  email            No   \n",
       "\n",
       "   Notification_delay  Injury  TP_vehicle_damaged  Insured_vehicle_damaged  \\\n",
       "0                  18       1                   1                        1   \n",
       "1                   5       0                   1                        1   \n",
       "2                  23       1                   0                        1   \n",
       "3                  50       1                   1                        1   \n",
       "4                  20       0                   1                        1   \n",
       "\n",
       "   Insured_age  Estimated_vehicle_value Liability_group  \n",
       "0           41                    13946      Not_Liable  \n",
       "1           53                    13245    Split_Liable  \n",
       "2           30                    18790      Not_Liable  \n",
       "3           51                     2998    Split_Liable  \n",
       "4           18                    17172    Fully_Liable  "
      ]
     },
     "execution_count": 1,
     "metadata": {},
     "output_type": "execute_result"
    }
   ],
   "source": [
    "# Import pandas using the usual alias\n",
    "import pandas as pd \n",
    "\n",
    "# Read the dataset from datasets/DataforRFmodel.xlsx in the sheet named 'Data'\n",
    "claims_raw = pd.read_excel('DataforRFmodel.xlsx', sheet_name='Data')\n",
    "\n",
    "# Print the data types of claims_raw\n",
    "print(\"Data types:\")\n",
    "print(claims_raw.dtypes)\n",
    "\n",
    "# Print the description of claims_raw\n",
    "print(\"\\nDescription:\")\n",
    "print(claims_raw.describe())\n",
    "\n",
    "# Display claims_raw\n",
    "print(\"\\nDataset:\")\n",
    "claims_raw.head()"
   ]
  },
  {
   "cell_type": "markdown",
   "metadata": {
    "dc": {
     "key": "11"
    },
    "deletable": false,
    "editable": false,
    "run_control": {
     "frozen": true
    },
    "tags": [
     "context"
    ]
   },
   "source": [
    "## 2. Handling missing data\n",
    "<p>We have now explored the dataset and are familiar with the columns present in the data. For the purpose of this project, we have anonymised the data but you may expect similar features used to predict liability in a motor claim. Pre-processing is a critical step that has to be done before going into modelling. We will perform a series of basic pre-processing steps in the next few cells and prepare the data for modelling.</p>"
   ]
  },
  {
   "cell_type": "code",
   "execution_count": 3,
   "metadata": {
    "dc": {
     "key": "11"
    },
    "tags": [
     "sample_code"
    ]
   },
   "outputs": [
    {
     "name": "stdout",
     "output_type": "stream",
     "text": [
      "Number of missing values present in each feature are: \n",
      "Claim_number                 0\n",
      "Excess                       8\n",
      "Circumstance_code            9\n",
      "Organization_notified_by    12\n",
      "Method_of_notification       7\n",
      "NCD_indicator                2\n",
      "Notification_delay           0\n",
      "Injury                       0\n",
      "TP_vehicle_damaged           0\n",
      "Insured_vehicle_damaged      0\n",
      "Insured_age                  0\n",
      "Estimated_vehicle_value      0\n",
      "Liability_group              0\n",
      "dtype: int64\n",
      "<class 'pandas.core.frame.DataFrame'>\n",
      "Int64Index: 3620 entries, 0 to 3649\n",
      "Data columns (total 13 columns):\n",
      " #   Column                    Non-Null Count  Dtype  \n",
      "---  ------                    --------------  -----  \n",
      " 0   Claim_number              3620 non-null   object \n",
      " 1   Excess                    3620 non-null   float64\n",
      " 2   Circumstance_code         3620 non-null   object \n",
      " 3   Organization_notified_by  3620 non-null   object \n",
      " 4   Method_of_notification    3620 non-null   object \n",
      " 5   NCD_indicator             3620 non-null   object \n",
      " 6   Notification_delay        3620 non-null   int64  \n",
      " 7   Injury                    3620 non-null   int64  \n",
      " 8   TP_vehicle_damaged        3620 non-null   int64  \n",
      " 9   Insured_vehicle_damaged   3620 non-null   int64  \n",
      " 10  Insured_age               3620 non-null   int64  \n",
      " 11  Estimated_vehicle_value   3620 non-null   int64  \n",
      " 12  Liability_group           3620 non-null   object \n",
      "dtypes: float64(1), int64(6), object(6)\n",
      "memory usage: 395.9+ KB\n"
     ]
    }
   ],
   "source": [
    "# Count the number of missing values in each column of claims_raw\n",
    "n_missing = claims_raw.isnull().sum()\n",
    "print(f\"Number of missing values present in each feature are: \\n{n_missing}\")\n",
    "\n",
    "# This code takes a copy of the dataset before we start subsetting\n",
    "claims = claims_raw.copy(deep = True)\n",
    "data= claims.to_csv()\n",
    "\n",
    "\n",
    "# Drop the missing values from the categorical features of claims\n",
    "categorical_features = ['Circumstance_code', 'Organization_notified_by', 'Method_of_notification', 'NCD_indicator']\n",
    "claims = claims.dropna(subset=categorical_features)\n",
    "\n",
    "# In the Excess feature, fill missing values with 0\n",
    "claims['Excess'] = claims['Excess'].fillna(0)\n",
    "\n",
    "# See the updated dataset\n",
    "claims.info()"
   ]
  },
  {
   "cell_type": "markdown",
   "metadata": {
    "dc": {
     "key": "18"
    },
    "deletable": false,
    "editable": false,
    "run_control": {
     "frozen": true
    },
    "tags": [
     "context"
    ]
   },
   "source": [
    "## 3. Removing Duplicate Claims\n",
    "<p>Now that we have dealt with missing values, let us find out about any duplicate claims present in the dataset and remove them if present. Also we will remove the unwanted features from the dataset and keep only the required features to build the model. This will usually be the unique 'id' column in the dataset.</p>"
   ]
  },
  {
   "cell_type": "code",
   "execution_count": 4,
   "metadata": {
    "dc": {
     "key": "18"
    },
    "tags": [
     "sample_code"
    ]
   },
   "outputs": [
    {
     "name": "stdout",
     "output_type": "stream",
     "text": [
      "There are 10 duplicates in the Claim_number column.\n",
      "\n",
      "<class 'pandas.core.frame.DataFrame'>\n",
      "Int64Index: 3610 entries, 0 to 3649\n",
      "Data columns (total 12 columns):\n",
      " #   Column                    Non-Null Count  Dtype  \n",
      "---  ------                    --------------  -----  \n",
      " 0   Excess                    3610 non-null   float64\n",
      " 1   Circumstance_code         3610 non-null   object \n",
      " 2   Organization_notified_by  3610 non-null   object \n",
      " 3   Method_of_notification    3610 non-null   object \n",
      " 4   NCD_indicator             3610 non-null   object \n",
      " 5   Notification_delay        3610 non-null   int64  \n",
      " 6   Injury                    3610 non-null   int64  \n",
      " 7   TP_vehicle_damaged        3610 non-null   int64  \n",
      " 8   Insured_vehicle_damaged   3610 non-null   int64  \n",
      " 9   Insured_age               3610 non-null   int64  \n",
      " 10  Estimated_vehicle_value   3610 non-null   int64  \n",
      " 11  Liability_group           3610 non-null   object \n",
      "dtypes: float64(1), int64(6), object(5)\n",
      "memory usage: 366.6+ KB\n"
     ]
    }
   ],
   "source": [
    "# Count the duplicate claim numbers in the dataset\n",
    "n_dupes = claims.duplicated(subset=['Claim_number']).sum()\n",
    "print(f\"There are {n_dupes} duplicates in the Claim_number column.\\n\")\n",
    "\n",
    "# Drop the duplicate claims from the dataset\n",
    "claims_no_dupes = claims.drop_duplicates(subset=['Claim_number'])\n",
    "\n",
    "# Drop the entire Claim_number column from claims_no_dupes\n",
    "claims_no_dupes = claims_no_dupes.drop(columns = ['Claim_number'])\n",
    "\n",
    "# See the updated dataset\n",
    "claims_no_dupes.info()"
   ]
  },
  {
   "cell_type": "markdown",
   "metadata": {
    "dc": {
     "key": "25"
    },
    "deletable": false,
    "editable": false,
    "run_control": {
     "frozen": true
    },
    "tags": [
     "context"
    ]
   },
   "source": [
    "## 4. Preparing the model\n",
    "<p>We have certain categorical variables such as <code>Circumstance code</code>, <code>NCD_Indicator</code>, <code>OrganizationNotifiedBy</code> and <code>MethodofNotification</code>. We need to convert these categorical variables into numerical variables which the model could understand.</p>\n",
    "<p>In order to convert this, we use one hot encoding. First we select the corresponding categorical variables and store these variables into a new dataframe. Using this dataframe, perform one hot encoding and join this newly created dataframe with the original dataframe. We will then drop the categorical features from the joined dataframe as these are no longer required. \n",
    "The joined dataframe will only contain numerical type columns which the model will be fitted on. </p>"
   ]
  },
  {
   "cell_type": "code",
   "execution_count": 5,
   "metadata": {
    "dc": {
     "key": "25"
    },
    "tags": [
     "sample_code"
    ]
   },
   "outputs": [],
   "source": [
    "# Import train_test_split() from sklearn.model_selection\n",
    "from sklearn.model_selection import train_test_split \n",
    "\n",
    "# Get the Liability_group column as the response variable\n",
    "response = claims_no_dupes['Liability_group'] # should this be transformed to integers? \n",
    "\n",
    "# Get all columns except Liability_group as the features\n",
    "features = claims_no_dupes.drop(columns = 'Liability_group')\n",
    "\n",
    "# Get dummies for categorical features\n",
    "dummies = pd.get_dummies(features, drop_first=True )\n",
    "\n",
    "\n",
    "# Split the data into training and testing sets\n",
    "X_train, X_test, y_train, y_test = train_test_split(dummies,response , test_size= 0.3, random_state=16660902)"
   ]
  },
  {
   "cell_type": "markdown",
   "metadata": {
    "dc": {
     "key": "32"
    },
    "deletable": false,
    "editable": false,
    "run_control": {
     "frozen": true
    },
    "tags": [
     "context"
    ]
   },
   "source": [
    "## 5. Training the model\n",
    "<p>Our data is now prepared and ready for modelling, lets understand the different ways to approach model training. The problem we are trying to solve is multi-class classification. Therefore, modelling techniques that are relevant to build a model for this type of data have been explored. Upon training multiple models, Random Forest, a bagging technique that uses ensemble of decision trees under the hood to learn from historical data has been used here. Random Forest has given us better performance over other models, it is easier to understand and interpret to the stakeholders which is a great advantage.</p>\n",
    "<p>Now, let us go ahead with model training using Random Forest Classifier.</p>\n",
    "<p>To achieve this, we first initialise the Random Forest model. Secondly, we train the model using the train set and finally, predict the Liability Group using the test dataset.</p>"
   ]
  },
  {
   "cell_type": "code",
   "execution_count": 6,
   "metadata": {
    "dc": {
     "key": "32"
    },
    "tags": [
     "sample_code"
    ]
   },
   "outputs": [
    {
     "data": {
      "text/plain": [
       "Fully_Liable    455\n",
       "Not_Liable      412\n",
       "Split_Liable    216\n",
       "dtype: int64"
      ]
     },
     "execution_count": 6,
     "metadata": {},
     "output_type": "execute_result"
    }
   ],
   "source": [
    "# Import RandomForestClassifier() from sklearn.ensemble\n",
    "from sklearn.ensemble import RandomForestClassifier\n",
    "\n",
    "# Create a random forest classifier object\n",
    "rf = RandomForestClassifier(random_state= 17551101)\n",
    "\n",
    "# Fit the random forest model to the training set\n",
    "rf.fit(X_train, y_train)\n",
    "\n",
    "# Predict the liabilities from the test features\n",
    "y_pred = rf.predict(X_test)\n",
    "\n",
    "# See the prediction counts\n",
    "pd.Series(y_pred).value_counts()"
   ]
  },
  {
   "cell_type": "markdown",
   "metadata": {
    "dc": {
     "key": "39"
    },
    "deletable": false,
    "editable": false,
    "run_control": {
     "frozen": true
    },
    "tags": [
     "context"
    ]
   },
   "source": [
    "## 6. Evaluating the model\n",
    "<p>Now we have trained the model. Lets evaluate the model using the perfomance metrics. We check the Confusion Matrix first to understand True Positives, True Negatives, False Positives and False Negatives followed by classification report which given a detailed output of different metrics for each class.</p>\n",
    "<p>In this case we focus on optimising the recall i.e whether the model is able to identify Fully Liable as Fully Liable and so on.</p>"
   ]
  },
  {
   "cell_type": "code",
   "execution_count": 8,
   "metadata": {
    "dc": {
     "key": "39"
    },
    "tags": [
     "sample_code"
    ]
   },
   "outputs": [
    {
     "name": "stdout",
     "output_type": "stream",
     "text": [
      "Accuracy score: 0.8024\n",
      "\n",
      "Confusion matrix:\n",
      "[[430  43  13]\n",
      " [ 20 297  61]\n",
      " [  5  72 142]]\n",
      "\n",
      "Classification report:\n",
      "              precision    recall  f1-score   support\n",
      "\n",
      "Fully_Liable       0.95      0.88      0.91       486\n",
      "  Not_Liable       0.72      0.79      0.75       378\n",
      "Split_Liable       0.66      0.65      0.65       219\n",
      "\n",
      "    accuracy                           0.80      1083\n",
      "   macro avg       0.77      0.77      0.77      1083\n",
      "weighted avg       0.81      0.80      0.80      1083\n",
      "\n"
     ]
    }
   ],
   "source": [
    "# Import classification_report(), confusion_matrix() and accuracy_score() from sklearn.metrics\n",
    "from sklearn.metrics import classification_report, confusion_matrix, accuracy_score\n",
    "\n",
    "# Get the accuracy score\n",
    "rf_accuracy_score = accuracy_score(y_test, y_pred)\n",
    "print(f\"Accuracy score: {rf_accuracy_score:.4f}\\n\")\n",
    "\n",
    "# Get the confusion matrix\n",
    "rf_confusion_matrix = confusion_matrix(y_test, y_pred)\n",
    "print(f\"Confusion matrix:\\n{rf_confusion_matrix}\\n\")\n",
    "\n",
    "# Get the classification report\n",
    "rf_classification_report = classification_report(y_test, y_pred)\n",
    "print(f\"Classification report:\\n{rf_classification_report}\")"
   ]
  },
  {
   "cell_type": "markdown",
   "metadata": {
    "dc": {
     "key": "46"
    },
    "deletable": false,
    "editable": false,
    "run_control": {
     "frozen": true
    },
    "tags": [
     "context"
    ]
   },
   "source": [
    "## 7. Testing for over or underfitting\n",
    "<p>We can see that our model is able to classify the liability group with 80% accuracy. Lets find out whether the model is overfitting or underfitting using K-fold Cross Validation.</p>"
   ]
  },
  {
   "cell_type": "code",
   "execution_count": 9,
   "metadata": {
    "dc": {
     "key": "46"
    },
    "tags": [
     "sample_code"
    ]
   },
   "outputs": [
    {
     "name": "stdout",
     "output_type": "stream",
     "text": [
      "[0.82271468 0.83379501 0.79224377 0.83379501 0.81440443 0.79501385\n",
      " 0.82548476 0.80886427 0.79778393 0.81717452]\n",
      "Accuracy: 81.4%\n"
     ]
    }
   ],
   "source": [
    "# Import KFold() and cross_val_score() from sklearn.model_selection\n",
    "from sklearn.model_selection import KFold, cross_val_score\n",
    "\n",
    "# Setup up k-fold cross-validation with 10 splits, using shuffling\n",
    "k_folds = KFold(n_splits=10, shuffle=True, random_state= 18420505 )\n",
    "\n",
    "# Calculate the cross-validation score for each fold\n",
    "accuracy_by_fold = cross_val_score(rf,dummies,response , cv=k_folds )\n",
    "\n",
    "# See the results\n",
    "print(accuracy_by_fold)\n",
    "print(f\"Accuracy: {accuracy_by_fold.mean():.1%}\")"
   ]
  },
  {
   "cell_type": "markdown",
   "metadata": {
    "dc": {
     "key": "53"
    },
    "deletable": false,
    "editable": false,
    "run_control": {
     "frozen": true
    },
    "tags": [
     "context"
    ]
   },
   "source": [
    "## 8. Hyperparameter tuning\n",
    "<p>We have figured that the model is working properly by observing the K-Fold cross validation results.</p>\n",
    "<p>Performance of machine learning models can be optimized by tuning the model's hyperparameters. We have many hyperparameters for random forests, but the most important is often the number of features we sample at each split (<code>RandomForestClassifier</code>'s <code>max_features</code> argument).</p>\n",
    "<p>Usually, we can use scikit-learn's <code>GridSearchCV()</code> or <code>RandomizedSearchCV()</code> method to search hyperparameters. In this case we want to fit our models on the train data and evaluate on the test data. So we will use scikit-learn's <code>ParameterGrid()</code> function to create combinations of hyperparameters to search.</p>"
   ]
  },
  {
   "cell_type": "code",
   "execution_count": 10,
   "metadata": {
    "dc": {
     "key": "53"
    },
    "tags": [
     "sample_code"
    ]
   },
   "outputs": [
    {
     "name": "stdout",
     "output_type": "stream",
     "text": [
      "Highest test score: 0.817\n",
      "Best hyperparameters: {'random_state': 19120415, 'n_estimators': 100, 'max_features': 16, 'max_depth': 10}\n"
     ]
    }
   ],
   "source": [
    "# Import ParameterGrid() from sklearn.model_selection\n",
    "from sklearn.model_selection import ParameterGrid\n",
    "\n",
    "# Import argmax() from numpy\n",
    "import numpy as np\n",
    "\n",
    "# Complete the hyperparameter grid\n",
    "hyperparameter_grid = ParameterGrid({\n",
    "    'n_estimators': [100, 200, 400], \n",
    "    'max_depth': [10,20,40], \n",
    "    'max_features': [4,8,16], \n",
    "    'random_state': [19120415]\n",
    "})\n",
    "\n",
    "# This will store the model results\n",
    "test_scores = []\n",
    "\n",
    "# Loop over hyperparameter_grid\n",
    "for this_grid in hyperparameter_grid:\n",
    "    rf.set_params(**this_grid)              \n",
    "    # Fit the random forest model to the training dataset\n",
    "    rf.fit(X_train, y_train)\n",
    "    # Calculate the random forest score on the test dataset\n",
    "    this_score = rf.score(X_test,y_test)\n",
    "    # Append the score from this iteration\n",
    "    test_scores.append(this_score)\n",
    "\n",
    "# Get the index of the highest test score\n",
    "best_idx = np.argmax(test_scores)\n",
    "\n",
    "# Get the value of the highest test score\n",
    "best_test_score = test_scores[best_idx]\n",
    "\n",
    "# Get the hyperparameter grid element with the highest test score\n",
    "best_hyperparameters = hyperparameter_grid[best_idx]\n",
    "\n",
    "# See the results\n",
    "print(f\"Highest test score: {best_test_score:.3f}\")\n",
    "print(f\"Best hyperparameters: {best_hyperparameters}\")"
   ]
  },
  {
   "cell_type": "markdown",
   "metadata": {
    "dc": {
     "key": "60"
    },
    "deletable": false,
    "editable": false,
    "run_control": {
     "frozen": true
    },
    "tags": [
     "context"
    ]
   },
   "source": [
    "## 9. Running the best model\n",
    "<p>We have optimized the parameters using sklearn's <code>ParameterGrid</code>, trying several random values to find the ones that give better results and increase the overall performance of the model.</p>"
   ]
  },
  {
   "cell_type": "code",
   "execution_count": 11,
   "metadata": {
    "dc": {
     "key": "60"
    },
    "tags": [
     "sample_code"
    ]
   },
   "outputs": [
    {
     "name": "stdout",
     "output_type": "stream",
     "text": [
      "RandomForestClassifier(max_depth=10, max_features=16, random_state=19120415)\n",
      "Best accuracy score: 81.72%\n",
      "\n",
      "Best confusion matrix:\n",
      "[[431  49   6]\n",
      " [ 12 316  50]\n",
      " [  4  77 138]]\n",
      "\n",
      "Best classification report:\n",
      "              precision    recall  f1-score   support\n",
      "\n",
      "Fully_Liable       0.96      0.89      0.92       486\n",
      "  Not_Liable       0.71      0.84      0.77       378\n",
      "Split_Liable       0.71      0.63      0.67       219\n",
      "\n",
      "    accuracy                           0.82      1083\n",
      "   macro avg       0.80      0.78      0.79      1083\n",
      "weighted avg       0.83      0.82      0.82      1083\n",
      "\n"
     ]
    }
   ],
   "source": [
    "# Create a random forest classifier object with the best hyperparameters\n",
    "best_rf = RandomForestClassifier(n_estimators = 100, max_features= 16, max_depth = 10, random_state=19120415)\n",
    "\n",
    "print(best_rf)\n",
    "\n",
    "# Fit this best model to the training set\n",
    "best_rf.fit(X_train, y_train)\n",
    "\n",
    "# Predict the responses from the testing set\n",
    "best_y_pred = best_rf.predict(X_test)\n",
    "\n",
    "# Get the accuracy score\n",
    "best_rf_accuracy_score = accuracy_score(y_test, best_y_pred)\n",
    "print(f\"Best accuracy score: {best_rf_accuracy_score:.2%}\\n\")\n",
    "\n",
    "# Get the confusion matrix\n",
    "best_rf_confusion_matrix = confusion_matrix(y_test, best_y_pred)\n",
    "print(f\"Best confusion matrix:\\n{best_rf_confusion_matrix}\\n\")\n",
    "\n",
    "# Get the classification report\n",
    "best_rf_classification_report = classification_report(y_test, best_y_pred)\n",
    "print(f\"Best classification report:\\n{best_rf_classification_report}\")"
   ]
  },
  {
   "cell_type": "markdown",
   "metadata": {
    "dc": {
     "key": "67"
    },
    "deletable": false,
    "editable": false,
    "run_control": {
     "frozen": true
    },
    "tags": [
     "context"
    ]
   },
   "source": [
    "## 10. Examining feature importance\n",
    "<p>It is important to identify which features are most important in predicting the results.</p>"
   ]
  },
  {
   "cell_type": "code",
   "execution_count": 12,
   "metadata": {
    "dc": {
     "key": "67"
    },
    "tags": [
     "sample_code"
    ]
   },
   "outputs": [
    {
     "data": {
      "image/png": "[encoded data removed]",
      "text/plain": [
       "<Figure size 720x720 with 1 Axes>"
      ]
     },
     "metadata": {
      "needs_background": "light"
     },
     "output_type": "display_data"
    }
   ],
   "source": [
    "# Import seaborn and matplotlib.pyplot using the usual alias\n",
    "import matplotlib.pyplot as plt\n",
    "import seaborn as sns\n",
    "\n",
    "# Code provided to increase the plot size for better legibility\n",
    "plt.rcParams['figure.figsize'] = (10, 10)\n",
    "\n",
    "# Create a DataFrame from a dictionary\n",
    "feature_importances = pd.DataFrame.from_dict({\n",
    "    # Set the Feature column to the columns of dummies\n",
    "    'Feature': dummies.columns,\n",
    "    # Set the Value column to the feature importances of the best model\n",
    "    'Value': best_rf.feature_importances_\n",
    "})\n",
    "\n",
    "# Sort feature_importances by the Value column\n",
    "feature_importances_sorted = feature_importances.sort_values(by='Value', ascending=False)\n",
    "\n",
    "# Using feature_importances_sorted, draw a barplot of Feature vs. Value\n",
    "sns.barplot(data= feature_importances_sorted, x='Value', y='Feature')\n",
    "plt.show()"
   ]
  },
  {
   "cell_type": "markdown",
   "metadata": {
    "dc": {
     "key": "74"
    },
    "deletable": false,
    "editable": false,
    "run_control": {
     "frozen": true
    },
    "tags": [
     "context"
    ]
   },
   "source": [
    "## 11. More model explanations with SHAP\n",
    "<p>Congratulations on making it to the end! In this capstone project you have learnt how to read and prepare the data, build a Random Forest classifier and tune the model to optimise performance. In order to build a multi-class classification model it is very important to understand the business context and figure out the best metrics that should be optimised to understand the model performance. Along with this, understanding the data and choosing the best class balancing method will further increase the model’s performance.</p>\n",
    "<p>We encourage you to test other classification models such as Ridge Classifier, Gradient Boosted classifiers and compare how different models perform. To increase the model performance further, explore how different models are tuned and other techniques like GridsearchCV, Bayesian Optimisation, etc. used for hyper-parameter tuning. Also, we recommend you to explore the SHAP library in detail and check out different plots like decision plot, force plot, partial dependency plots, etc. to explain the model’s predictions.</p>\n",
    "<p>To conclude this project, you're going to get a preview of how SHAP works.</p>\n",
    "<p>SHAP which stands for <strong>SH</strong>apley <strong>A</strong>dditive ex<strong>P</strong>lanations is a solution concept used in Game Theory that involves fairly distributing both gains and costs to several actors working in coalition. SHAP values interpret the impact of having a certain value for a given feature in comparison to the prediction we'd make if that feature took some baseline value. The summary plot combines feature importance with feature effects. Each point on the summary plot is a Shapley value for a feature and an instance. The position on the y-axis is determined by the feature and on the x-axis by the Shapley value.</p>\n",
    "<p>Now lets see how the Features in our dataset contribute towards the predicting liability group.</p>"
   ]
  },
  {
   "cell_type": "code",
   "execution_count": 14,
   "metadata": {
    "dc": {
     "key": "74"
    },
    "tags": [
     "sample_code"
    ]
   },
   "outputs": [
    {
     "data": {
      "image/png": "[encoded data removed]",
      "text/plain": [
       "<Figure size 576x684 with 2 Axes>"
      ]
     },
     "metadata": {
      "needs_background": "light"
     },
     "output_type": "display_data"
    }
   ],
   "source": [
    "# Import TreeExplainer, and summary_plot from shap\n",
    "import shap\n",
    "from shap import TreeExplainer, summary_plot\n",
    "\n",
    "# Create a tree explainer object from the best model\n",
    "explainer = TreeExplainer(best_rf)\n",
    "\n",
    "# Get the shap values from the testing features, without checking additivity\n",
    "shap_values = explainer.shap_values(X_test, check_additivity=False)\n",
    "\n",
    "# Draw a summary plot of the first shap value, with the testing features, getting class names from the best model\n",
    "shap.summary_plot(shap_values[0], X_test, class_names = best_rf.classes_)"
   ]
  },
  {
   "cell_type": "markdown",
   "metadata": {},
   "source": [
    "We encourage you to test other classification models such as Ridge Classifier, Gradient Boosted classifiers and compare how different models perform. To increase the model performance further, explore how different models are tuned and other techniques like GridsearchCV, Bayesian Optimisation, etc. used for hyper-parameter tuning. Also, we recommend you to explore the SHAP library in detail and check out different plots like decision plot, force plot, partial dependency plots, etc. to explain the model’s predictions."
   ]
  }
 ],
 "metadata": {
  "kernelspec": {
   "display_name": "Python 3 (ipykernel)",
   "language": "python",
   "name": "python3"
  },
  "language_info": {
   "codemirror_mode": {
    "name": "ipython",
    "version": 3
   },
   "file_extension": ".py",
   "mimetype": "text/x-python",
   "name": "python",
   "nbconvert_exporter": "python",
   "pygments_lexer": "ipython3",
   "version": "3.9.15"
  }
 },
 "nbformat": 4,
 "nbformat_minor": 2
}
