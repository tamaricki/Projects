{
 "cells": [
  {
   "cell_type": "markdown",
   "metadata": {},
   "source": [
    "# OKCupid Portfolio Project \n",
    "## Scope ##\n",
    "\n",
    "This project analyzes data from on-line dating application OKCupid and based on available data will try to resolve particular problem. \n",
    "\n",
    "## Goal ##\n",
    "\n",
    "Primary goal of this project is to scope, prepare, analyze data, and to create machine learning model which would help particular question to be answered . To do those activities, I’ll be using file profiles.csv provided by Codeacademy.com and apply  Data Analysis and Machine Learning skills  learned  through their Data Scientist career path. Project will have 3 parts: \n",
    "\n",
    "- Exploring OKCupid Data\n",
    "- Classification of OKCupid portal user as either religious or non-religious person\n",
    "- Trying to predict the religion of the user\n",
    "\n",
    "Praying to God alone is unlikely to change the fortunes of somebody’s  love life , but sense of purpose, common mission, values and rituals embedded in various religions can play a role at least when deciding whether to approach another person or not.  \n",
    "Therefore, assumption for further analysis is that religion is relevant in modern romantic life . File provided in the project contains religion information, and I’ll use it to answer religion related questions.\n",
    "In that regard, key questions which project would like to answer on basis of available data are following: \n",
    "\n",
    "- Is it possible to predict if person is religious ?\n",
    "- Is it possible to predict the religion of the person ? \n",
    "\n"
   ]
  },
  {
   "cell_type": "markdown",
   "metadata": {},
   "source": [
    "### Import of Libraries ###"
   ]
  },
  {
   "cell_type": "code",
   "execution_count": 1,
   "metadata": {},
   "outputs": [],
   "source": [
    "import pandas as pd \n",
    "import matplotlib.pyplot as plt\n",
    "import seaborn as sns\n",
    "import numpy as np"
   ]
  },
  {
   "cell_type": "code",
   "execution_count": 2,
   "metadata": {},
   "outputs": [
    {
     "name": "stdout",
     "output_type": "stream",
     "text": [
      "Size of file : 59946 entries\n"
     ]
    }
   ],
   "source": [
    "users = pd.read_csv('profiles.csv')\n",
    "print('Size of file : ' + str(len(users)) + ' entries')"
   ]
  },
  {
   "cell_type": "markdown",
   "metadata": {},
   "source": [
    "### Analyzing Data Types ###"
   ]
  },
  {
   "cell_type": "code",
   "execution_count": 3,
   "metadata": {
    "scrolled": true
   },
   "outputs": [
    {
     "name": "stdout",
     "output_type": "stream",
     "text": [
      "<class 'pandas.core.frame.DataFrame'>\n",
      "RangeIndex: 59946 entries, 0 to 59945\n",
      "Data columns (total 31 columns):\n",
      " #   Column       Non-Null Count  Dtype  \n",
      "---  ------       --------------  -----  \n",
      " 0   age          59946 non-null  int64  \n",
      " 1   body_type    54650 non-null  object \n",
      " 2   diet         35551 non-null  object \n",
      " 3   drinks       56961 non-null  object \n",
      " 4   drugs        45866 non-null  object \n",
      " 5   education    53318 non-null  object \n",
      " 6   essay0       54458 non-null  object \n",
      " 7   essay1       52374 non-null  object \n",
      " 8   essay2       50308 non-null  object \n",
      " 9   essay3       48470 non-null  object \n",
      " 10  essay4       49409 non-null  object \n",
      " 11  essay5       49096 non-null  object \n",
      " 12  essay6       46175 non-null  object \n",
      " 13  essay7       47495 non-null  object \n",
      " 14  essay8       40721 non-null  object \n",
      " 15  essay9       47343 non-null  object \n",
      " 16  ethnicity    54266 non-null  object \n",
      " 17  height       59943 non-null  float64\n",
      " 18  income       59946 non-null  int64  \n",
      " 19  job          51748 non-null  object \n",
      " 20  last_online  59946 non-null  object \n",
      " 21  location     59946 non-null  object \n",
      " 22  offspring    24385 non-null  object \n",
      " 23  orientation  59946 non-null  object \n",
      " 24  pets         40025 non-null  object \n",
      " 25  religion     39720 non-null  object \n",
      " 26  sex          59946 non-null  object \n",
      " 27  sign         48890 non-null  object \n",
      " 28  smokes       54434 non-null  object \n",
      " 29  speaks       59896 non-null  object \n",
      " 30  status       59946 non-null  object \n",
      "dtypes: float64(1), int64(2), object(28)\n",
      "memory usage: 14.2+ MB\n"
     ]
    }
   ],
   "source": [
    "users.info()"
   ]
  },
  {
   "cell_type": "markdown",
   "metadata": {},
   "source": [
    "File has 59946 entries, from 31, only  3 columns are numeric "
   ]
  },
  {
   "cell_type": "code",
   "execution_count": 34,
   "metadata": {},
   "outputs": [
    {
     "data": {
      "text/html": [
       "<div>\n",
       "<style scoped>\n",
       "    .dataframe tbody tr th:only-of-type {\n",
       "        vertical-align: middle;\n",
       "    }\n",
       "\n",
       "    .dataframe tbody tr th {\n",
       "        vertical-align: top;\n",
       "    }\n",
       "\n",
       "    .dataframe thead th {\n",
       "        text-align: right;\n",
       "    }\n",
       "</style>\n",
       "<table border=\"1\" class=\"dataframe\">\n",
       "  <thead>\n",
       "    <tr style=\"text-align: right;\">\n",
       "      <th></th>\n",
       "      <th>Features</th>\n",
       "      <th>Zero_Values</th>\n",
       "      <th>Colum_Description</th>\n",
       "    </tr>\n",
       "  </thead>\n",
       "  <tbody>\n",
       "    <tr>\n",
       "      <th>0</th>\n",
       "      <td>age</td>\n",
       "      <td>0</td>\n",
       "      <td>age of user</td>\n",
       "    </tr>\n",
       "    <tr>\n",
       "      <th>1</th>\n",
       "      <td>body_type</td>\n",
       "      <td>5296</td>\n",
       "      <td>body type of user</td>\n",
       "    </tr>\n",
       "    <tr>\n",
       "      <th>2</th>\n",
       "      <td>diet</td>\n",
       "      <td>24395</td>\n",
       "      <td>dietary information</td>\n",
       "    </tr>\n",
       "    <tr>\n",
       "      <th>3</th>\n",
       "      <td>drinks</td>\n",
       "      <td>2985</td>\n",
       "      <td>alcohol consumption</td>\n",
       "    </tr>\n",
       "    <tr>\n",
       "      <th>4</th>\n",
       "      <td>drugs</td>\n",
       "      <td>14080</td>\n",
       "      <td>drug usage</td>\n",
       "    </tr>\n",
       "    <tr>\n",
       "      <th>5</th>\n",
       "      <td>education</td>\n",
       "      <td>6628</td>\n",
       "      <td>educational attainment</td>\n",
       "    </tr>\n",
       "    <tr>\n",
       "      <th>6</th>\n",
       "      <td>essay0</td>\n",
       "      <td>5488</td>\n",
       "      <td>My self summary</td>\n",
       "    </tr>\n",
       "    <tr>\n",
       "      <th>7</th>\n",
       "      <td>essay1</td>\n",
       "      <td>7572</td>\n",
       "      <td>What I’m doing with my life</td>\n",
       "    </tr>\n",
       "    <tr>\n",
       "      <th>8</th>\n",
       "      <td>essay2</td>\n",
       "      <td>9638</td>\n",
       "      <td>I’m really good at</td>\n",
       "    </tr>\n",
       "    <tr>\n",
       "      <th>9</th>\n",
       "      <td>essay3</td>\n",
       "      <td>11476</td>\n",
       "      <td>The first thing people usually notice about me</td>\n",
       "    </tr>\n",
       "    <tr>\n",
       "      <th>10</th>\n",
       "      <td>essay4</td>\n",
       "      <td>10537</td>\n",
       "      <td>Favorite books, movies, show, music, and food</td>\n",
       "    </tr>\n",
       "    <tr>\n",
       "      <th>11</th>\n",
       "      <td>essay5</td>\n",
       "      <td>10850</td>\n",
       "      <td>The six things I could never do without</td>\n",
       "    </tr>\n",
       "    <tr>\n",
       "      <th>12</th>\n",
       "      <td>essay6</td>\n",
       "      <td>13771</td>\n",
       "      <td>I spend a lot of time thinking about</td>\n",
       "    </tr>\n",
       "    <tr>\n",
       "      <th>13</th>\n",
       "      <td>essay7</td>\n",
       "      <td>12451</td>\n",
       "      <td>On a typical Friday night I am</td>\n",
       "    </tr>\n",
       "    <tr>\n",
       "      <th>14</th>\n",
       "      <td>essay8</td>\n",
       "      <td>19225</td>\n",
       "      <td>The most private thing I am willing to admit</td>\n",
       "    </tr>\n",
       "    <tr>\n",
       "      <th>15</th>\n",
       "      <td>essay9</td>\n",
       "      <td>12603</td>\n",
       "      <td>You should message me if…</td>\n",
       "    </tr>\n",
       "    <tr>\n",
       "      <th>16</th>\n",
       "      <td>ethnicity</td>\n",
       "      <td>5680</td>\n",
       "      <td>ethnic backgrounds</td>\n",
       "    </tr>\n",
       "    <tr>\n",
       "      <th>17</th>\n",
       "      <td>height</td>\n",
       "      <td>3</td>\n",
       "      <td>height of user</td>\n",
       "    </tr>\n",
       "    <tr>\n",
       "      <th>18</th>\n",
       "      <td>income</td>\n",
       "      <td>0</td>\n",
       "      <td>income of user</td>\n",
       "    </tr>\n",
       "    <tr>\n",
       "      <th>19</th>\n",
       "      <td>job</td>\n",
       "      <td>8198</td>\n",
       "      <td>employment description</td>\n",
       "    </tr>\n",
       "    <tr>\n",
       "      <th>20</th>\n",
       "      <td>last_online</td>\n",
       "      <td>0</td>\n",
       "      <td>last login</td>\n",
       "    </tr>\n",
       "    <tr>\n",
       "      <th>21</th>\n",
       "      <td>location</td>\n",
       "      <td>0</td>\n",
       "      <td>user locations</td>\n",
       "    </tr>\n",
       "    <tr>\n",
       "      <th>22</th>\n",
       "      <td>offspring</td>\n",
       "      <td>35561</td>\n",
       "      <td>children status</td>\n",
       "    </tr>\n",
       "    <tr>\n",
       "      <th>23</th>\n",
       "      <td>orientation</td>\n",
       "      <td>0</td>\n",
       "      <td>sexual orientation</td>\n",
       "    </tr>\n",
       "    <tr>\n",
       "      <th>24</th>\n",
       "      <td>pets</td>\n",
       "      <td>19921</td>\n",
       "      <td>pet preferences</td>\n",
       "    </tr>\n",
       "    <tr>\n",
       "      <th>25</th>\n",
       "      <td>religion</td>\n",
       "      <td>20226</td>\n",
       "      <td>religious background</td>\n",
       "    </tr>\n",
       "    <tr>\n",
       "      <th>26</th>\n",
       "      <td>sex</td>\n",
       "      <td>0</td>\n",
       "      <td>gender</td>\n",
       "    </tr>\n",
       "    <tr>\n",
       "      <th>27</th>\n",
       "      <td>sign</td>\n",
       "      <td>11056</td>\n",
       "      <td>astrological symbol</td>\n",
       "    </tr>\n",
       "    <tr>\n",
       "      <th>28</th>\n",
       "      <td>smokes</td>\n",
       "      <td>5512</td>\n",
       "      <td>smoking consumption</td>\n",
       "    </tr>\n",
       "    <tr>\n",
       "      <th>29</th>\n",
       "      <td>speaks</td>\n",
       "      <td>50</td>\n",
       "      <td>language spoken</td>\n",
       "    </tr>\n",
       "    <tr>\n",
       "      <th>30</th>\n",
       "      <td>status</td>\n",
       "      <td>0</td>\n",
       "      <td>relationship status</td>\n",
       "    </tr>\n",
       "  </tbody>\n",
       "</table>\n",
       "</div>"
      ],
      "text/plain": [
       "       Features  Zero_Values                               Colum_Description\n",
       "0           age            0                                     age of user\n",
       "1     body_type         5296                               body type of user\n",
       "2          diet        24395                             dietary information\n",
       "3        drinks         2985                             alcohol consumption\n",
       "4         drugs        14080                                      drug usage\n",
       "5     education         6628                          educational attainment\n",
       "6        essay0         5488                                 My self summary\n",
       "7        essay1         7572                     What I’m doing with my life\n",
       "8        essay2         9638                              I’m really good at\n",
       "9        essay3        11476  The first thing people usually notice about me\n",
       "10       essay4        10537   Favorite books, movies, show, music, and food\n",
       "11       essay5        10850         The six things I could never do without\n",
       "12       essay6        13771            I spend a lot of time thinking about\n",
       "13       essay7        12451                  On a typical Friday night I am\n",
       "14       essay8        19225    The most private thing I am willing to admit\n",
       "15       essay9        12603                       You should message me if…\n",
       "16    ethnicity         5680                              ethnic backgrounds\n",
       "17       height            3                                  height of user\n",
       "18       income            0                                  income of user\n",
       "19          job         8198                          employment description\n",
       "20  last_online            0                                      last login\n",
       "21     location            0                                  user locations\n",
       "22    offspring        35561                                 children status\n",
       "23  orientation            0                              sexual orientation\n",
       "24         pets        19921                                 pet preferences\n",
       "25     religion        20226                            religious background\n",
       "26          sex            0                                          gender\n",
       "27         sign        11056                             astrological symbol\n",
       "28       smokes         5512                             smoking consumption\n",
       "29       speaks           50                                 language spoken\n",
       "30       status            0                             relationship status"
      ]
     },
     "execution_count": 34,
     "metadata": {},
     "output_type": "execute_result"
    }
   ],
   "source": [
    "zero = users.isnull().sum().reset_index()\n",
    "descriptions = ['age of user', 'body type of user', 'dietary information', 'alcohol consumption', 'drug usage', 'educational attainment', 'My self summary','What I’m doing with my life','I’m really good at','The first thing people usually notice about me','Favorite books, movies, show, music, and food', 'The six things I could never do without','I spend a lot of time thinking about', 'On a typical Friday night I am', 'The most private thing I am willing to admit','You should message me if…','ethnic backgrounds','height of user','income of user', 'employment description','last login','user locations','children status','sexual orientation','pet preferences','religious background', 'gender', 'astrological symbol','smoking consumption','language spoken','relationship status']\n",
    "data = {'Features': users.columns, 'Zero_Values': zero[0], 'Colum_Description': descriptions}\n",
    "df =pd.DataFrame(data)\n",
    "df\n"
   ]
  },
  {
   "cell_type": "markdown",
   "metadata": {},
   "source": [
    "Table contains column names, how many entries are missing per column and column description . What I can see from here is that:\n",
    "- Interestingly, income entries are fully available\n",
    "- Data contains essays of the users, which could be great source for answering project questions by applying NLP and Naive Bayes classifier\n",
    "-  First thoughts on  features which could be useful to predict the religion and religion status:  of users: diet, columns desribing vices (drinks, drugs, smokes), age, height,education, ethnicity, job, status "
   ]
  },
  {
   "cell_type": "markdown",
   "metadata": {},
   "source": [
    "**Analysis of quantitative variables**"
   ]
  },
  {
   "cell_type": "markdown",
   "metadata": {},
   "source": [
    "Let's check the income column"
   ]
  },
  {
   "cell_type": "code",
   "execution_count": 5,
   "metadata": {},
   "outputs": [
    {
     "data": {
      "text/plain": [
       "-1          48442\n",
       " 20000       2952\n",
       " 100000      1621\n",
       " 80000       1111\n",
       " 30000       1048\n",
       " 40000       1005\n",
       " 50000        975\n",
       " 60000        736\n",
       " 70000        707\n",
       " 150000       631\n",
       " 1000000      521\n",
       " 250000       149\n",
       " 500000        48\n",
       "Name: income, dtype: int64"
      ]
     },
     "execution_count": 5,
     "metadata": {},
     "output_type": "execute_result"
    }
   ],
   "source": [
    "users.income.value_counts()"
   ]
  },
  {
   "cell_type": "markdown",
   "metadata": {},
   "source": [
    "It turns out, majority of users don't provide their earnings. Which I find appropriate since this shouldn't be a criteria to choose a partner. Below are min, max values of remaining numeric data  "
   ]
  },
  {
   "cell_type": "code",
   "execution_count": 4,
   "metadata": {
    "scrolled": true
   },
   "outputs": [
    {
     "name": "stdout",
     "output_type": "stream",
     "text": [
      "Minimum age in data set 18\n",
      "Maximum age in data set 110\n",
      "Minimum height in data set 1.0\n",
      "Maximum height in data set 95.0\n"
     ]
    }
   ],
   "source": [
    "print('Minimum age in data set {}'.format(users.age.min()))\n",
    "print('Maximum age in data set {}'.format(users.age.max()))\n",
    "print('Minimum height in data set {}'.format(users.height.min()))\n",
    "print('Maximum height in data set {}'.format(users.height.max()))"
   ]
  },
  {
   "cell_type": "code",
   "execution_count": 35,
   "metadata": {
    "scrolled": true
   },
   "outputs": [
    {
     "name": "stdout",
     "output_type": "stream",
     "text": [
      "27\n"
     ]
    }
   ],
   "source": [
    "print(len(users[users['height']<50]))"
   ]
  },
  {
   "cell_type": "markdown",
   "metadata": {},
   "source": [
    "**Outliers** "
   ]
  },
  {
   "cell_type": "markdown",
   "metadata": {},
   "source": [
    "\n",
    "There are 27 users who are having height less than 50 inches (127cm). As per Wikipedia (https://en.wikipedia.org/wiki/Dwarfism#:~:text=Dwarfism%20occurs%20when%20an%20organism,with%20dwarfism%20are%20slightly%20taller.,average) height of person having dwarfism is  122 centimetres (4 ft 0 in), although some individuals with dwarfism are slightly taller. \n",
    "Therefore, I will remove users with:\n",
    "- hight below 120 inches, \n",
    "- users taller than 80 inches (203 cm) and \n",
    "- users who are older than 85 years   "
   ]
  },
  {
   "cell_type": "code",
   "execution_count": 5,
   "metadata": {},
   "outputs": [
    {
     "data": {
      "text/plain": [
       "(59808, 31)"
      ]
     },
     "execution_count": 5,
     "metadata": {},
     "output_type": "execute_result"
    }
   ],
   "source": [
    "# clean up the outliers \n",
    "users = users[(users['age']<85) & (users['height']<80) & (users['height']>50)]\n",
    "users.shape"
   ]
  },
  {
   "cell_type": "markdown",
   "metadata": {},
   "source": [
    "**Distribution of Age and Height after removing extreme values**"
   ]
  },
  {
   "cell_type": "code",
   "execution_count": 6,
   "metadata": {
    "scrolled": true
   },
   "outputs": [
    {
     "data": {
      "image/png": "[encoded data removed]",
      "text/plain": [
       "<Figure size 1224x576 with 2 Axes>"
      ]
     },
     "metadata": {},
     "output_type": "display_data"
    }
   ],
   "source": [
    "sns.set(style = 'whitegrid')\n",
    "f, ax = plt.subplots(1, 2, figsize=(17,8))\n",
    "labels = ['males', 'females']\n",
    "ax[0] = sns.violinplot(ax = ax[0], y = 'age', x='sex', data=users, palette='Set1')\n",
    "ax[1] = sns.violinplot(ax = ax[1], x = 'height', y= 'sex',data=users, palette='Set1')\n",
    "ax[0].set_title(\"Distribution of Age Among Male and Female Users of OKCupid Portal\")\n",
    "ax[1].set_title(\"Distribution of Height Among Male and Female Users of OKCupit Portal\")\n",
    "ax[0].set_xticks(range(2))\n",
    "ax[0].set_xticklabels(labels)\n",
    "ax[1].set_yticks(range(2))\n",
    "ax[1].set_yticklabels(labels)\n",
    "plt.show()\n",
    "\n",
    "#fig.set_yticks(range(11))\n",
    "#fig.set_yticklabels(labels)\n"
   ]
  },
  {
   "cell_type": "code",
   "execution_count": 36,
   "metadata": {},
   "outputs": [
    {
     "name": "stdout",
     "output_type": "stream",
     "text": [
      "average age of portal users is: \n",
      "sex\n",
      "f    32.819125\n",
      "m    32.022876\n",
      "Name: age, dtype: float64\n",
      "median:30.0\n"
     ]
    }
   ],
   "source": [
    "averages = users.groupby('sex').age.mean()\n",
    "print(\"average age of portal users is: \")\n",
    "print(averages)\n",
    "print('median:' + str(users.age.median()))"
   ]
  },
  {
   "cell_type": "markdown",
   "metadata": {},
   "source": [
    "- Average Age of Users is approximimately the same between sexes, 32 years. After calculating it, it is clear that average is slightly higher for females\n",
    "- Distribution is right skewed, meaning that there are more users with age of less than the average\n",
    "- Median Value is around 30 which is also clearly visible by white dot in the violin plot\n",
    "- Median value for height is aroung 65 inches for women and around 70 inches for men\n",
    "\n"
   ]
  },
  {
   "cell_type": "markdown",
   "metadata": {},
   "source": [
    "**Distribution of Height among males and females using histogram**\n",
    "Height Distribution with violinplot was not that clear "
   ]
  },
  {
   "cell_type": "code",
   "execution_count": 10,
   "metadata": {},
   "outputs": [
    {
     "data": {
      "image/png": "[encoded data removed]",
      "text/plain": [
       "<Figure size 720x432 with 1 Axes>"
      ]
     },
     "metadata": {},
     "output_type": "display_data"
    }
   ],
   "source": [
    "plt.figure(figsize=(10,6))\n",
    "sns.histplot(data = users, x='height', bins = 20, hue='sex', palette='Set1')\n",
    "\n",
    "\n",
    "plt.show()"
   ]
  },
  {
   "cell_type": "markdown",
   "metadata": {},
   "source": [
    "## Cleaning up and Examination of  Categorical Variables ##"
   ]
  },
  {
   "cell_type": "markdown",
   "metadata": {},
   "source": [
    "**Education distribution differentiated by sex**"
   ]
  },
  {
   "cell_type": "code",
   "execution_count": 11,
   "metadata": {},
   "outputs": [
    {
     "data": {
      "text/plain": [
       "graduated from college/university    23926\n",
       "graduated from masters program        8952\n",
       "working on college/university         5700\n",
       "working on masters program            1682\n",
       "graduated from two-year college       1529\n",
       "graduated from high school            1418\n",
       "graduated from ph.d program           1268\n",
       "graduated from law school             1120\n",
       "working on two-year college           1069\n",
       "dropped out of college/university      994\n",
       "working on ph.d program                981\n",
       "college/university                     797\n",
       "graduated from space camp              652\n",
       "dropped out of space camp              517\n",
       "graduated from med school              446\n",
       "working on space camp                  442\n",
       "working on law school                  268\n",
       "two-year college                       221\n",
       "working on med school                  212\n",
       "dropped out of two-year college        191\n",
       "dropped out of masters program         140\n",
       "masters program                        134\n",
       "dropped out of ph.d program            125\n",
       "dropped out of high school             101\n",
       "high school                             95\n",
       "working on high school                  87\n",
       "space camp                              56\n",
       "ph.d program                            26\n",
       "law school                              19\n",
       "dropped out of law school               17\n",
       "dropped out of med school               12\n",
       "med school                              11\n",
       "Name: education, dtype: int64"
      ]
     },
     "execution_count": 11,
     "metadata": {},
     "output_type": "execute_result"
    }
   ],
   "source": [
    "users.education.value_counts()"
   ]
  },
  {
   "cell_type": "markdown",
   "metadata": {},
   "source": [
    "There are different statuses for each type of attained education. In this project users who were dropped out or still styding particular school will be considered as they have achieved the particular grade.  "
   ]
  },
  {
   "cell_type": "markdown",
   "metadata": {},
   "source": [
    "**Cleaning up the education data**"
   ]
  },
  {
   "cell_type": "code",
   "execution_count": 12,
   "metadata": {},
   "outputs": [],
   "source": [
    "users['education_clean'] =users.education.str.split().str[-2:].str.join(' ')\n"
   ]
  },
  {
   "cell_type": "code",
   "execution_count": 13,
   "metadata": {},
   "outputs": [
    {
     "data": {
      "text/plain": [
       "from college/university    23926\n",
       "masters program            10908\n",
       "on college/university       5700\n",
       "two-year college            3010\n",
       "ph.d program                2400\n",
       "high school                 1701\n",
       "space camp                  1667\n",
       "law school                  1424\n",
       "of college/university        994\n",
       "college/university           797\n",
       "med school                   681\n",
       "Name: education_clean, dtype: int64"
      ]
     },
     "execution_count": 13,
     "metadata": {},
     "output_type": "execute_result"
    }
   ],
   "source": [
    "users.education_clean.value_counts()"
   ]
  },
  {
   "cell_type": "code",
   "execution_count": 15,
   "metadata": {},
   "outputs": [
    {
     "data": {
      "text/plain": [
       "college/university    31417\n",
       "masters program       10908\n",
       "two-year college       3010\n",
       "ph.d program           2400\n",
       "high school            1701\n",
       "space camp             1667\n",
       "law school             1424\n",
       "med school              681\n",
       "Name: education_final, dtype: int64"
      ]
     },
     "execution_count": 15,
     "metadata": {},
     "output_type": "execute_result"
    }
   ],
   "source": [
    "e = {'from college/university': 'college/university', 'masters program': 'masters program', 'on college/university': 'college/university', 'two-year college': 'two-year college', 'ph.d program': 'ph.d program', 'high school':'high school', 'space camp': 'space camp', 'law school': 'law school', 'of college/university': 'college/university', 'college/university':'college/university', 'med school': 'med school'}\n",
    "\n",
    "users['education_final'] = users['education_clean'].map(e)\n",
    "users.education_final.value_counts()"
   ]
  },
  {
   "cell_type": "code",
   "execution_count": 16,
   "metadata": {},
   "outputs": [
    {
     "data": {
      "image/png": "[encoded data removed]",
      "text/plain": [
       "<Figure size 432x288 with 1 Axes>"
      ]
     },
     "metadata": {},
     "output_type": "display_data"
    }
   ],
   "source": [
    "sns.countplot(data = users, y = 'education_final', hue='sex', palette='Set1')\n",
    "plt.xlabel('No. of Males and Females')\n",
    "plt.ylabel('Education Type')\n",
    "plt.show()"
   ]
  },
  {
   "cell_type": "markdown",
   "metadata": {},
   "source": [
    "There are in general less females than males for each education level. The difference seems to be significant for college/university, two-year colleage and ph.d program in favor of men. \n",
    "Like I mentioned above we wont be analysing if they are still styding or if they are dropped out ."
   ]
  },
  {
   "cell_type": "markdown",
   "metadata": {},
   "source": [
    "**Check education distribution differentiated by religion**"
   ]
  },
  {
   "cell_type": "markdown",
   "metadata": {},
   "source": [
    "Cleaning up the religion data first"
   ]
  },
  {
   "cell_type": "code",
   "execution_count": 17,
   "metadata": {},
   "outputs": [
    {
     "data": {
      "text/plain": [
       "agnosticism                                   2721\n",
       "other                                         2688\n",
       "agnosticism but not too serious about it      2633\n",
       "agnosticism and laughing about it             2489\n",
       "catholicism but not too serious about it      2316\n",
       "atheism                                       2172\n",
       "other and laughing about it                   2110\n",
       "atheism and laughing about it                 2066\n",
       "christianity                                  1950\n",
       "christianity but not too serious about it     1947\n",
       "other but not too serious about it            1549\n",
       "judaism but not too serious about it          1516\n",
       "atheism but not too serious about it          1318\n",
       "catholicism                                   1062\n",
       "christianity and somewhat serious about it     926\n",
       "atheism and somewhat serious about it          846\n",
       "other and somewhat serious about it            843\n",
       "catholicism and laughing about it              726\n",
       "judaism and laughing about it                  679\n",
       "buddhism but not too serious about it          648\n",
       "agnosticism and somewhat serious about it      639\n",
       "judaism                                        612\n",
       "christianity and very serious about it         574\n",
       "atheism and very serious about it              569\n",
       "catholicism and somewhat serious about it      548\n",
       "other and very serious about it                527\n",
       "buddhism and laughing about it                 466\n",
       "buddhism                                       403\n",
       "christianity and laughing about it             373\n",
       "buddhism and somewhat serious about it         359\n",
       "agnosticism and very serious about it          314\n",
       "judaism and somewhat serious about it          265\n",
       "hinduism but not too serious about it          227\n",
       "hinduism                                       106\n",
       "catholicism and very serious about it          102\n",
       "buddhism and very serious about it              69\n",
       "hinduism and somewhat serious about it          58\n",
       "islam                                           47\n",
       "hinduism and laughing about it                  44\n",
       "islam but not too serious about it              40\n",
       "judaism and very serious about it               22\n",
       "islam and somewhat serious about it             21\n",
       "islam and laughing about it                     15\n",
       "hinduism and very serious about it              14\n",
       "islam and very serious about it                 12\n",
       "Name: religion, dtype: int64"
      ]
     },
     "execution_count": 17,
     "metadata": {},
     "output_type": "execute_result"
    }
   ],
   "source": [
    "users.religion.value_counts()"
   ]
  },
  {
   "cell_type": "markdown",
   "metadata": {},
   "source": [
    "First we'll clean up the religion column. I won't be considering info on seriousness of belief users gave about specific religion group they belong to.  "
   ]
  },
  {
   "cell_type": "code",
   "execution_count": 18,
   "metadata": {},
   "outputs": [],
   "source": [
    "users['religion_clean'] = users.religion.str.split().str[0]"
   ]
  },
  {
   "cell_type": "markdown",
   "metadata": {},
   "source": [
    "### TO CORRECT\n",
    "- some religions are can be put together: Christianity and catholicism, agnosticism and atheism, not sure if Judaism exists ??"
   ]
  },
  {
   "cell_type": "code",
   "execution_count": 19,
   "metadata": {},
   "outputs": [
    {
     "data": {
      "text/plain": [
       "agnosticism     8796\n",
       "other           7717\n",
       "atheism         6971\n",
       "christianity    5770\n",
       "catholicism     4754\n",
       "judaism         3094\n",
       "buddhism        1945\n",
       "hinduism         449\n",
       "islam            135\n",
       "Name: religion_clean, dtype: int64"
      ]
     },
     "execution_count": 19,
     "metadata": {},
     "output_type": "execute_result"
    }
   ],
   "source": [
    "users.religion_clean.value_counts()"
   ]
  },
  {
   "cell_type": "markdown",
   "metadata": {},
   "source": [
    "**Education Structure among Different Religios Groups**  "
   ]
  },
  {
   "cell_type": "code",
   "execution_count": 20,
   "metadata": {},
   "outputs": [
    {
     "data": {
      "image/png": "[encoded data removed]",
      "text/plain": [
       "<Figure size 1080x432 with 1 Axes>"
      ]
     },
     "metadata": {},
     "output_type": "display_data"
    }
   ],
   "source": [
    "sns.set(style='whitegrid')\n",
    "fig,ax=plt.subplots(figsize=(15,6))\n",
    "ax=sns.countplot(data=users, x='religion_clean', hue='education_final', palette='Spectral')\n",
    "plt.xticks(rotation=45)\n",
    "plt.xlabel('Religion')\n",
    "plt.ylabel('Number of Users')\n",
    "plt.show()"
   ]
  },
  {
   "cell_type": "markdown",
   "metadata": {},
   "source": [
    "In each religious group the biggest portion of users has attended college/university. Second biggest share of users have been attended master programs. There is not much users with Ph.d. "
   ]
  },
  {
   "cell_type": "markdown",
   "metadata": {},
   "source": [
    "**Sexual Orientation among different Religios Groups**"
   ]
  },
  {
   "cell_type": "code",
   "execution_count": 22,
   "metadata": {
    "scrolled": false
   },
   "outputs": [
    {
     "data": {
      "image/png": "[encoded data removed]",
      "text/plain": [
       "<Figure size 1080x432 with 1 Axes>"
      ]
     },
     "metadata": {},
     "output_type": "display_data"
    }
   ],
   "source": [
    "sns.set(style='whitegrid')\n",
    "f, ax=plt.subplots(figsize=(15,6))\n",
    "ax = sns.countplot(data=users, y = 'religion_clean', hue='orientation', palette='Set1')\n",
    "ax.set_title('Distribution of Sexual Orientation Among different religion groups')\n",
    "plt.ylabel('Religion')\n",
    "plt.show()"
   ]
  },
  {
   "cell_type": "markdown",
   "metadata": {},
   "source": [
    "Biggest number of users in all religion groups are straight. the least number of users are bixesual , at least as per available data.  From the user of islam, there are only straight users "
   ]
  },
  {
   "cell_type": "markdown",
   "metadata": {},
   "source": [
    "**Who is more prone to vices**"
   ]
  },
  {
   "cell_type": "code",
   "execution_count": 23,
   "metadata": {
    "scrolled": true
   },
   "outputs": [],
   "source": [
    "vice = users[['sex', 'education_final', 'smokes', 'drugs', 'drinks', 'religion_clean']]"
   ]
  },
  {
   "cell_type": "code",
   "execution_count": 24,
   "metadata": {},
   "outputs": [
    {
     "data": {
      "image/png": "[encoded data removed]",
      "text/plain": [
       "<Figure size 1224x576 with 3 Axes>"
      ]
     },
     "metadata": {},
     "output_type": "display_data"
    }
   ],
   "source": [
    "fig,ax = plt.subplots(1,3, figsize = (17,8), sharey=True)\n",
    "ax[0] = sns.countplot(ax = ax[0], data = vice, y = vice['education_final'], hue = 'smokes', palette = 'RdYlBu')\n",
    "ax[1] = sns.countplot(ax = ax[1], data= vice, y=vice['education_final'], hue='drugs', palette = 'RdYlBu')\n",
    "ax[2] = sns.countplot(ax = ax[2], data= vice, y = vice['education_final'], hue = 'drinks', palette = 'RdYlBu')\n",
    "ax[0].set_ylabel('Education')\n",
    "ax[1].set_title(\"Smoking, Consuming Drugs and Alcohol for Users with different Education Level\")\n",
    "plt.show()"
   ]
  },
  {
   "cell_type": "markdown",
   "metadata": {},
   "source": [
    "- Users visiting colleague seems to be most prone to vices as per available data\n",
    "- When we check alcohol consumption, almoust all eduction groups drink when sociallising "
   ]
  },
  {
   "cell_type": "code",
   "execution_count": 25,
   "metadata": {},
   "outputs": [
    {
     "data": {
      "image/png": "[encoded data removed]",
      "text/plain": [
       "<Figure size 1224x576 with 3 Axes>"
      ]
     },
     "metadata": {},
     "output_type": "display_data"
    }
   ],
   "source": [
    "sns.set(style = \"whitegrid\")\n",
    "fig,ax = plt.subplots(1,3, figsize = (17,8), sharey=True)\n",
    "ax[0] = sns.countplot(ax = ax[0], data = vice, y = vice['religion_clean'], hue = 'smokes', palette='Spectral')\n",
    "ax[1] = sns.countplot(ax = ax[1], data= vice, y=vice['religion_clean'], hue='drugs', palette = 'Spectral')\n",
    "ax[2] = sns.countplot(ax = ax[2], data= vice, y = vice['religion_clean'], hue = 'drinks', palette='Spectral')\n",
    "ax[0].set_ylabel('Religion')\n",
    "ax[1].set_title(\"Smoking, Consuming Drugs and Alcohol for Users among different religion groups\")\n",
    "plt.show()"
   ]
  },
  {
   "cell_type": "markdown",
   "metadata": {},
   "source": [
    "- When we check the religious groups , evident is same trend: All religious groups drink alcohol only when sociallising"
   ]
  },
  {
   "cell_type": "code",
   "execution_count": 26,
   "metadata": {
    "scrolled": true
   },
   "outputs": [
    {
     "data": {
      "text/plain": [
       "other                                7572\n",
       "student                              4865\n",
       "science / tech / engineering         4842\n",
       "computer / hardware / software       4697\n",
       "artistic / musical / writer          4428\n",
       "sales / marketing / biz dev          4389\n",
       "medicine / health                    3678\n",
       "education / academia                 3509\n",
       "executive / management               2368\n",
       "banking / financial / real estate    2264\n",
       "entertainment / media                2240\n",
       "law / legal services                 1379\n",
       "hospitality / travel                 1362\n",
       "construction / craftsmanship         1019\n",
       "clerical / administrative             805\n",
       "political / government                705\n",
       "rather not say                        432\n",
       "transportation                        365\n",
       "unemployed                            272\n",
       "retired                               249\n",
       "military                              200\n",
       "Name: job, dtype: int64"
      ]
     },
     "execution_count": 26,
     "metadata": {},
     "output_type": "execute_result"
    }
   ],
   "source": [
    "users.job.value_counts()"
   ]
  },
  {
   "cell_type": "markdown",
   "metadata": {},
   "source": [
    "**Gender Structure for each Religios Group**"
   ]
  },
  {
   "cell_type": "code",
   "execution_count": 28,
   "metadata": {
    "scrolled": false
   },
   "outputs": [
    {
     "data": {
      "image/png": "[encoded data removed]",
      "text/plain": [
       "<Figure size 1080x432 with 1 Axes>"
      ]
     },
     "metadata": {},
     "output_type": "display_data"
    }
   ],
   "source": [
    "f, ax = plt.subplots(figsize=(15,6))\n",
    "ax = sns.countplot(data = users, y = 'religion_clean', hue = 'sex', palette='Set1')\n",
    "plt.ylabel('Religion')\n",
    "plt.show()"
   ]
  },
  {
   "cell_type": "markdown",
   "metadata": {},
   "source": [
    "In all groups, there are more males than females"
   ]
  },
  {
   "cell_type": "markdown",
   "metadata": {},
   "source": [
    "**Check the Missing Values and Define Features for Machine Learning Model**"
   ]
  },
  {
   "cell_type": "code",
   "execution_count": 29,
   "metadata": {
    "scrolled": true
   },
   "outputs": [
    {
     "data": {
      "text/plain": [
       "college/university    31417\n",
       "masters program       10908\n",
       "unknown                6600\n",
       "two-year college       3010\n",
       "ph.d program           2400\n",
       "high school            1701\n",
       "space camp             1667\n",
       "law school             1424\n",
       "med school              681\n",
       "Name: education_final, dtype: int64"
      ]
     },
     "execution_count": 29,
     "metadata": {},
     "output_type": "execute_result"
    }
   ],
   "source": [
    "users['education_final']= users['education_final'].fillna('unknown')\n",
    "users.education_final.value_counts()"
   ]
  },
  {
   "cell_type": "code",
   "execution_count": 30,
   "metadata": {
    "scrolled": true
   },
   "outputs": [
    {
     "data": {
      "text/plain": [
       "0"
      ]
     },
     "execution_count": 30,
     "metadata": {},
     "output_type": "execute_result"
    }
   ],
   "source": [
    "users.education_final.isnull().sum()"
   ]
  },
  {
   "cell_type": "markdown",
   "metadata": {},
   "source": [
    "**Cleaning Diet Column**"
   ]
  },
  {
   "cell_type": "code",
   "execution_count": 31,
   "metadata": {},
   "outputs": [
    {
     "data": {
      "text/plain": [
       "mostly anything        16553\n",
       "anything                6174\n",
       "strictly anything       5096\n",
       "mostly vegetarian       3441\n",
       "mostly other            1002\n",
       "strictly vegetarian      874\n",
       "vegetarian               665\n",
       "strictly other           447\n",
       "mostly vegan             338\n",
       "other                    330\n",
       "strictly vegan           228\n",
       "vegan                    136\n",
       "mostly kosher             86\n",
       "mostly halal              47\n",
       "strictly kosher           18\n",
       "strictly halal            18\n",
       "kosher                    11\n",
       "halal                     11\n",
       "Name: diet, dtype: int64"
      ]
     },
     "execution_count": 31,
     "metadata": {},
     "output_type": "execute_result"
    }
   ],
   "source": [
    "users.diet.value_counts()"
   ]
  },
  {
   "cell_type": "code",
   "execution_count": 32,
   "metadata": {},
   "outputs": [],
   "source": [
    "users['diet'] = users.diet.fillna('unknown')\n",
    "users['diet_clean'] = users['diet'].str.split().str[-1]"
   ]
  },
  {
   "cell_type": "code",
   "execution_count": 33,
   "metadata": {},
   "outputs": [
    {
     "data": {
      "text/plain": [
       "anything      27823\n",
       "unknown       24333\n",
       "vegetarian     4980\n",
       "other          1779\n",
       "vegan           702\n",
       "kosher          115\n",
       "halal            76\n",
       "Name: diet_clean, dtype: int64"
      ]
     },
     "execution_count": 33,
     "metadata": {},
     "output_type": "execute_result"
    }
   ],
   "source": [
    "users.diet_clean.value_counts()"
   ]
  },
  {
   "cell_type": "markdown",
   "metadata": {},
   "source": [
    "**Cleaning Ethnicity Data**"
   ]
  },
  {
   "cell_type": "markdown",
   "metadata": {},
   "source": [
    "There are over 200 unique entries for ethnicity, majority of of them contain several ones. To categorize it somehow, I labeled the unique ones, and for entries containing several ethnicities I labeled them as 'multiethnic' "
   ]
  },
  {
   "cell_type": "code",
   "execution_count": 36,
   "metadata": {},
   "outputs": [],
   "source": [
    "ethnicity_map = {'asian': 'asian', 'white':'white', 'black':'black', 'hispanic / latin': 'latin', 'native american': 'native american', 'other':'other', 'pacific islander':'pacific islander', 'middle eastern': 'middle eastern', 'indian': 'indian', 'unknown':'unknown'}\n",
    "users['ethnicity'] = users.ethnicity.fillna('unknown')\n",
    "users['ethnicity_clean'] = users.ethnicity.map(ethnicity_map).fillna('multiethnic')\n"
   ]
  },
  {
   "cell_type": "code",
   "execution_count": 37,
   "metadata": {},
   "outputs": [
    {
     "data": {
      "text/plain": [
       "white               32778\n",
       "multiethnic          6837\n",
       "asian                6130\n",
       "unknown              5651\n",
       "latin                2815\n",
       "black                2002\n",
       "other                1695\n",
       "indian               1077\n",
       "pacific islander      431\n",
       "middle eastern        328\n",
       "native american        64\n",
       "Name: ethnicity_clean, dtype: int64"
      ]
     },
     "execution_count": 37,
     "metadata": {},
     "output_type": "execute_result"
    }
   ],
   "source": [
    "\n",
    "e = users.ethnicity_clean.value_counts()\n",
    "e"
   ]
  },
  {
   "cell_type": "markdown",
   "metadata": {},
   "source": [
    "**Ethnic Structure of Users in OKCupid Dataset**"
   ]
  },
  {
   "cell_type": "markdown",
   "metadata": {},
   "source": [
    "Wanted to try out the treemap which is not available in Matplotlib "
   ]
  },
  {
   "cell_type": "code",
   "execution_count": 38,
   "metadata": {},
   "outputs": [
    {
     "data": {
      "image/png": "[encoded data removed]",
      "text/plain": [
       "<Figure size 864x432 with 1 Axes>"
      ]
     },
     "metadata": {},
     "output_type": "display_data"
    }
   ],
   "source": [
    "import squarify\n",
    "e.values\n",
    "e.index\n",
    "a,fig =plt.subplots(figsize=(12,6)) \n",
    "c= ['#d53e4f','#f46d43','#fdae61','#fee08b','#e6f598','#abdda4','#66c2a5','#3288bd' ]\n",
    "squarify.plot(sizes= e.values, label = e.index[:8], alpha = 0.8, color=c)\n",
    "plt.show()"
   ]
  },
  {
   "cell_type": "markdown",
   "metadata": {},
   "source": [
    "**Checking the Status data**"
   ]
  },
  {
   "cell_type": "code",
   "execution_count": 188,
   "metadata": {},
   "outputs": [
    {
     "data": {
      "text/plain": [
       "single            55570\n",
       "seeing someone     2058\n",
       "available          1861\n",
       "married             309\n",
       "unknown              10\n",
       "Name: status, dtype: int64"
      ]
     },
     "execution_count": 188,
     "metadata": {},
     "output_type": "execute_result"
    }
   ],
   "source": [
    "users.status.value_counts()"
   ]
  },
  {
   "cell_type": "markdown",
   "metadata": {},
   "source": [
    "**Cleaning Job Data**"
   ]
  },
  {
   "cell_type": "code",
   "execution_count": 39,
   "metadata": {
    "scrolled": false
   },
   "outputs": [
    {
     "data": {
      "text/plain": [
       "other                                7572\n",
       "student                              4865\n",
       "science / tech / engineering         4842\n",
       "computer / hardware / software       4697\n",
       "artistic / musical / writer          4428\n",
       "sales / marketing / biz dev          4389\n",
       "medicine / health                    3678\n",
       "education / academia                 3509\n",
       "executive / management               2368\n",
       "banking / financial / real estate    2264\n",
       "entertainment / media                2240\n",
       "law / legal services                 1379\n",
       "hospitality / travel                 1362\n",
       "construction / craftsmanship         1019\n",
       "clerical / administrative             805\n",
       "political / government                705\n",
       "rather not say                        432\n",
       "transportation                        365\n",
       "unemployed                            272\n",
       "retired                               249\n",
       "military                              200\n",
       "Name: job, dtype: int64"
      ]
     },
     "execution_count": 39,
     "metadata": {},
     "output_type": "execute_result"
    }
   ],
   "source": [
    "users.job.value_counts()"
   ]
  },
  {
   "cell_type": "code",
   "execution_count": 40,
   "metadata": {
    "scrolled": true
   },
   "outputs": [
    {
     "data": {
      "text/plain": [
       "other             7572\n",
       "student           4865\n",
       "science           4842\n",
       "computer          4697\n",
       "artistic          4428\n",
       "sales             4389\n",
       "medicine          3678\n",
       "education         3509\n",
       "executive         2368\n",
       "banking           2264\n",
       "entertainment     2240\n",
       "law               1379\n",
       "hospitality       1362\n",
       "construction      1019\n",
       "clerical           805\n",
       "political          705\n",
       "rather not say     432\n",
       "transportation     365\n",
       "unemployed         272\n",
       "retired            249\n",
       "military           200\n",
       "Name: job_clean, dtype: int64"
      ]
     },
     "execution_count": 40,
     "metadata": {},
     "output_type": "execute_result"
    }
   ],
   "source": [
    "\n",
    "users['job_clean'] = users.job.str.split(' /').str[0]\n",
    "users.job_clean.value_counts()"
   ]
  },
  {
   "cell_type": "markdown",
   "metadata": {},
   "source": [
    "**Feature Selection, Data Balance, and Decision on Model**"
   ]
  },
  {
   "cell_type": "markdown",
   "metadata": {},
   "source": [
    "- Filling the missing values\n",
    "- Transforming the strings into codes\n",
    "\n",
    "For predicticting the religion I have choosen following features from the data : **diet, drinks, etnicity, education, status, height, drugs, smokes, age, orientation**. These columns needs to be cleaned and ready to train the model\n"
   ]
  },
  {
   "cell_type": "code",
   "execution_count": 43,
   "metadata": {},
   "outputs": [
    {
     "data": {
      "text/plain": [
       "2985"
      ]
     },
     "execution_count": 43,
     "metadata": {},
     "output_type": "execute_result"
    }
   ],
   "source": [
    "users.drinks.isnull().sum()"
   ]
  },
  {
   "cell_type": "code",
   "execution_count": 41,
   "metadata": {},
   "outputs": [
    {
     "name": "stdout",
     "output_type": "stream",
     "text": [
      "(27929, 12)\n"
     ]
    },
    {
     "data": {
      "text/plain": [
       "education_final    0\n",
       "status             0\n",
       "ethnicity_clean    0\n",
       "diet_clean         0\n",
       "drinks             0\n",
       "job_clean          0\n",
       "drugs              0\n",
       "smokes             0\n",
       "age                0\n",
       "orientation        0\n",
       "height             0\n",
       "religion_clean     0\n",
       "dtype: int64"
      ]
     },
     "execution_count": 41,
     "metadata": {},
     "output_type": "execute_result"
    }
   ],
   "source": [
    "#helpful features to predict religion orientation \n",
    "feat =['education_final', 'status', 'ethnicity_clean', 'diet_clean', 'drinks', 'job_clean', 'drugs', 'smokes','age','orientation', 'height', 'religion_clean']\n",
    "df = users[feat].dropna(subset = ['religion_clean', 'job_clean', 'drugs', 'smokes', 'drinks'])\n",
    "print(df.shape)\n",
    "df.isna().sum()"
   ]
  },
  {
   "cell_type": "markdown",
   "metadata": {},
   "source": [
    "**Checking the class balance**"
   ]
  },
  {
   "cell_type": "code",
   "execution_count": 44,
   "metadata": {},
   "outputs": [
    {
     "data": {
      "image/png": "[encoded data removed]",
      "text/plain": [
       "<Figure size 432x288 with 1 Axes>"
      ]
     },
     "metadata": {},
     "output_type": "display_data"
    }
   ],
   "source": [
    "sns.countplot(data=df, y='religion_clean', palette='Spectral')\n",
    "plt.ylabel('Religion')\n",
    "plt.xlabel('Number of users')\n",
    "plt.title('Religion status')\n",
    "plt.show()\n",
    "\n"
   ]
  },
  {
   "cell_type": "markdown",
   "metadata": {},
   "source": [
    "From the countplot it is evident that classes are are very unbalanced and means that model won't be able to see the whole picture. \n",
    "In the next steps I'll try building model with such data, and then will try to balance the classes and test different models again"
   ]
  },
  {
   "cell_type": "code",
   "execution_count": 45,
   "metadata": {},
   "outputs": [
    {
     "data": {
      "text/html": [
       "<div>\n",
       "<style scoped>\n",
       "    .dataframe tbody tr th:only-of-type {\n",
       "        vertical-align: middle;\n",
       "    }\n",
       "\n",
       "    .dataframe tbody tr th {\n",
       "        vertical-align: top;\n",
       "    }\n",
       "\n",
       "    .dataframe thead th {\n",
       "        text-align: right;\n",
       "    }\n",
       "</style>\n",
       "<table border=\"1\" class=\"dataframe\">\n",
       "  <thead>\n",
       "    <tr style=\"text-align: right;\">\n",
       "      <th></th>\n",
       "      <th>education_final</th>\n",
       "      <th>status</th>\n",
       "      <th>ethnicity_clean</th>\n",
       "      <th>diet_clean</th>\n",
       "      <th>drinks</th>\n",
       "      <th>job_clean</th>\n",
       "      <th>drugs</th>\n",
       "      <th>smokes</th>\n",
       "      <th>age</th>\n",
       "      <th>orientation</th>\n",
       "      <th>height</th>\n",
       "      <th>religion_clean</th>\n",
       "    </tr>\n",
       "  </thead>\n",
       "  <tbody>\n",
       "    <tr>\n",
       "      <th>0</th>\n",
       "      <td>college/university</td>\n",
       "      <td>single</td>\n",
       "      <td>multiethnic</td>\n",
       "      <td>anything</td>\n",
       "      <td>socially</td>\n",
       "      <td>transportation</td>\n",
       "      <td>never</td>\n",
       "      <td>sometimes</td>\n",
       "      <td>22</td>\n",
       "      <td>straight</td>\n",
       "      <td>75.0</td>\n",
       "      <td>agnosticism</td>\n",
       "    </tr>\n",
       "    <tr>\n",
       "      <th>1</th>\n",
       "      <td>space camp</td>\n",
       "      <td>single</td>\n",
       "      <td>white</td>\n",
       "      <td>other</td>\n",
       "      <td>often</td>\n",
       "      <td>hospitality</td>\n",
       "      <td>sometimes</td>\n",
       "      <td>no</td>\n",
       "      <td>35</td>\n",
       "      <td>straight</td>\n",
       "      <td>70.0</td>\n",
       "      <td>agnosticism</td>\n",
       "    </tr>\n",
       "    <tr>\n",
       "      <th>7</th>\n",
       "      <td>college/university</td>\n",
       "      <td>single</td>\n",
       "      <td>white</td>\n",
       "      <td>anything</td>\n",
       "      <td>socially</td>\n",
       "      <td>artistic</td>\n",
       "      <td>never</td>\n",
       "      <td>no</td>\n",
       "      <td>31</td>\n",
       "      <td>straight</td>\n",
       "      <td>65.0</td>\n",
       "      <td>christianity</td>\n",
       "    </tr>\n",
       "    <tr>\n",
       "      <th>9</th>\n",
       "      <td>two-year college</td>\n",
       "      <td>single</td>\n",
       "      <td>white</td>\n",
       "      <td>anything</td>\n",
       "      <td>not at all</td>\n",
       "      <td>student</td>\n",
       "      <td>never</td>\n",
       "      <td>no</td>\n",
       "      <td>37</td>\n",
       "      <td>straight</td>\n",
       "      <td>65.0</td>\n",
       "      <td>atheism</td>\n",
       "    </tr>\n",
       "    <tr>\n",
       "      <th>11</th>\n",
       "      <td>college/university</td>\n",
       "      <td>seeing someone</td>\n",
       "      <td>white</td>\n",
       "      <td>anything</td>\n",
       "      <td>socially</td>\n",
       "      <td>banking</td>\n",
       "      <td>never</td>\n",
       "      <td>no</td>\n",
       "      <td>28</td>\n",
       "      <td>straight</td>\n",
       "      <td>72.0</td>\n",
       "      <td>christianity</td>\n",
       "    </tr>\n",
       "  </tbody>\n",
       "</table>\n",
       "</div>"
      ],
      "text/plain": [
       "       education_final          status ethnicity_clean diet_clean      drinks  \\\n",
       "0   college/university          single     multiethnic   anything    socially   \n",
       "1           space camp          single           white      other       often   \n",
       "7   college/university          single           white   anything    socially   \n",
       "9     two-year college          single           white   anything  not at all   \n",
       "11  college/university  seeing someone           white   anything    socially   \n",
       "\n",
       "         job_clean      drugs     smokes  age orientation  height  \\\n",
       "0   transportation      never  sometimes   22    straight    75.0   \n",
       "1      hospitality  sometimes         no   35    straight    70.0   \n",
       "7         artistic      never         no   31    straight    65.0   \n",
       "9          student      never         no   37    straight    65.0   \n",
       "11         banking      never         no   28    straight    72.0   \n",
       "\n",
       "   religion_clean  \n",
       "0     agnosticism  \n",
       "1     agnosticism  \n",
       "7    christianity  \n",
       "9         atheism  \n",
       "11   christianity  "
      ]
     },
     "execution_count": 45,
     "metadata": {},
     "output_type": "execute_result"
    }
   ],
   "source": [
    "df.head()\n"
   ]
  },
  {
   "cell_type": "markdown",
   "metadata": {},
   "source": [
    "**Last check if there are zero values**"
   ]
  },
  {
   "cell_type": "code",
   "execution_count": 72,
   "metadata": {
    "scrolled": false
   },
   "outputs": [
    {
     "data": {
      "text/html": [
       "<div>\n",
       "<style scoped>\n",
       "    .dataframe tbody tr th:only-of-type {\n",
       "        vertical-align: middle;\n",
       "    }\n",
       "\n",
       "    .dataframe tbody tr th {\n",
       "        vertical-align: top;\n",
       "    }\n",
       "\n",
       "    .dataframe thead th {\n",
       "        text-align: right;\n",
       "    }\n",
       "</style>\n",
       "<table border=\"1\" class=\"dataframe\">\n",
       "  <thead>\n",
       "    <tr style=\"text-align: right;\">\n",
       "      <th></th>\n",
       "      <th>education_final</th>\n",
       "      <th>status</th>\n",
       "      <th>ethnicity_clean</th>\n",
       "      <th>diet_clean</th>\n",
       "      <th>drinks</th>\n",
       "      <th>job_clean</th>\n",
       "      <th>drugs</th>\n",
       "      <th>smokes</th>\n",
       "      <th>age</th>\n",
       "      <th>orientation</th>\n",
       "      <th>height</th>\n",
       "      <th>religion_clean</th>\n",
       "    </tr>\n",
       "  </thead>\n",
       "  <tbody>\n",
       "  </tbody>\n",
       "</table>\n",
       "</div>"
      ],
      "text/plain": [
       "Empty DataFrame\n",
       "Columns: [education_final, status, ethnicity_clean, diet_clean, drinks, job_clean, drugs, smokes, age, orientation, height, religion_clean]\n",
       "Index: []"
      ]
     },
     "execution_count": 72,
     "metadata": {},
     "output_type": "execute_result"
    }
   ],
   "source": [
    "df[df.isnull().any(axis=1)]"
   ]
  },
  {
   "cell_type": "markdown",
   "metadata": {},
   "source": [
    "## Import of Machine Learning Modules ##"
   ]
  },
  {
   "cell_type": "code",
   "execution_count": 46,
   "metadata": {},
   "outputs": [],
   "source": [
    "from sklearn.linear_model import LogisticRegression\n",
    "from sklearn.neighbors import KNeighborsClassifier\n",
    "from sklearn.model_selection import train_test_split\n",
    "from sklearn.metrics import classification_report\n",
    "from sklearn.preprocessing import StandardScaler \n",
    "from sklearn import preprocessing"
   ]
  },
  {
   "cell_type": "markdown",
   "metadata": {},
   "source": [
    "**Encoding Categorical Variables**\n",
    "\n",
    "### TO CORRECT\n",
    "- this  needs to be changed to one hot encoding either with Labeling or get_dummies"
   ]
  },
  {
   "cell_type": "code",
   "execution_count": 74,
   "metadata": {
    "scrolled": true
   },
   "outputs": [
    {
     "data": {
      "text/html": [
       "<div>\n",
       "<style scoped>\n",
       "    .dataframe tbody tr th:only-of-type {\n",
       "        vertical-align: middle;\n",
       "    }\n",
       "\n",
       "    .dataframe tbody tr th {\n",
       "        vertical-align: top;\n",
       "    }\n",
       "\n",
       "    .dataframe thead th {\n",
       "        text-align: right;\n",
       "    }\n",
       "</style>\n",
       "<table border=\"1\" class=\"dataframe\">\n",
       "  <thead>\n",
       "    <tr style=\"text-align: right;\">\n",
       "      <th></th>\n",
       "      <th>education_final</th>\n",
       "      <th>status</th>\n",
       "      <th>ethnicity_clean</th>\n",
       "      <th>diet_clean</th>\n",
       "      <th>drinks</th>\n",
       "      <th>job_clean</th>\n",
       "      <th>drugs</th>\n",
       "      <th>smokes</th>\n",
       "      <th>age</th>\n",
       "      <th>orientation</th>\n",
       "      <th>...</th>\n",
       "      <th>religion_clean</th>\n",
       "      <th>col_education</th>\n",
       "      <th>col_ethnicity</th>\n",
       "      <th>col_diet</th>\n",
       "      <th>col_drinks</th>\n",
       "      <th>col_status</th>\n",
       "      <th>col_job</th>\n",
       "      <th>col_smokes</th>\n",
       "      <th>col_drugs</th>\n",
       "      <th>col_orientation</th>\n",
       "    </tr>\n",
       "  </thead>\n",
       "  <tbody>\n",
       "    <tr>\n",
       "      <th>0</th>\n",
       "      <td>college/university</td>\n",
       "      <td>single</td>\n",
       "      <td>multiethnic</td>\n",
       "      <td>anything</td>\n",
       "      <td>socially</td>\n",
       "      <td>transportation</td>\n",
       "      <td>never</td>\n",
       "      <td>sometimes</td>\n",
       "      <td>22</td>\n",
       "      <td>straight</td>\n",
       "      <td>...</td>\n",
       "      <td>agnosticism</td>\n",
       "      <td>7</td>\n",
       "      <td>8</td>\n",
       "      <td>5</td>\n",
       "      <td>3</td>\n",
       "      <td>3</td>\n",
       "      <td>16</td>\n",
       "      <td>3</td>\n",
       "      <td>2</td>\n",
       "      <td>2</td>\n",
       "    </tr>\n",
       "    <tr>\n",
       "      <th>1</th>\n",
       "      <td>space camp</td>\n",
       "      <td>single</td>\n",
       "      <td>white</td>\n",
       "      <td>other</td>\n",
       "      <td>often</td>\n",
       "      <td>hospitality</td>\n",
       "      <td>sometimes</td>\n",
       "      <td>no</td>\n",
       "      <td>35</td>\n",
       "      <td>straight</td>\n",
       "      <td>...</td>\n",
       "      <td>agnosticism</td>\n",
       "      <td>2</td>\n",
       "      <td>9</td>\n",
       "      <td>3</td>\n",
       "      <td>4</td>\n",
       "      <td>3</td>\n",
       "      <td>11</td>\n",
       "      <td>4</td>\n",
       "      <td>1</td>\n",
       "      <td>2</td>\n",
       "    </tr>\n",
       "    <tr>\n",
       "      <th>7</th>\n",
       "      <td>college/university</td>\n",
       "      <td>single</td>\n",
       "      <td>white</td>\n",
       "      <td>anything</td>\n",
       "      <td>socially</td>\n",
       "      <td>artistic</td>\n",
       "      <td>never</td>\n",
       "      <td>no</td>\n",
       "      <td>31</td>\n",
       "      <td>straight</td>\n",
       "      <td>...</td>\n",
       "      <td>christianity</td>\n",
       "      <td>7</td>\n",
       "      <td>9</td>\n",
       "      <td>5</td>\n",
       "      <td>3</td>\n",
       "      <td>3</td>\n",
       "      <td>3</td>\n",
       "      <td>4</td>\n",
       "      <td>2</td>\n",
       "      <td>2</td>\n",
       "    </tr>\n",
       "    <tr>\n",
       "      <th>9</th>\n",
       "      <td>two-year college</td>\n",
       "      <td>single</td>\n",
       "      <td>white</td>\n",
       "      <td>anything</td>\n",
       "      <td>not at all</td>\n",
       "      <td>student</td>\n",
       "      <td>never</td>\n",
       "      <td>no</td>\n",
       "      <td>37</td>\n",
       "      <td>straight</td>\n",
       "      <td>...</td>\n",
       "      <td>atheism</td>\n",
       "      <td>5</td>\n",
       "      <td>9</td>\n",
       "      <td>5</td>\n",
       "      <td>1</td>\n",
       "      <td>3</td>\n",
       "      <td>0</td>\n",
       "      <td>4</td>\n",
       "      <td>2</td>\n",
       "      <td>2</td>\n",
       "    </tr>\n",
       "    <tr>\n",
       "      <th>11</th>\n",
       "      <td>college/university</td>\n",
       "      <td>seeing someone</td>\n",
       "      <td>white</td>\n",
       "      <td>anything</td>\n",
       "      <td>socially</td>\n",
       "      <td>banking</td>\n",
       "      <td>never</td>\n",
       "      <td>no</td>\n",
       "      <td>28</td>\n",
       "      <td>straight</td>\n",
       "      <td>...</td>\n",
       "      <td>christianity</td>\n",
       "      <td>7</td>\n",
       "      <td>9</td>\n",
       "      <td>5</td>\n",
       "      <td>3</td>\n",
       "      <td>2</td>\n",
       "      <td>8</td>\n",
       "      <td>4</td>\n",
       "      <td>2</td>\n",
       "      <td>2</td>\n",
       "    </tr>\n",
       "  </tbody>\n",
       "</table>\n",
       "<p>5 rows × 21 columns</p>\n",
       "</div>"
      ],
      "text/plain": [
       "       education_final          status ethnicity_clean diet_clean      drinks  \\\n",
       "0   college/university          single     multiethnic   anything    socially   \n",
       "1           space camp          single           white      other       often   \n",
       "7   college/university          single           white   anything    socially   \n",
       "9     two-year college          single           white   anything  not at all   \n",
       "11  college/university  seeing someone           white   anything    socially   \n",
       "\n",
       "         job_clean      drugs     smokes  age orientation  ...  \\\n",
       "0   transportation      never  sometimes   22    straight  ...   \n",
       "1      hospitality  sometimes         no   35    straight  ...   \n",
       "7         artistic      never         no   31    straight  ...   \n",
       "9          student      never         no   37    straight  ...   \n",
       "11         banking      never         no   28    straight  ...   \n",
       "\n",
       "    religion_clean col_education  col_ethnicity  col_diet  col_drinks  \\\n",
       "0      agnosticism             7              8         5           3   \n",
       "1      agnosticism             2              9         3           4   \n",
       "7     christianity             7              9         5           3   \n",
       "9          atheism             5              9         5           1   \n",
       "11    christianity             7              9         5           3   \n",
       "\n",
       "    col_status  col_job  col_smokes  col_drugs  col_orientation  \n",
       "0            3       16           3          2                2  \n",
       "1            3       11           4          1                2  \n",
       "7            3        3           4          2                2  \n",
       "9            3        0           4          2                2  \n",
       "11           2        8           4          2                2  \n",
       "\n",
       "[5 rows x 21 columns]"
      ]
     },
     "execution_count": 74,
     "metadata": {},
     "output_type": "execute_result"
    }
   ],
   "source": [
    "map_education = {'unknown': -1, 'med school': 0, 'law school':1, 'space camp': 2, 'high school':3, 'ph.d program': 4, 'two-year college': 5, 'masters program': 6, 'college/university': 7}\n",
    "df['col_education'] = df.education_final.map(map_education)\n",
    "map_ethnicity = {'unknown':-1,'native american':0, 'middle eastern':1, 'pacific islander': 2, 'indian':3, 'other': 4, 'black': 5, 'latin': 6, 'asian': 7, 'multiethnic': 8, 'white': 9}\n",
    "df['col_ethnicity'] = df.ethnicity_clean.map(map_ethnicity)\n",
    "map_diet = {'unknown':-1,'halal':0, 'kosher':1, 'vegan':2, 'other':3, 'vegetarian':4, 'anything': 5}\n",
    "df['col_diet'] = df.diet_clean.map(map_diet)\n",
    "map_drinks = {'not at all':1, 'rarely':2, 'socially': 3, 'often':4, 'very often':5, 'desperately': 6}\n",
    "df['col_drinks'] = df.drinks.map(map_drinks)\n",
    "map_status = {'unknown': -1, 'married':0, 'available':1, 'seeing someone': 2, 'single':3}\n",
    "df['col_status'] = df.status.map(map_status)\n",
    "map_religion = {'other':-1, 'islam':0, 'hinduism':1, 'buddhism':2, 'judaism':3, 'catholicism':4, 'christianity':5, 'atheism':6, 'agnosticism':7,}\n",
    "\n",
    "map_job = {'other': -1, 'student':0, 'science':1, 'computer':2, 'artistic':3, 'sales':4, 'medicine':5, \n",
    "           'education':6, 'executive': 7, 'banking':8, 'entertainment':9, 'law':10, 'hospitality': 11, 'construction':12, \n",
    "           'clerical':13, 'political':14, 'rather not say':15, 'transportation':16, 'unemployed':17, 'retired': 18, 'military': 19}\n",
    "df['col_job'] = df.job_clean.map(map_job)\n",
    "map_smokes = {'trying to quit': 0, 'yes':1, 'when drinking':2, 'sometimes': 3, 'no':4}\n",
    "df['col_smokes'] = df.smokes.map(map_smokes)\n",
    "map_drugs = {'often': 0, 'sometimes': 1, 'never': 2}\n",
    "df['col_drugs'] = df.drugs.map(map_drugs)\n",
    "map_orientation = {'bisexual': 0, 'gay':1, 'straight':2}\n",
    "df['col_orientation'] = df.orientation.map(map_orientation)\n",
    "df.head()\n"
   ]
  },
  {
   "cell_type": "markdown",
   "metadata": {},
   "source": [
    "## Is it possible to predict if person is religious or not? ##\n",
    "My assumption is that no matter if person is serious about religion and different religious practices or not, at the end it can be distinguished if the person is religios or not . To be able to predict that, religion_clean column will get besides its numerical representation another column stating  if person is religious or not "
   ]
  },
  {
   "cell_type": "code",
   "execution_count": 75,
   "metadata": {},
   "outputs": [
    {
     "data": {
      "text/html": [
       "<div>\n",
       "<style scoped>\n",
       "    .dataframe tbody tr th:only-of-type {\n",
       "        vertical-align: middle;\n",
       "    }\n",
       "\n",
       "    .dataframe tbody tr th {\n",
       "        vertical-align: top;\n",
       "    }\n",
       "\n",
       "    .dataframe thead th {\n",
       "        text-align: right;\n",
       "    }\n",
       "</style>\n",
       "<table border=\"1\" class=\"dataframe\">\n",
       "  <thead>\n",
       "    <tr style=\"text-align: right;\">\n",
       "      <th></th>\n",
       "      <th>education_final</th>\n",
       "      <th>status</th>\n",
       "      <th>ethnicity_clean</th>\n",
       "      <th>diet_clean</th>\n",
       "      <th>drinks</th>\n",
       "      <th>job_clean</th>\n",
       "      <th>drugs</th>\n",
       "      <th>smokes</th>\n",
       "      <th>age</th>\n",
       "      <th>orientation</th>\n",
       "      <th>...</th>\n",
       "      <th>col_education</th>\n",
       "      <th>col_ethnicity</th>\n",
       "      <th>col_diet</th>\n",
       "      <th>col_drinks</th>\n",
       "      <th>col_status</th>\n",
       "      <th>col_job</th>\n",
       "      <th>col_smokes</th>\n",
       "      <th>col_drugs</th>\n",
       "      <th>col_orientation</th>\n",
       "      <th>religious?</th>\n",
       "    </tr>\n",
       "  </thead>\n",
       "  <tbody>\n",
       "    <tr>\n",
       "      <th>0</th>\n",
       "      <td>college/university</td>\n",
       "      <td>single</td>\n",
       "      <td>multiethnic</td>\n",
       "      <td>anything</td>\n",
       "      <td>socially</td>\n",
       "      <td>transportation</td>\n",
       "      <td>never</td>\n",
       "      <td>sometimes</td>\n",
       "      <td>22</td>\n",
       "      <td>straight</td>\n",
       "      <td>...</td>\n",
       "      <td>7</td>\n",
       "      <td>8</td>\n",
       "      <td>5</td>\n",
       "      <td>3</td>\n",
       "      <td>3</td>\n",
       "      <td>16</td>\n",
       "      <td>3</td>\n",
       "      <td>2</td>\n",
       "      <td>2</td>\n",
       "      <td>0</td>\n",
       "    </tr>\n",
       "    <tr>\n",
       "      <th>1</th>\n",
       "      <td>space camp</td>\n",
       "      <td>single</td>\n",
       "      <td>white</td>\n",
       "      <td>other</td>\n",
       "      <td>often</td>\n",
       "      <td>hospitality</td>\n",
       "      <td>sometimes</td>\n",
       "      <td>no</td>\n",
       "      <td>35</td>\n",
       "      <td>straight</td>\n",
       "      <td>...</td>\n",
       "      <td>2</td>\n",
       "      <td>9</td>\n",
       "      <td>3</td>\n",
       "      <td>4</td>\n",
       "      <td>3</td>\n",
       "      <td>11</td>\n",
       "      <td>4</td>\n",
       "      <td>1</td>\n",
       "      <td>2</td>\n",
       "      <td>0</td>\n",
       "    </tr>\n",
       "    <tr>\n",
       "      <th>7</th>\n",
       "      <td>college/university</td>\n",
       "      <td>single</td>\n",
       "      <td>white</td>\n",
       "      <td>anything</td>\n",
       "      <td>socially</td>\n",
       "      <td>artistic</td>\n",
       "      <td>never</td>\n",
       "      <td>no</td>\n",
       "      <td>31</td>\n",
       "      <td>straight</td>\n",
       "      <td>...</td>\n",
       "      <td>7</td>\n",
       "      <td>9</td>\n",
       "      <td>5</td>\n",
       "      <td>3</td>\n",
       "      <td>3</td>\n",
       "      <td>3</td>\n",
       "      <td>4</td>\n",
       "      <td>2</td>\n",
       "      <td>2</td>\n",
       "      <td>1</td>\n",
       "    </tr>\n",
       "    <tr>\n",
       "      <th>9</th>\n",
       "      <td>two-year college</td>\n",
       "      <td>single</td>\n",
       "      <td>white</td>\n",
       "      <td>anything</td>\n",
       "      <td>not at all</td>\n",
       "      <td>student</td>\n",
       "      <td>never</td>\n",
       "      <td>no</td>\n",
       "      <td>37</td>\n",
       "      <td>straight</td>\n",
       "      <td>...</td>\n",
       "      <td>5</td>\n",
       "      <td>9</td>\n",
       "      <td>5</td>\n",
       "      <td>1</td>\n",
       "      <td>3</td>\n",
       "      <td>0</td>\n",
       "      <td>4</td>\n",
       "      <td>2</td>\n",
       "      <td>2</td>\n",
       "      <td>0</td>\n",
       "    </tr>\n",
       "    <tr>\n",
       "      <th>11</th>\n",
       "      <td>college/university</td>\n",
       "      <td>seeing someone</td>\n",
       "      <td>white</td>\n",
       "      <td>anything</td>\n",
       "      <td>socially</td>\n",
       "      <td>banking</td>\n",
       "      <td>never</td>\n",
       "      <td>no</td>\n",
       "      <td>28</td>\n",
       "      <td>straight</td>\n",
       "      <td>...</td>\n",
       "      <td>7</td>\n",
       "      <td>9</td>\n",
       "      <td>5</td>\n",
       "      <td>3</td>\n",
       "      <td>2</td>\n",
       "      <td>8</td>\n",
       "      <td>4</td>\n",
       "      <td>2</td>\n",
       "      <td>2</td>\n",
       "      <td>1</td>\n",
       "    </tr>\n",
       "  </tbody>\n",
       "</table>\n",
       "<p>5 rows × 22 columns</p>\n",
       "</div>"
      ],
      "text/plain": [
       "       education_final          status ethnicity_clean diet_clean      drinks  \\\n",
       "0   college/university          single     multiethnic   anything    socially   \n",
       "1           space camp          single           white      other       often   \n",
       "7   college/university          single           white   anything    socially   \n",
       "9     two-year college          single           white   anything  not at all   \n",
       "11  college/university  seeing someone           white   anything    socially   \n",
       "\n",
       "         job_clean      drugs     smokes  age orientation  ...  col_education  \\\n",
       "0   transportation      never  sometimes   22    straight  ...              7   \n",
       "1      hospitality  sometimes         no   35    straight  ...              2   \n",
       "7         artistic      never         no   31    straight  ...              7   \n",
       "9          student      never         no   37    straight  ...              5   \n",
       "11         banking      never         no   28    straight  ...              7   \n",
       "\n",
       "   col_ethnicity  col_diet  col_drinks  col_status  col_job  col_smokes  \\\n",
       "0              8         5           3           3       16           3   \n",
       "1              9         3           4           3       11           4   \n",
       "7              9         5           3           3        3           4   \n",
       "9              9         5           1           3        0           4   \n",
       "11             9         5           3           2        8           4   \n",
       "\n",
       "    col_drugs  col_orientation  religious?  \n",
       "0           2                2           0  \n",
       "1           1                2           0  \n",
       "7           2                2           1  \n",
       "9           2                2           0  \n",
       "11          2                2           1  \n",
       "\n",
       "[5 rows x 22 columns]"
      ]
     },
     "execution_count": 75,
     "metadata": {},
     "output_type": "execute_result"
    }
   ],
   "source": [
    "def you_religious(x):\n",
    "    if x=='agnosticism' or x=='atheism':\n",
    "        return 0\n",
    "    else:\n",
    "        return 1\n",
    "    \n",
    "df['religious?'] = df.religion_clean.apply(you_religious) \n",
    "df.head()"
   ]
  },
  {
   "cell_type": "markdown",
   "metadata": {},
   "source": [
    "**Logistic Regression Model**"
   ]
  },
  {
   "cell_type": "code",
   "execution_count": 77,
   "metadata": {},
   "outputs": [
    {
     "name": "stdout",
     "output_type": "stream",
     "text": [
      "27929\n",
      "27929\n"
     ]
    }
   ],
   "source": [
    "features_religious = df[['col_education', 'col_ethnicity', 'col_drinks', 'col_status','col_diet', 'col_job', 'col_smokes', 'col_drugs','height', 'col_orientation', 'age']]\n",
    "labels_religious = df['religious?']\n",
    "print(len(labels_religious))\n",
    "print(len(features_religious))"
   ]
  },
  {
   "cell_type": "code",
   "execution_count": 79,
   "metadata": {},
   "outputs": [
    {
     "name": "stdout",
     "output_type": "stream",
     "text": [
      "model test score:  0.6493018259935553\n",
      "model train score:  0.6470930492771786\n"
     ]
    }
   ],
   "source": [
    "model_religious =LogisticRegression(max_iter=1500)\n",
    "religious_train, religious_test, labels_religious_train, labels_religious_test = train_test_split(features_religious, labels_religious, test_size = 0.2, random_state=1, stratify=labels_religious)\n",
    "model_religious.fit(religious_train, labels_religious_train)\n",
    "\n",
    "minmax_scaler_model =  preprocessing.MinMaxScaler()\n",
    "religious_train_mm = minmax_scaler_model.fit_transform(religious_train)\n",
    "religious_test_mm = minmax_scaler_model.transform(religious_test)\n",
    "model_religious.fit(religious_train_mm, labels_religious_train)\n",
    "\n",
    "print('model test score: ', model_religious.score(religious_test_mm, labels_religious_test))\n",
    "print('model train score: ', model_religious.score(religious_train_mm, labels_religious_train))"
   ]
  },
  {
   "cell_type": "markdown",
   "metadata": {},
   "source": [
    "Since it only about answering if person is or isn't religious, and there is spectrum of 11 features, I was expecting better accuracy results.. But it is ok"
   ]
  },
  {
   "cell_type": "markdown",
   "metadata": {},
   "source": [
    "What I found useful is parameter **stratify** . This tells train_test_split to make sure that the training and test datasets contain examples of each class in the same proportions as in the original dataset. This is especially import to do because of how imbalanced the classes are"
   ]
  },
  {
   "cell_type": "markdown",
   "metadata": {},
   "source": [
    "**the model features and their corresponding coefficients**"
   ]
  },
  {
   "cell_type": "code",
   "execution_count": 84,
   "metadata": {
    "scrolled": true
   },
   "outputs": [
    {
     "data": {
      "image/png": "[encoded data removed]",
      "text/plain": [
       "<Figure size 432x576 with 1 Axes>"
      ]
     },
     "metadata": {},
     "output_type": "display_data"
    }
   ],
   "source": [
    "religious_coef = (model_religious.coef_).tolist()[0]\n",
    "labels='education', 'ethnicity', 'drinking', 'status', 'diet','job', 'smoking', 'drugs', 'height', 'orientation', 'age'\n",
    "ax, fig= plt.subplots(figsize= (6,8))\n",
    "sns.barplot(x=religious_coef,y=l_and_f[:-1], palette = 'Spectral' )\n",
    "fig.set_yticks(range(11))\n",
    "fig.set_yticklabels(labels)\n",
    "plt.show()"
   ]
  },
  {
   "cell_type": "markdown",
   "metadata": {},
   "source": [
    "It seems like features like height, age, status, drug, and alcohol consuption influence model the most when predicting if somebody is religious or not "
   ]
  },
  {
   "cell_type": "markdown",
   "metadata": {},
   "source": [
    "## Can Model do a user religion classification based on available data (not resampled)? ## "
   ]
  },
  {
   "cell_type": "code",
   "execution_count": 87,
   "metadata": {},
   "outputs": [
    {
     "data": {
      "text/html": [
       "<div>\n",
       "<style scoped>\n",
       "    .dataframe tbody tr th:only-of-type {\n",
       "        vertical-align: middle;\n",
       "    }\n",
       "\n",
       "    .dataframe tbody tr th {\n",
       "        vertical-align: top;\n",
       "    }\n",
       "\n",
       "    .dataframe thead th {\n",
       "        text-align: right;\n",
       "    }\n",
       "</style>\n",
       "<table border=\"1\" class=\"dataframe\">\n",
       "  <thead>\n",
       "    <tr style=\"text-align: right;\">\n",
       "      <th></th>\n",
       "      <th>col_education</th>\n",
       "      <th>col_ethnicity</th>\n",
       "      <th>col_drinks</th>\n",
       "      <th>col_status</th>\n",
       "      <th>col_diet</th>\n",
       "      <th>col_job</th>\n",
       "      <th>col_smokes</th>\n",
       "      <th>col_drugs</th>\n",
       "      <th>height</th>\n",
       "      <th>col_orientation</th>\n",
       "      <th>age</th>\n",
       "    </tr>\n",
       "  </thead>\n",
       "  <tbody>\n",
       "    <tr>\n",
       "      <th>0</th>\n",
       "      <td>7</td>\n",
       "      <td>8</td>\n",
       "      <td>3</td>\n",
       "      <td>3</td>\n",
       "      <td>5</td>\n",
       "      <td>16</td>\n",
       "      <td>3</td>\n",
       "      <td>2</td>\n",
       "      <td>75.0</td>\n",
       "      <td>2</td>\n",
       "      <td>22</td>\n",
       "    </tr>\n",
       "    <tr>\n",
       "      <th>1</th>\n",
       "      <td>2</td>\n",
       "      <td>9</td>\n",
       "      <td>4</td>\n",
       "      <td>3</td>\n",
       "      <td>3</td>\n",
       "      <td>11</td>\n",
       "      <td>4</td>\n",
       "      <td>1</td>\n",
       "      <td>70.0</td>\n",
       "      <td>2</td>\n",
       "      <td>35</td>\n",
       "    </tr>\n",
       "    <tr>\n",
       "      <th>7</th>\n",
       "      <td>7</td>\n",
       "      <td>9</td>\n",
       "      <td>3</td>\n",
       "      <td>3</td>\n",
       "      <td>5</td>\n",
       "      <td>3</td>\n",
       "      <td>4</td>\n",
       "      <td>2</td>\n",
       "      <td>65.0</td>\n",
       "      <td>2</td>\n",
       "      <td>31</td>\n",
       "    </tr>\n",
       "    <tr>\n",
       "      <th>9</th>\n",
       "      <td>5</td>\n",
       "      <td>9</td>\n",
       "      <td>1</td>\n",
       "      <td>3</td>\n",
       "      <td>5</td>\n",
       "      <td>0</td>\n",
       "      <td>4</td>\n",
       "      <td>2</td>\n",
       "      <td>65.0</td>\n",
       "      <td>2</td>\n",
       "      <td>37</td>\n",
       "    </tr>\n",
       "    <tr>\n",
       "      <th>11</th>\n",
       "      <td>7</td>\n",
       "      <td>9</td>\n",
       "      <td>3</td>\n",
       "      <td>2</td>\n",
       "      <td>5</td>\n",
       "      <td>8</td>\n",
       "      <td>4</td>\n",
       "      <td>2</td>\n",
       "      <td>72.0</td>\n",
       "      <td>2</td>\n",
       "      <td>28</td>\n",
       "    </tr>\n",
       "  </tbody>\n",
       "</table>\n",
       "</div>"
      ],
      "text/plain": [
       "    col_education  col_ethnicity  col_drinks  col_status  col_diet  col_job  \\\n",
       "0               7              8           3           3         5       16   \n",
       "1               2              9           4           3         3       11   \n",
       "7               7              9           3           3         5        3   \n",
       "9               5              9           1           3         5        0   \n",
       "11              7              9           3           2         5        8   \n",
       "\n",
       "    col_smokes  col_drugs  height  col_orientation  age  \n",
       "0            3          2    75.0                2   22  \n",
       "1            4          1    70.0                2   35  \n",
       "7            4          2    65.0                2   31  \n",
       "9            4          2    65.0                2   37  \n",
       "11           4          2    72.0                2   28  "
      ]
     },
     "execution_count": 87,
     "metadata": {},
     "output_type": "execute_result"
    }
   ],
   "source": [
    "l_and_f = ['col_education', 'col_ethnicity', 'col_drinks', 'col_status','col_diet', 'col_job', 'col_smokes', 'col_drugs','height', 'col_orientation', 'age','religion_clean']\n",
    "labels = df['religion_clean']\n",
    "features = df[l_and_f[:-1]]\n",
    "features.head()"
   ]
  },
  {
   "cell_type": "code",
   "execution_count": 89,
   "metadata": {},
   "outputs": [],
   "source": [
    "x_train, x_test, y_train, y_test = train_test_split(features, labels, test_size = 0.2, random_state = 100, stratify = labels)"
   ]
  },
  {
   "cell_type": "code",
   "execution_count": 90,
   "metadata": {},
   "outputs": [],
   "source": [
    "from sklearn.preprocessing import StandardScaler\n",
    "\n",
    "scaler_religion = StandardScaler()\n",
    "scaler_x_train = scaler_religion.fit_transform(x_train)\n",
    "scaler_x_test = scaler_religion.transform(x_test)"
   ]
  },
  {
   "cell_type": "code",
   "execution_count": 91,
   "metadata": {
    "scrolled": true
   },
   "outputs": [
    {
     "name": "stdout",
     "output_type": "stream",
     "text": [
      "0.22645900465449337\n"
     ]
    }
   ],
   "source": [
    "model = LogisticRegression(multi_class= 'multinomial', max_iter=1500)\n",
    "model.fit(scaler_x_train, y_train)\n",
    "print(model.score(x_test, y_test))"
   ]
  },
  {
   "cell_type": "code",
   "execution_count": 92,
   "metadata": {},
   "outputs": [
    {
     "name": "stdout",
     "output_type": "stream",
     "text": [
      "0.2672753311851056\n"
     ]
    }
   ],
   "source": [
    "minmax_scaler = preprocessing.MinMaxScaler()\n",
    "x_train_min_max = minmax_scaler.fit_transform(x_train)\n",
    "x_test_min_max = minmax_scaler.transform(x_test)\n",
    "model1 = LogisticRegression(multi_class = 'multinomial', max_iter=1500)\n",
    "model1.fit(x_train_min_max, y_train)\n",
    "print(model1.score(x_test_min_max, y_test))"
   ]
  },
  {
   "cell_type": "markdown",
   "metadata": {},
   "source": [
    "My assumtion for LR model low accuracy:\n",
    "Logistic regression is commonly used for predicting continuous values, and not  for classification problems and working with cathegorical variables. To use LR, I guess I would need to reformulate the problem to get binary values Yes or No\n",
    "\n",
    "Data is imbalanced, without resampling model accuracy probably won't be correct."
   ]
  },
  {
   "cell_type": "code",
   "execution_count": 93,
   "metadata": {},
   "outputs": [
    {
     "data": {
      "image/png": "[encoded data removed]",
      "text/plain": [
       "<Figure size 864x432 with 1 Axes>"
      ]
     },
     "metadata": {},
     "output_type": "display_data"
    }
   ],
   "source": [
    "coeficients = (model1.coef_).tolist()[0]\n",
    "fig, ax = plt.subplots(figsize=(12,6))\n",
    "ax.bar(l_and_f[:-1], coeficients, color = '#d53e4f')\n",
    "ax.set_xticks(range(11))\n",
    "ax.set_xticklabels(['education', 'ethnicity', 'drinking', 'status', 'diet','job', 'smoking', 'drugs', 'height', 'orientation', 'age'])\n",
    "ax.set_title(\"Selected Features and there importance in predicting religion of OKCupid portal user\")\n",
    "plt.show()"
   ]
  },
  {
   "cell_type": "markdown",
   "metadata": {},
   "source": [
    "**Resampling Data**"
   ]
  },
  {
   "cell_type": "code",
   "execution_count": 95,
   "metadata": {},
   "outputs": [],
   "source": [
    "from sklearn.utils import resample\n",
    "l_and_f = ['col_education', 'col_ethnicity', 'col_drinks', 'col_status','col_diet','col_job', 'col_smokes', 'col_drugs','height', 'col_orientation','age','religion_clean']\n",
    "agno_r = df[df['religion_clean']=='agnosticism'][l_and_f]\n",
    "other_r = df[df['religion_clean']=='other'][l_and_f]\n",
    "athe_r = df[df['religion_clean']=='atheism'][l_and_f]\n",
    "christi_r = df[df['religion_clean']=='christianity'][l_and_f]\n",
    "catho_r = df[df['religion_clean']=='catholicism'][l_and_f]\n",
    "juda_r = df[df['religion_clean']=='judaism'][l_and_f]\n",
    "budd_r = df[df['religion_clean']=='buddhism'][l_and_f]\n",
    "hind_r = df[df['religion_clean']=='hinduism'][l_and_f]\n",
    "isl_r = df[df['religion_clean']=='islam'][l_and_f]\n",
    "hind_r = resample(hind_r, replace= True, n_samples=10500, random_state=150)\n",
    "isl_r = resample(isl_r, replace=True, n_samples = 10500, random_state = 150)\n",
    "budd_r = resample(budd_r, replace=True, n_samples = 9000, random_state=150)\n",
    "juda_r = resample(juda_r, replace=True, n_samples = 10050, random_state=150)\n",
    "\n",
    "all_religion = pd.concat([agno_r, other_r, athe_r, catho_r, juda_r, budd_r, hind_r, isl_r, christi_r])\n",
    "featuresr = all_religion.drop('religion_clean', axis=1)\n",
    "labelsr = all_religion.religion_clean\n",
    "\n",
    "\n"
   ]
  },
  {
   "cell_type": "code",
   "execution_count": 96,
   "metadata": {},
   "outputs": [
    {
     "name": "stdout",
     "output_type": "stream",
     "text": [
      "64171\n",
      "64171\n"
     ]
    }
   ],
   "source": [
    "print(len(all_religion))\n",
    "print(len(labelsr))"
   ]
  },
  {
   "cell_type": "markdown",
   "metadata": {},
   "source": [
    "**Linear Regression Model on Resampled Data**"
   ]
  },
  {
   "cell_type": "code",
   "execution_count": 98,
   "metadata": {},
   "outputs": [],
   "source": [
    "# let's try logaritmic regression with resampled data ... but first Preprocessing with minMax scaler \n",
    "xl_train, xl_test, yl_train, yl_test = train_test_split(featuresr, labelsr, test_size = 0.2, random_state = 100, stratify= labelsr)\n",
    "mm_scaler = preprocessing.MinMaxScaler()\n",
    "mm_xl_train = mm_scaler.fit_transform(xl_train)\n",
    "mm_xl_test = mm_scaler.transform(xl_test)\n"
   ]
  },
  {
   "cell_type": "code",
   "execution_count": 99,
   "metadata": {
    "scrolled": true
   },
   "outputs": [
    {
     "name": "stdout",
     "output_type": "stream",
     "text": [
      "0.0876509544215037\n"
     ]
    }
   ],
   "source": [
    "model1 =  LogisticRegression(multi_class = 'multinomial', max_iter=1500)\n",
    "model1.fit(mm_xl_train, yl_train)\n",
    "print(model.score(mm_xl_test, yl_test))\n"
   ]
  },
  {
   "cell_type": "markdown",
   "metadata": {},
   "source": [
    "Accuracy is lower than prior to resampling . Logistic Regression seems to be the wrong choice when classifying or predicting the religion of random user "
   ]
  },
  {
   "cell_type": "markdown",
   "metadata": {},
   "source": [
    "**KNN Model On Resampled Data** "
   ]
  },
  {
   "cell_type": "code",
   "execution_count": 100,
   "metadata": {},
   "outputs": [],
   "source": [
    "rsx_train, rsx_test, rslabels_train, rslabels_test= train_test_split(featuresr, labelsr, test_size=0.2, random_state =100, stratify=labelsr)\n"
   ]
  },
  {
   "cell_type": "code",
   "execution_count": 101,
   "metadata": {},
   "outputs": [
    {
     "name": "stdout",
     "output_type": "stream",
     "text": [
      "[0.69676665368134, 0.6819633813790417, 0.6796260225944682, 0.667939228671601]\n"
     ]
    }
   ],
   "source": [
    "accuracy = []\n",
    "for k in range(1,5):\n",
    "    model_k = KNeighborsClassifier(n_neighbors = k)\n",
    "    model_k.fit(rsx_train, rslabels_train)\n",
    "    accuracy.append(model_k.score(rsx_test, rslabels_test))\n",
    "print(accuracy)"
   ]
  },
  {
   "cell_type": "code",
   "execution_count": 102,
   "metadata": {},
   "outputs": [
    {
     "data": {
      "image/png": "[encoded data removed]",
      "text/plain": [
       "<Figure size 720x432 with 1 Axes>"
      ]
     },
     "metadata": {},
     "output_type": "display_data"
    }
   ],
   "source": [
    "ax,f = plt.subplots(figsize=(10,6))\n",
    "plt.plot(range(1,5), accuracy)\n",
    "plt.show()"
   ]
  },
  {
   "cell_type": "markdown",
   "metadata": {},
   "source": [
    ":)))) accuracy is over 50, or exactly 69,59% !!! with K Nearest Neighbors Classifier. \n",
    "Since the clases were inbalanced, it seems like resampling some clases also helped very much \n",
    "For KNN model, the accuracy drops as number of neighbours increases. \n",
    "I tried increasing random state, and as result accuracy drops more faster with increasing no of neighbours \n",
    "and #if k is very large, our classifier will suffer from underfitting. "
   ]
  },
  {
   "cell_type": "code",
   "execution_count": 103,
   "metadata": {
    "scrolled": true
   },
   "outputs": [
    {
     "name": "stdout",
     "output_type": "stream",
     "text": [
      "              precision    recall  f1-score   support\n",
      "\n",
      " agnosticism       0.47      0.58      0.52      4659\n",
      "     atheism       0.56      0.39      0.46      3669\n",
      "    buddhism       0.79      0.99      0.88      7200\n",
      " catholicism       0.55      0.32      0.40      2909\n",
      "christianity       0.59      0.34      0.43      3694\n",
      "    hinduism       0.96      1.00      0.98      8400\n",
      "       islam       0.99      1.00      0.99      8400\n",
      "     judaism       0.74      0.98      0.84      8040\n",
      "       other       0.64      0.31      0.42      4365\n",
      "\n",
      "    accuracy                           0.77     51336\n",
      "   macro avg       0.70      0.66      0.66     51336\n",
      "weighted avg       0.75      0.77      0.75     51336\n",
      "\n"
     ]
    }
   ],
   "source": [
    "knn_predict = model_k.predict(rsx_train)\n",
    "print(classification_report(rslabels_train, knn_predict))\n"
   ]
  },
  {
   "cell_type": "markdown",
   "metadata": {},
   "source": [
    "The Accuracy seems to be good with KNN data. "
   ]
  },
  {
   "cell_type": "markdown",
   "metadata": {},
   "source": [
    "**Try Different Algorithms.... Decision Tree Classifier (On Resampled Data)**"
   ]
  },
  {
   "cell_type": "code",
   "execution_count": 279,
   "metadata": {},
   "outputs": [],
   "source": [
    "from sklearn.ensemble import RandomForestClassifier"
   ]
  },
  {
   "cell_type": "code",
   "execution_count": 280,
   "metadata": {},
   "outputs": [
    {
     "data": {
      "text/plain": [
       "RandomForestClassifier(random_state=1)"
      ]
     },
     "execution_count": 280,
     "metadata": {},
     "output_type": "execute_result"
    }
   ],
   "source": [
    "forest = RandomForestClassifier(random_state = 1)\n",
    "fx_train, fx_test, fy_train, fy_test = train_test_split(featuresr, labelsr, random_state=1, stratify=labelsr)\n",
    "forest.fit(fx_train, fy_train)"
   ]
  },
  {
   "cell_type": "code",
   "execution_count": 281,
   "metadata": {
    "scrolled": true
   },
   "outputs": [
    {
     "name": "stdout",
     "output_type": "stream",
     "text": [
      "0.7143302374867544\n"
     ]
    }
   ],
   "source": [
    "print(forest.score(fx_test, fy_test)) "
   ]
  },
  {
   "cell_type": "code",
   "execution_count": 283,
   "metadata": {},
   "outputs": [
    {
     "name": "stdout",
     "output_type": "stream",
     "text": [
      "              precision    recall  f1-score   support\n",
      "\n",
      " agnosticism       0.27      0.23      0.25      1456\n",
      "     atheism       0.32      0.26      0.29      1147\n",
      "    buddhism       0.85      0.99      0.91      2250\n",
      " catholicism       0.30      0.22      0.25       909\n",
      "christianity       0.32      0.25      0.28      1154\n",
      "    hinduism       0.97      1.00      0.99      2625\n",
      "       islam       1.00      1.00      1.00      2625\n",
      "     judaism       0.78      0.98      0.87      2513\n",
      "       other       0.33      0.29      0.31      1364\n",
      "\n",
      "    accuracy                           0.71     16043\n",
      "   macro avg       0.57      0.58      0.57     16043\n",
      "weighted avg       0.68      0.71      0.69     16043\n",
      "\n"
     ]
    }
   ],
   "source": [
    "from sklearn.metrics import classification_report\n",
    "y_predict = forest.predict(fx_test)\n",
    "forest_classification= classification_report(fy_test, y_predict)\n",
    "print(forest_classification)"
   ]
  },
  {
   "cell_type": "markdown",
   "metadata": {},
   "source": [
    "Resampling did improvethe test accuracy , as well as making sure that label data has all the classes... model\n",
    "it is somewhat accurate, Confusion matrix below should  tell us more where mistakes are made "
   ]
  },
  {
   "cell_type": "markdown",
   "metadata": {},
   "source": [
    "**Confusion matrix**"
   ]
  },
  {
   "cell_type": "code",
   "execution_count": 289,
   "metadata": {},
   "outputs": [],
   "source": [
    "from sklearn.metrics import confusion_matrix\n",
    "forest_matrix = confusion_matrix(fy_test, y_predict)\n",
    "forest_labels = forest.classes_"
   ]
  },
  {
   "cell_type": "code",
   "execution_count": 299,
   "metadata": {},
   "outputs": [
    {
     "data": {
      "image/png": "[encoded data removed]",
      "text/plain": [
       "<Figure size 1008x576 with 2 Axes>"
      ]
     },
     "metadata": {},
     "output_type": "display_data"
    }
   ],
   "source": [
    "ax,fig = plt.subplots(figsize=(14, 8))\n",
    "sns.heatmap(forest_matrix, annot=True, fmt = 'd', cmap = 'Spectral', xticklabels=forest_labels, yticklabels=forest_labels)\n",
    "plt.xlabel('Predicted Features')\n",
    "plt.ylabel('True Features')\n",
    "plt.show()"
   ]
  },
  {
   "cell_type": "markdown",
   "metadata": {},
   "source": [
    "From confusion matrix above, it is visible that :\n",
    "- model did good job with classes which were subject of resampling. Could be that as result of resampling much more entries is generated and at the end dataset is unbalanced again but in favor of other labels as before sampling. \n",
    "- model struggled to make distinction between agnosticism and atheism , and between catholicism and christianity . Which makes sense since there are in reality nuances or same one category is acutally part of another: Catholicism is the largest denomination of Christianity . Maybe it would be more usefull if I  put catholicism and Chrstianity as one class. \n",
    "- Also class 'other' is confusing for the model (I can't blame it) .. maybe it would be better to remove it since it actually not saying anything about religious orientation \n"
   ]
  },
  {
   "cell_type": "markdown",
   "metadata": {},
   "source": [
    "## Next Steps ##"
   ]
  },
  {
   "cell_type": "markdown",
   "metadata": {},
   "source": [
    "Project is very interesting and motivates me to explor further. That also requires a lot of time, and therefore maybe best approach is to split activities in phases. So the next phaase would be: \n",
    "- Analysing of Essay texts and based on that predict & Classify the religion \n",
    "- Change the Classes for religion : put Catholicism and Christianity as one class, remove other, put together Atheism and agnosticism as one class \n",
    "- investigate and think about better ways of preprocessing and presenting data "
   ]
  }
 ],
 "metadata": {
  "kernelspec": {
   "display_name": "Python 3",
   "language": "python",
   "name": "python3"
  },
  "language_info": {
   "codemirror_mode": {
    "name": "ipython",
    "version": 3
   },
   "file_extension": ".py",
   "mimetype": "text/x-python",
   "name": "python",
   "nbconvert_exporter": "python",
   "pygments_lexer": "ipython3",
   "version": "3.8.5"
  }
 },
 "nbformat": 4,
 "nbformat_minor": 4
}
