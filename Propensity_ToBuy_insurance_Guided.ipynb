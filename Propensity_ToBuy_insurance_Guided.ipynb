{
 "cells": [
  {
   "attachments": {},
   "cell_type": "markdown",
   "metadata": {
    "dc": {
     "key": "3"
    },
    "deletable": false,
    "editable": false,
    "run_control": {
     "frozen": true
    },
    "tags": [
     "context"
    ]
   },
   "source": [
    "## 1. Importing the dataset\n",
    "<p>Insurance company is planning a marketing campaign to sell accident insurance to their existing customers. For a good cost-benefit ratio advertising letters should be sent to customers with a high propensity to buy only.</p>\n",
    "<p>To identify those customers you are asked to develop a logistic regression model predicting how likely a customer is to buy this insurance product. Therefore you are given a dataset with presumably relevant features describing the customers and their contractual relationship to Allianz (as known at the end of 2019) together with the labels whether they contracted an accident insurance in 2020 or not. The dataset consists of a sample of ten thousand customers. Later, your model would be applied to all current customers that come into consideration for the marketing campaign and only those with the highest predicted propensity to buy would be addressed.</p>\n",
    "<hr>\n",
    "<p><strong>Note: the dataset is based upon a non-representative sample of real data, but (for the purposes of data security) is strongly modified in various ways so that conclusions drawn from the exploratory part and the models do not reflect reality.</strong></p>"
   ]
  },
  {
   "cell_type": "code",
   "execution_count": 1,
   "metadata": {
    "dc": {
     "key": "3"
    },
    "scrolled": true,
    "tags": [
     "sample_code"
    ]
   },
   "outputs": [
    {
     "data": {
      "text/html": [
       "<div>\n",
       "<style scoped>\n",
       "    .dataframe tbody tr th:only-of-type {\n",
       "        vertical-align: middle;\n",
       "    }\n",
       "\n",
       "    .dataframe tbody tr th {\n",
       "        vertical-align: top;\n",
       "    }\n",
       "\n",
       "    .dataframe thead th {\n",
       "        text-align: right;\n",
       "    }\n",
       "</style>\n",
       "<table border=\"1\" class=\"dataframe\">\n",
       "  <thead>\n",
       "    <tr style=\"text-align: right;\">\n",
       "      <th></th>\n",
       "      <th>id</th>\n",
       "      <th>new_business</th>\n",
       "      <th>age</th>\n",
       "      <th>number_of_contracts</th>\n",
       "      <th>property</th>\n",
       "      <th>life</th>\n",
       "      <th>health</th>\n",
       "      <th>premium_customer</th>\n",
       "      <th>premium_household</th>\n",
       "      <th>sales_channel</th>\n",
       "      <th>new_business_py</th>\n",
       "      <th>self_employed</th>\n",
       "      <th>gender_male</th>\n",
       "    </tr>\n",
       "  </thead>\n",
       "  <tbody>\n",
       "    <tr>\n",
       "      <th>0</th>\n",
       "      <td>1</td>\n",
       "      <td>0</td>\n",
       "      <td>59</td>\n",
       "      <td>1</td>\n",
       "      <td>1</td>\n",
       "      <td>0</td>\n",
       "      <td>0</td>\n",
       "      <td>164.00</td>\n",
       "      <td>1976.11</td>\n",
       "      <td>other</td>\n",
       "      <td>none</td>\n",
       "      <td>0</td>\n",
       "      <td>1</td>\n",
       "    </tr>\n",
       "    <tr>\n",
       "      <th>1</th>\n",
       "      <td>2</td>\n",
       "      <td>0</td>\n",
       "      <td>59</td>\n",
       "      <td>1</td>\n",
       "      <td>0</td>\n",
       "      <td>1</td>\n",
       "      <td>0</td>\n",
       "      <td>272.18</td>\n",
       "      <td>272.18</td>\n",
       "      <td>tied_agend</td>\n",
       "      <td>none</td>\n",
       "      <td>0</td>\n",
       "      <td>0</td>\n",
       "    </tr>\n",
       "    <tr>\n",
       "      <th>2</th>\n",
       "      <td>3</td>\n",
       "      <td>0</td>\n",
       "      <td>53</td>\n",
       "      <td>2</td>\n",
       "      <td>0</td>\n",
       "      <td>1</td>\n",
       "      <td>1</td>\n",
       "      <td>1298.28</td>\n",
       "      <td>20160.83</td>\n",
       "      <td>tied_agend</td>\n",
       "      <td>none</td>\n",
       "      <td>0</td>\n",
       "      <td>0</td>\n",
       "    </tr>\n",
       "    <tr>\n",
       "      <th>3</th>\n",
       "      <td>4</td>\n",
       "      <td>0</td>\n",
       "      <td>30</td>\n",
       "      <td>1</td>\n",
       "      <td>0</td>\n",
       "      <td>0</td>\n",
       "      <td>1</td>\n",
       "      <td>5.13</td>\n",
       "      <td>5.13</td>\n",
       "      <td>tied_agend</td>\n",
       "      <td>none</td>\n",
       "      <td>0</td>\n",
       "      <td>1</td>\n",
       "    </tr>\n",
       "    <tr>\n",
       "      <th>4</th>\n",
       "      <td>5</td>\n",
       "      <td>0</td>\n",
       "      <td>43</td>\n",
       "      <td>4</td>\n",
       "      <td>1</td>\n",
       "      <td>0</td>\n",
       "      <td>1</td>\n",
       "      <td>710.61</td>\n",
       "      <td>710.61</td>\n",
       "      <td>tied_agend</td>\n",
       "      <td>p</td>\n",
       "      <td>1</td>\n",
       "      <td>0</td>\n",
       "    </tr>\n",
       "  </tbody>\n",
       "</table>\n",
       "</div>"
      ],
      "text/plain": [
       "   id  new_business  age  number_of_contracts  property  life  health  \\\n",
       "0   1             0   59                    1         1     0       0   \n",
       "1   2             0   59                    1         0     1       0   \n",
       "2   3             0   53                    2         0     1       1   \n",
       "3   4             0   30                    1         0     0       1   \n",
       "4   5             0   43                    4         1     0       1   \n",
       "\n",
       "   premium_customer  premium_household sales_channel new_business_py  \\\n",
       "0            164.00            1976.11         other            none   \n",
       "1            272.18             272.18    tied_agend            none   \n",
       "2           1298.28           20160.83    tied_agend            none   \n",
       "3              5.13               5.13    tied_agend            none   \n",
       "4            710.61             710.61    tied_agend               p   \n",
       "\n",
       "   self_employed  gender_male  \n",
       "0              0            1  \n",
       "1              0            0  \n",
       "2              0            0  \n",
       "3              0            1  \n",
       "4              1            0  "
      ]
     },
     "execution_count": 1,
     "metadata": {},
     "output_type": "execute_result"
    }
   ],
   "source": [
    "# Import pandas using the usual alias\n",
    "import pandas as pd\n",
    "\n",
    "# Read in the semi-colon separated data from datasets/NEW_BUSINESS_ACCIDENT_10000.csv\n",
    "propensity_data = pd.read_csv('NEW_BUSINESS_ACCIDENT_10000.csv', sep=';')\n",
    "\n",
    "# Print out the first 5 lines of the dataset\n",
    "propensity_data.head()"
   ]
  },
  {
   "attachments": {},
   "cell_type": "markdown",
   "metadata": {
    "dc": {
     "key": "13"
    },
    "deletable": false,
    "editable": false,
    "run_control": {
     "frozen": true
    },
    "tags": [
     "context"
    ]
   },
   "source": [
    "## 2. Exploring the dataset\n",
    "<p>Here are the details of the dataset you just imported.</p>\n",
    "<ul>\n",
    "<li><code>id</code>: identity number of the customer</li>\n",
    "<li>target is <code>new_business</code>: dichotomous variable indicating whether the customer bought an accident insurance within the following year (1: yes, 0: no)</li>\n",
    "<li><code>age</code>: age of the customer in full years (numerical, ranging from 30 to 70)</li>\n",
    "<li><code>number_of_contracts</code>: number of insurance policies the customer has with Allianz Germany already (numerical/ discrete)</li>\n",
    "<li><code>property</code>: dichotomous feature indicating whether the customer holds policies from the field of P&amp;C (property and casualty) (1: yes, 0: no)</li>\n",
    "<li><code>life</code>: dichotomous feature indicating whether the customer holds policies from the field of life insurance (1: yes, 0: no)</li>\n",
    "<li><code>health</code>: dichotomous feature indicating whether the customer holds policies from the field of health insurance (1: yes, 0: no)</li>\n",
    "<li><code>premium_customer</code>: annual premium the customer is paying (numerical/ quasi-continuous)</li>\n",
    "<li><code>premium_household</code>: annual premium of all Allianz Germany customers living in the household of the customer including the customer himself (numerical/ quasi-continuous)</li>\n",
    "<li><code>sales_channel</code>: sales channel through which the customer concluded his insurance policies (nominal/ multi-categorical)</li>\n",
    "<li><code>gender_male</code>: dichotomous feature indicating whether the customer is male (1: yes, 0: no)</li>\n",
    "<li><code>new_business_py</code>: business field(s) of new insurance contracts concluded by the customer within the prior year (nominal/ multi-categorical, none: no new business, p: new business from the field of P&amp;C only, p+: new business from the field of P&amp;C and at least one other field, lh: new business from the field of life, health or both)</li>\n",
    "<li><code>self_employed</code>: dichotomous feature indicating whether the customer is self-employed (1: yes, 0: no)</li>\n",
    "</ul>\n",
    "<hr>\n",
    "<p>Instead of starting directly with the development of the predictive model, you should first familiarize yourself with the data and get an understanding for the relationships between the variables. Having a look at the correlation matrix is a good start. It will give you a first impression of the predictive power of your numerical features and will also allow you to identify highly correlated features. Strong collinearity should be avoided when building a logistic regression model as it may hinder the convergence of your model and makes the coefficients less meaningful and reliable. But note that correlation only measures the linear relationship!</p>\n",
    "<p>Correlation matrices can also quickly become confusing, especially if there are many variables. Color highlighting of strong correlations can then be very helpful. This can be done by using a heatmap&mdash;have a try! Do some coefficients attract your attention? Keep your observations in mind, we will get back to them in later tasks.</p>"
   ]
  },
  {
   "cell_type": "code",
   "execution_count": 2,
   "metadata": {
    "dc": {
     "key": "13"
    },
    "tags": [
     "sample_code"
    ]
   },
   "outputs": [
    {
     "data": {
      "image/png": "[encoded data removed]",
      "text/plain": [
       "<Figure size 576x576 with 2 Axes>"
      ]
     },
     "metadata": {
      "needs_background": "light"
     },
     "output_type": "display_data"
    }
   ],
   "source": [
    "# Import seaborn and matplotlib.pyplot using the usual aliases\n",
    "import seaborn as sns\n",
    "import matplotlib.pyplot as plt \n",
    "\n",
    "# Drop the ID column from the first axis\n",
    "no_id = propensity_data.drop(columns=['id'], axis=1)\n",
    "\n",
    "# Calculate a correlation matrix of all columns of no_id\n",
    "corr_matrix = no_id.corr()\n",
    "\n",
    "# Draw a heatmap of corr_matrix, with annotations, using the 'coolwarm' colormap\n",
    "plt.figure(figsize = (8, 8))\n",
    "ax = sns.heatmap(corr_matrix, annot=True, cmap='coolwarm')\n",
    "\n",
    "# Display the plot\n",
    "plt.show()"
   ]
  },
  {
   "attachments": {},
   "cell_type": "markdown",
   "metadata": {
    "dc": {
     "key": "20"
    },
    "deletable": false,
    "editable": false,
    "run_control": {
     "frozen": true
    },
    "tags": [
     "context"
    ]
   },
   "source": [
    "## 3. Visualizing lines of business\n",
    "<p>The previous correlation heatmap revealed several interesting things.</p>\n",
    "<ul>\n",
    "<li><code>premium_customer</code> and <code>premium_household</code> are highly linearly correlated, so we will only need to include one of them in our model. Since <code>premium_household</code> is less strongly correlated with <code>number_of_contracts</code>, we will choose to only include <code>premium_household</code> in our model and drop <code>premium_customer</code>.</li>\n",
    "<li>There is moderate correlation between <code>property</code>, <code>life</code> and <code>health</code>. This can be avoided by combining them and creating a new feature, <code>lines_of_business</code>.</li>\n",
    "<li>There is low correlation between <code>age</code> and the target variable <code>new_business</code>. We should explore this relationship using a line plot.</li>\n",
    "</ul>\n",
    "<p>For now, let's concentrate on the three lines of business: property, life, and health. These indicate whether the customer holds a product from the according line of business at Allianz.</p>\n",
    "<p>Instead of considering these features separately, you can combine them in a new feature, <code>lines_of_business</code>, reflecting the product mix of the customer and thus capture even more information. While tree-based models capture interaction effects between features automatically, logistic regression models do not. You can improve your model by adding interaction terms manually. To check the relationship between the newly built feature and the propensity to buy an accident insurance, create a barplot visualizing the proportion of customers with new business for each category. <em>Do you think the interaction terms would add value to your model?</em></p>"
   ]
  },
  {
   "cell_type": "code",
   "execution_count": 3,
   "metadata": {
    "dc": {
     "key": "20"
    },
    "tags": [
     "sample_code"
    ]
   },
   "outputs": [
    {
     "data": {
      "image/png": "[encoded data removed]",
      "text/plain": [
       "<Figure size 432x288 with 1 Axes>"
      ]
     },
     "metadata": {
      "needs_background": "light"
     },
     "output_type": "display_data"
    }
   ],
   "source": [
    "# Import numpy using the usual alias\n",
    "import numpy as np\n",
    "\n",
    "# This code returns \"p\" where the property column is True and \".\" otherwise\n",
    "p = np.where(propensity_data[\"property\"], \"p\", \".\") \n",
    "\n",
    "# Return \"l\" where the life column is True and \".\" otherwise\n",
    "l = np.where(propensity_data['life'], 'l', '.')\n",
    "\n",
    "# Return \"h\" where the health column is True and \".\" otherwise\n",
    "h = np.where(propensity_data['health'], 'h', '.')\n",
    "\n",
    "# Add the character arrays p, l, and h together\n",
    "propensity_data[\"lines_of_business\"] = np.char.add(np.char.add(p, l), h)\n",
    "\n",
    "# For each lines_of_business group, calculate the proportion of new business\n",
    "prop_new_business_by_lines_of_business = propensity_data.groupby('lines_of_business')['new_business'].mean()\n",
    "\n",
    "# Reset the index of prop_new_business_by_lines_of_business\n",
    "prop_new_business_by_lines_of_business_data = prop_new_business_by_lines_of_business.reset_index()\n",
    "#prop_new_business_by_lines_of_business_data.head()\n",
    "\n",
    "# Draw a bar plot of the proportion of new_business vs. lines_of_business and display it\n",
    "ax=sns.barplot(data =prop_new_business_by_lines_of_business_data, x='lines_of_business', y='new_business' )\n",
    "#ax = plt.bar(prop_new_business_by_lines_of_business_data['lines_of_business'], prop_new_business_by_lines_of_business_data[new_business])\n",
    "plt.show()"
   ]
  },
  {
   "cell_type": "code",
   "execution_count": 5,
   "metadata": {},
   "outputs": [
    {
     "data": {
      "text/html": [
       "<div>\n",
       "<style scoped>\n",
       "    .dataframe tbody tr th:only-of-type {\n",
       "        vertical-align: middle;\n",
       "    }\n",
       "\n",
       "    .dataframe tbody tr th {\n",
       "        vertical-align: top;\n",
       "    }\n",
       "\n",
       "    .dataframe thead th {\n",
       "        text-align: right;\n",
       "    }\n",
       "</style>\n",
       "<table border=\"1\" class=\"dataframe\">\n",
       "  <thead>\n",
       "    <tr style=\"text-align: right;\">\n",
       "      <th></th>\n",
       "      <th>id</th>\n",
       "      <th>new_business</th>\n",
       "      <th>age</th>\n",
       "      <th>number_of_contracts</th>\n",
       "      <th>property</th>\n",
       "      <th>life</th>\n",
       "      <th>health</th>\n",
       "      <th>premium_customer</th>\n",
       "      <th>premium_household</th>\n",
       "      <th>sales_channel</th>\n",
       "      <th>new_business_py</th>\n",
       "      <th>self_employed</th>\n",
       "      <th>gender_male</th>\n",
       "      <th>lines_of_business</th>\n",
       "    </tr>\n",
       "  </thead>\n",
       "  <tbody>\n",
       "    <tr>\n",
       "      <th>0</th>\n",
       "      <td>1</td>\n",
       "      <td>0</td>\n",
       "      <td>59</td>\n",
       "      <td>1</td>\n",
       "      <td>1</td>\n",
       "      <td>0</td>\n",
       "      <td>0</td>\n",
       "      <td>164.00</td>\n",
       "      <td>1976.11</td>\n",
       "      <td>other</td>\n",
       "      <td>none</td>\n",
       "      <td>0</td>\n",
       "      <td>1</td>\n",
       "      <td>p..</td>\n",
       "    </tr>\n",
       "    <tr>\n",
       "      <th>1</th>\n",
       "      <td>2</td>\n",
       "      <td>0</td>\n",
       "      <td>59</td>\n",
       "      <td>1</td>\n",
       "      <td>0</td>\n",
       "      <td>1</td>\n",
       "      <td>0</td>\n",
       "      <td>272.18</td>\n",
       "      <td>272.18</td>\n",
       "      <td>tied_agend</td>\n",
       "      <td>none</td>\n",
       "      <td>0</td>\n",
       "      <td>0</td>\n",
       "      <td>.l.</td>\n",
       "    </tr>\n",
       "    <tr>\n",
       "      <th>2</th>\n",
       "      <td>3</td>\n",
       "      <td>0</td>\n",
       "      <td>53</td>\n",
       "      <td>2</td>\n",
       "      <td>0</td>\n",
       "      <td>1</td>\n",
       "      <td>1</td>\n",
       "      <td>1298.28</td>\n",
       "      <td>20160.83</td>\n",
       "      <td>tied_agend</td>\n",
       "      <td>none</td>\n",
       "      <td>0</td>\n",
       "      <td>0</td>\n",
       "      <td>.lh</td>\n",
       "    </tr>\n",
       "    <tr>\n",
       "      <th>3</th>\n",
       "      <td>4</td>\n",
       "      <td>0</td>\n",
       "      <td>30</td>\n",
       "      <td>1</td>\n",
       "      <td>0</td>\n",
       "      <td>0</td>\n",
       "      <td>1</td>\n",
       "      <td>5.13</td>\n",
       "      <td>5.13</td>\n",
       "      <td>tied_agend</td>\n",
       "      <td>none</td>\n",
       "      <td>0</td>\n",
       "      <td>1</td>\n",
       "      <td>..h</td>\n",
       "    </tr>\n",
       "    <tr>\n",
       "      <th>4</th>\n",
       "      <td>5</td>\n",
       "      <td>0</td>\n",
       "      <td>43</td>\n",
       "      <td>4</td>\n",
       "      <td>1</td>\n",
       "      <td>0</td>\n",
       "      <td>1</td>\n",
       "      <td>710.61</td>\n",
       "      <td>710.61</td>\n",
       "      <td>tied_agend</td>\n",
       "      <td>p</td>\n",
       "      <td>1</td>\n",
       "      <td>0</td>\n",
       "      <td>p.h</td>\n",
       "    </tr>\n",
       "  </tbody>\n",
       "</table>\n",
       "</div>"
      ],
      "text/plain": [
       "   id  new_business  age  number_of_contracts  property  life  health  \\\n",
       "0   1             0   59                    1         1     0       0   \n",
       "1   2             0   59                    1         0     1       0   \n",
       "2   3             0   53                    2         0     1       1   \n",
       "3   4             0   30                    1         0     0       1   \n",
       "4   5             0   43                    4         1     0       1   \n",
       "\n",
       "   premium_customer  premium_household sales_channel new_business_py  \\\n",
       "0            164.00            1976.11         other            none   \n",
       "1            272.18             272.18    tied_agend            none   \n",
       "2           1298.28           20160.83    tied_agend            none   \n",
       "3              5.13               5.13    tied_agend            none   \n",
       "4            710.61             710.61    tied_agend               p   \n",
       "\n",
       "   self_employed  gender_male lines_of_business  \n",
       "0              0            1               p..  \n",
       "1              0            0               .l.  \n",
       "2              0            0               .lh  \n",
       "3              0            1               ..h  \n",
       "4              1            0               p.h  "
      ]
     },
     "execution_count": 5,
     "metadata": {},
     "output_type": "execute_result"
    }
   ],
   "source": [
    "propensity_data.head()"
   ]
  },
  {
   "attachments": {},
   "cell_type": "markdown",
   "metadata": {
    "dc": {
     "key": "28"
    },
    "deletable": false,
    "editable": false,
    "run_control": {
     "frozen": true
    },
    "tags": [
     "context"
    ]
   },
   "source": [
    "## 4. Visualizing gender and employment status\n",
    "<p>Creating <code>lines_of_business</code> gave you further insights on the influence of a customers current product lines on the target variable you wouldn't have known when looking at property, health, and life separately.</p>\n",
    "<p>You know now that customers holding Property and Casualty (P&amp;C) policies are most likely to purchase an accident insurance. Since the bar plot showed combinations, you also know that the likelihood of buying accident insurance is even higher if they additionally hold policies from the other fields. Customers with all three types (P, L and H) are most likely, with 40% of these customers buying accident insurance in the next year. Let's keep exploring variables.</p>\n",
    "<p>Don't hesitate to try unintuitive combinations of variables. How about gender and employment status? The correlation matrix told us about the tendency of males and self-employed customers are more likely to buy an accident insurance.</p>\n",
    "<p><em>Would it be valid to assume that self-employed men have the highest likelihood to buy an accident insurance product?</em> Let's check, you might be surprised.</p>\n",
    "<p>This time it's your turn to create the combination. Use the same method shown to you in the previous task.</p>"
   ]
  },
  {
   "cell_type": "code",
   "execution_count": 4,
   "metadata": {
    "dc": {
     "key": "28"
    },
    "tags": [
     "sample_code"
    ]
   },
   "outputs": [
    {
     "data": {
      "image/png": "[encoded data removed]",
      "text/plain": [
       "<Figure size 648x360 with 1 Axes>"
      ]
     },
     "metadata": {
      "needs_background": "light"
     },
     "output_type": "display_data"
    }
   ],
   "source": [
    "# Return \"self_employed\" where self_employed column is True, and \"not_self_employed\" otherwise\n",
    "e = {1: 'self_employed', 0:'not_self_employed'}\n",
    "propensity_data[\"self_employment_status\"] = propensity_data['self_employed'].map(e)\n",
    "\n",
    "# Return \"male\" where gender_male column is True, and \"female\" otherwise\n",
    "g= {1: 'male', 0:'female'}\n",
    "propensity_data[\"gender\"] = propensity_data['gender_male'].map(g)\n",
    "\n",
    "# Combine gender and self-employment status into a single feature\n",
    "propensity_data[\"gender_self_employed\"] = propensity_data['gender'] + \"/\" + propensity_data['self_employment_status']\n",
    "\n",
    "# For each gender-status group, calculate the proportion of new business\n",
    "prop_new_business_by_gender_self_employment = propensity_data.groupby('gender_self_employed')['new_business'].mean()\n",
    "\n",
    "# Reset the index of prop_new_business_by_gender_self_employment\n",
    "prop_new_business_by_gender_self_employment_data = prop_new_business_by_gender_self_employment.reset_index()\n",
    "\n",
    "# Draw a bar plot of the proportion of new business vs. gender-status group\n",
    "plt.figure(figsize = (9, 5))\n",
    "ax = sns.barplot(data = prop_new_business_by_gender_self_employment_data, x='gender_self_employed', y='new_business' )\n",
    "plt.show()"
   ]
  },
  {
   "cell_type": "code",
   "execution_count": 5,
   "metadata": {},
   "outputs": [
    {
     "data": {
      "text/html": [
       "<div>\n",
       "<style scoped>\n",
       "    .dataframe tbody tr th:only-of-type {\n",
       "        vertical-align: middle;\n",
       "    }\n",
       "\n",
       "    .dataframe tbody tr th {\n",
       "        vertical-align: top;\n",
       "    }\n",
       "\n",
       "    .dataframe thead th {\n",
       "        text-align: right;\n",
       "    }\n",
       "</style>\n",
       "<table border=\"1\" class=\"dataframe\">\n",
       "  <thead>\n",
       "    <tr style=\"text-align: right;\">\n",
       "      <th></th>\n",
       "      <th>id</th>\n",
       "      <th>new_business</th>\n",
       "      <th>age</th>\n",
       "      <th>number_of_contracts</th>\n",
       "      <th>property</th>\n",
       "      <th>life</th>\n",
       "      <th>health</th>\n",
       "      <th>premium_customer</th>\n",
       "      <th>premium_household</th>\n",
       "      <th>sales_channel</th>\n",
       "      <th>new_business_py</th>\n",
       "      <th>self_employed</th>\n",
       "      <th>gender_male</th>\n",
       "      <th>lines_of_business</th>\n",
       "      <th>self_employment_status</th>\n",
       "      <th>gender</th>\n",
       "      <th>gender_self_employed</th>\n",
       "    </tr>\n",
       "  </thead>\n",
       "  <tbody>\n",
       "    <tr>\n",
       "      <th>0</th>\n",
       "      <td>1</td>\n",
       "      <td>0</td>\n",
       "      <td>59</td>\n",
       "      <td>1</td>\n",
       "      <td>1</td>\n",
       "      <td>0</td>\n",
       "      <td>0</td>\n",
       "      <td>164.00</td>\n",
       "      <td>1976.11</td>\n",
       "      <td>other</td>\n",
       "      <td>none</td>\n",
       "      <td>0</td>\n",
       "      <td>1</td>\n",
       "      <td>p..</td>\n",
       "      <td>not_self_employed</td>\n",
       "      <td>male</td>\n",
       "      <td>male/not_self_employed</td>\n",
       "    </tr>\n",
       "    <tr>\n",
       "      <th>1</th>\n",
       "      <td>2</td>\n",
       "      <td>0</td>\n",
       "      <td>59</td>\n",
       "      <td>1</td>\n",
       "      <td>0</td>\n",
       "      <td>1</td>\n",
       "      <td>0</td>\n",
       "      <td>272.18</td>\n",
       "      <td>272.18</td>\n",
       "      <td>tied_agend</td>\n",
       "      <td>none</td>\n",
       "      <td>0</td>\n",
       "      <td>0</td>\n",
       "      <td>.l.</td>\n",
       "      <td>not_self_employed</td>\n",
       "      <td>female</td>\n",
       "      <td>female/not_self_employed</td>\n",
       "    </tr>\n",
       "    <tr>\n",
       "      <th>2</th>\n",
       "      <td>3</td>\n",
       "      <td>0</td>\n",
       "      <td>53</td>\n",
       "      <td>2</td>\n",
       "      <td>0</td>\n",
       "      <td>1</td>\n",
       "      <td>1</td>\n",
       "      <td>1298.28</td>\n",
       "      <td>20160.83</td>\n",
       "      <td>tied_agend</td>\n",
       "      <td>none</td>\n",
       "      <td>0</td>\n",
       "      <td>0</td>\n",
       "      <td>.lh</td>\n",
       "      <td>not_self_employed</td>\n",
       "      <td>female</td>\n",
       "      <td>female/not_self_employed</td>\n",
       "    </tr>\n",
       "    <tr>\n",
       "      <th>3</th>\n",
       "      <td>4</td>\n",
       "      <td>0</td>\n",
       "      <td>30</td>\n",
       "      <td>1</td>\n",
       "      <td>0</td>\n",
       "      <td>0</td>\n",
       "      <td>1</td>\n",
       "      <td>5.13</td>\n",
       "      <td>5.13</td>\n",
       "      <td>tied_agend</td>\n",
       "      <td>none</td>\n",
       "      <td>0</td>\n",
       "      <td>1</td>\n",
       "      <td>..h</td>\n",
       "      <td>not_self_employed</td>\n",
       "      <td>male</td>\n",
       "      <td>male/not_self_employed</td>\n",
       "    </tr>\n",
       "    <tr>\n",
       "      <th>4</th>\n",
       "      <td>5</td>\n",
       "      <td>0</td>\n",
       "      <td>43</td>\n",
       "      <td>4</td>\n",
       "      <td>1</td>\n",
       "      <td>0</td>\n",
       "      <td>1</td>\n",
       "      <td>710.61</td>\n",
       "      <td>710.61</td>\n",
       "      <td>tied_agend</td>\n",
       "      <td>p</td>\n",
       "      <td>1</td>\n",
       "      <td>0</td>\n",
       "      <td>p.h</td>\n",
       "      <td>self_employed</td>\n",
       "      <td>female</td>\n",
       "      <td>female/self_employed</td>\n",
       "    </tr>\n",
       "  </tbody>\n",
       "</table>\n",
       "</div>"
      ],
      "text/plain": [
       "   id  new_business  age  number_of_contracts  property  life  health  \\\n",
       "0   1             0   59                    1         1     0       0   \n",
       "1   2             0   59                    1         0     1       0   \n",
       "2   3             0   53                    2         0     1       1   \n",
       "3   4             0   30                    1         0     0       1   \n",
       "4   5             0   43                    4         1     0       1   \n",
       "\n",
       "   premium_customer  premium_household sales_channel new_business_py  \\\n",
       "0            164.00            1976.11         other            none   \n",
       "1            272.18             272.18    tied_agend            none   \n",
       "2           1298.28           20160.83    tied_agend            none   \n",
       "3              5.13               5.13    tied_agend            none   \n",
       "4            710.61             710.61    tied_agend               p   \n",
       "\n",
       "   self_employed  gender_male lines_of_business self_employment_status  \\\n",
       "0              0            1               p..      not_self_employed   \n",
       "1              0            0               .l.      not_self_employed   \n",
       "2              0            0               .lh      not_self_employed   \n",
       "3              0            1               ..h      not_self_employed   \n",
       "4              1            0               p.h          self_employed   \n",
       "\n",
       "   gender      gender_self_employed  \n",
       "0    male    male/not_self_employed  \n",
       "1  female  female/not_self_employed  \n",
       "2  female  female/not_self_employed  \n",
       "3    male    male/not_self_employed  \n",
       "4  female      female/self_employed  "
      ]
     },
     "execution_count": 5,
     "metadata": {},
     "output_type": "execute_result"
    }
   ],
   "source": [
    "propensity_data.head()"
   ]
  },
  {
   "attachments": {},
   "cell_type": "markdown",
   "metadata": {
    "dc": {
     "key": "36"
    },
    "deletable": false,
    "editable": false,
    "run_control": {
     "frozen": true
    },
    "tags": [
     "context"
    ]
   },
   "source": [
    "## 5. Visualizing customer age\n",
    "<p>The previous bar plot showed that while women overall are less likely to buy a new insurance than men are, self-employment makes a big difference with women. While the self-employment status does not make a difference for the subgroup of the male customers, women that are self-employed have a much higher propensity to buy, even higher than men. Therefore it might be good idea to fit the logistic regression with the interaction term instead of adding gender and self-employment separately.</p>\n",
    "<p>Now that you had a look at some interactions, let's have a look at a single feature. For many behavioral questions age is a highly predictive attribute. However the correlation matrix from the second task showed us that the linear correlation between a customer's age and the purchase of an accident insurance policy is not very high. There are two possible reasons for this: either age isn't related to our target variable, or the relationship is nonlinear. Let's plot the mean number of customers with new business per age group to find out which of these is correct!</p>\n",
    "<p>Depending on the outcome you should either exclude age when building your model or consider applying a transformation or similar since including age in a logistic regression model would only lead to the estimation of a monotone effect and would therefore not result in a good fit.</p>"
   ]
  },
  {
   "cell_type": "code",
   "execution_count": 33,
   "metadata": {
    "dc": {
     "key": "36"
    },
    "tags": [
     "sample_code"
    ]
   },
   "outputs": [
    {
     "data": {
      "image/png": "[encoded data removed]",
      "text/plain": [
       "<Figure size 432x288 with 1 Axes>"
      ]
     },
     "metadata": {
      "needs_background": "light"
     },
     "output_type": "display_data"
    }
   ],
   "source": [
    "# For each age group, calculate the proportion of new business, then reset the index\n",
    "prop_new_business_by_age = propensity_data.groupby('age')['new_business'].mean().reset_index()\n",
    "\n",
    "# Draw a line plot of the proportion of new business vs. age\n",
    "ax = sns.lineplot(data = prop_new_business_by_age, x='age', y='new_business', ci=None)\n",
    "plt.show()"
   ]
  },
  {
   "attachments": {},
   "cell_type": "markdown",
   "metadata": {
    "dc": {
     "key": "43"
    },
    "deletable": false,
    "editable": false,
    "run_control": {
     "frozen": true
    },
    "tags": [
     "context"
    ]
   },
   "source": [
    "## 6. Preparing the first model\n",
    "<p>The curve of new business versus age revealed a non-monotone relationship which looks almost parabolic. To capture this relation you could include an age squared term to your model in addition to <code>age</code>.</p>\n",
    "<p>Until now you explored a couple of features in your dataset and gained interesting insights which will help you with developing a good model. In practice you should explore all available features. However, since this would be too lengthy for this project, you'll stop data exploration at this point and will begin with the building process. Start with a simple model that does not yet include the newly derived features and the squared age term. Later, you will build a second model that includes these features and compare the two to see how fit and performance are improved. </p>\n",
    "<p>For both models you will use a transformed version of <code>premium_household</code> because the variable is heavily tailed and only weakly correlated with the target. To get a well-distributed feature with an approximately monotone effect on propensity to buy, extreme values were truncated and a logarithmic transformation was applied. This code is provided for you. The other variables can be used more or less as they are. You only have to take care of the categorical variables and convert them into dummy variables as regression models can only handle numeric variables.</p>\n",
    "<p>Then your dataset is almost ready for training. All you have to do is split it into a train and a test dataset to be able to check the performance of your fitted model on unseen data.</p>"
   ]
  },
  {
   "cell_type": "code",
   "execution_count": 7,
   "metadata": {
    "dc": {
     "key": "43"
    },
    "tags": [
     "sample_code"
    ]
   },
   "outputs": [],
   "source": [
    "# Import train_test_split from sklearn.model_selection\n",
    "from sklearn.model_selection import train_test_split\n",
    "\n",
    "# Select the new_business column as the response\n",
    "response = propensity_data['new_business']\n",
    "\n",
    "# Log of premium household feature provided\n",
    "propensity_data[\"premium_household_log\"] = np.log10(\n",
    "    np.minimum(np.maximum(propensity_data[\"premium_household\"], 1), 50000))\n",
    "\n",
    "# These features will be included\n",
    "model1_features = propensity_data[\n",
    "    [\"age\", \"number_of_contracts\", \"gender_male\", \"self_employed\", \"sales_channel\",\n",
    "     \"property\", \"health\", \"life\", \"new_business_py\", \"premium_household_log\"]\n",
    "]\n",
    "\n",
    "# Get dummy variables for the features\n",
    "model1_dummies = pd.get_dummies(model1_features, drop_first=True)\n",
    "\n",
    "# Split the dataset into training and testing sets with a test size of 30%, \n",
    "# using 42 as the random seed and stratified by the response\n",
    "model1_X_train, model1_X_test, model1_y_train, model1_y_test = train_test_split(model1_dummies, response, test_size=0.3, random_state=42, stratify=response)\n"
   ]
  },
  {
   "attachments": {},
   "cell_type": "markdown",
   "metadata": {},
   "source": [
    "\n",
    "premium_household continuous variable is transformed This is done when the variables span several orders of magnitude. Income is a typical example: its distribution is \"power law\", meaning that the vast majority of incomes are small and very few are big. extreme values in exponential distribution are by definition very rare. Therefore data which spans many orders of magnitude is usually power law. This type of \"fat tailed\" distribution is studied in logarithmic scale because of the mathematical properties of the logarithm.\n",
    "\n",
    " Logarithm naturally reduces the dynamic range of a variable so the differences are preserved while the scale is not that dramatically skewed. Imagine some people got 100,000,000 loan and some got 10000 and some 0. Any feature scaling will probably put 0 and 10000 so close to each other as the biggest number anyway pushes the boundary. Logarithm solves the issue."
   ]
  },
  {
   "attachments": {},
   "cell_type": "markdown",
   "metadata": {},
   "source": [
    "\n",
    "When our original continuous data do not follow the bell curve, we can log transform this data to make it as “normal” as possible so that the statistical analysis results from this data become more valid. In other words, the log transformation reduces or removes the skewness of our original data\n",
    "\n",
    "import numpy as np\n",
    "x = [1, 2, 3, 4, 5]\n",
    "y = np.log(x)\n",
    "y"
   ]
  },
  {
   "attachments": {},
   "cell_type": "markdown",
   "metadata": {
    "dc": {
     "key": "51"
    },
    "deletable": false,
    "editable": false,
    "run_control": {
     "frozen": true
    },
    "tags": [
     "context"
    ]
   },
   "source": [
    "## 7. Training the first logistic regression model\n",
    "<p>Now you are ready to fit the first logistic regression model. It can then be used to make a decision about which of our current customers should be addressed within the marketing campaign. But before that, you better take a look at the fit and performance of the model and try to improve it. </p>\n",
    "<p>Fitting is done on the training set only. Checking the fit for individual independent variables like <code>age</code> can be performed on the training set, too. However, predictive power is measured on the test set only!  </p>"
   ]
  },
  {
   "cell_type": "code",
   "execution_count": 8,
   "metadata": {
    "dc": {
     "key": "51"
    },
    "tags": [
     "sample_code"
    ]
   },
   "outputs": [
    {
     "data": {
      "text/plain": [
       "LogisticRegression(solver='newton-cg')"
      ]
     },
     "execution_count": 8,
     "metadata": {},
     "output_type": "execute_result"
    }
   ],
   "source": [
    "# Import LogisticRegression from sklearn.linear_model\n",
    "from sklearn.linear_model import LogisticRegression\n",
    "\n",
    "# Create a LogisticRegression object using 'newton-cg' as solver\n",
    "log_reg1 = LogisticRegression(solver='newton-cg')\n",
    "\n",
    "# Fit the logistic regression model to model1_X_train and model1_y_train \n",
    "log_reg1.fit(model1_X_train, model1_y_train)"
   ]
  },
  {
   "attachments": {},
   "cell_type": "markdown",
   "metadata": {
    "dc": {
     "key": "58"
    },
    "deletable": false,
    "editable": false,
    "run_control": {
     "frozen": true
    },
    "tags": [
     "context"
    ]
   },
   "source": [
    "## 8. Evaluating the first model\n",
    "<p>With the test data set, you can now examine the predictive power of your model. Predict the probabilities of purchasing an accident insurance for the customers in the test dataset. Then use these probabilities to create an ROC plot and calculate the area under the curve. These measures will give you a first impression on how good the model would perform when using it for the marketing campaign.</p>"
   ]
  },
  {
   "cell_type": "code",
   "execution_count": 9,
   "metadata": {
    "dc": {
     "key": "58"
    },
    "tags": [
     "sample_code"
    ]
   },
   "outputs": [
    {
     "name": "stderr",
     "output_type": "stream",
     "text": [
      "/home/tm/anaconda3/lib/python3.8/site-packages/seaborn/_decorators.py:36: FutureWarning: Pass the following variables as keyword args: x, y. From version 0.12, the only valid positional argument will be `data`, and passing other arguments without an explicit keyword will result in an error or misinterpretation.\n",
      "  warnings.warn(\n"
     ]
    },
    {
     "data": {
      "image/png": "[encoded data removed]",
      "text/plain": [
       "<Figure size 432x288 with 1 Axes>"
      ]
     },
     "metadata": {
      "needs_background": "light"
     },
     "output_type": "display_data"
    },
    {
     "name": "stdout",
     "output_type": "stream",
     "text": [
      "The AUC for Model 1 is 0.76.\n"
     ]
    }
   ],
   "source": [
    "# Import roc_curve and roc_auc_score from sklearn.metrics\n",
    "from sklearn.metrics import roc_curve, roc_auc_score\n",
    "\n",
    "# Predict the probabilities of buying on the test dataset\n",
    "model1_prediction_probs = log_reg1.predict_proba(model1_X_test)[:,1]\n",
    "\n",
    "# Calculate ROC curve\n",
    "fpr1, tpr1, thresholds1 = roc_curve(model1_y_test, model1_prediction_probs)\n",
    "\n",
    "# Draw line plot of true positive rate vs. false positive rate\n",
    "ax = sns.lineplot(fpr1, tpr1, ci=None)\n",
    "\n",
    "# This code adds a dashed line along y = x\n",
    "ax.axline([0, 0], slope=1, linestyle='--', color='k')\n",
    "\n",
    "# This code labels the axes and displays the plot\n",
    "ax.set(xlabel='False positive rate', ylabel='True positive rate')\n",
    "plt.show()\n",
    "\n",
    "# Calculate the AUC\n",
    "auc1 = roc_auc_score(model1_y_test, model1_prediction_probs)\n",
    "print(f\"The AUC for Model 1 is {auc1:.2f}.\")"
   ]
  },
  {
   "attachments": {},
   "cell_type": "markdown",
   "metadata": {
    "dc": {
     "key": "66"
    },
    "deletable": false,
    "editable": false,
    "run_control": {
     "frozen": true
    },
    "tags": [
     "context"
    ]
   },
   "source": [
    "## 9. Using derived variables in a second model\n",
    "<p>Your model seems to have reasonable predictive power. Now try to improve its performance by including the features you built during exploration.</p>\n",
    "<p>By combining the information about the customers product ownership in one variable you discovered that customers holding at least one insurance product in each of the three business lines (P, L and H) are most likely to buy an accident insurance. You also saw earlier that the proportion of new business seemed to be different for women when they are self employed or not, but didn't see that change for men. This indicated that there is some sort of interaction between gender and self-employment. Moreover, you saw that the curve of new business versus age looked almost parabolic. This effect can be captured better by including an extra age squared term. </p>\n",
    "<p>Make use of these findings by including the interactions in your model.</p>\n",
    "<p>To ensure comparability with the first model choose the same test size and random seed when splitting the dataset.</p>"
   ]
  },
  {
   "cell_type": "code",
   "execution_count": 10,
   "metadata": {
    "dc": {
     "key": "66"
    },
    "tags": [
     "sample_code"
    ]
   },
   "outputs": [],
   "source": [
    "# Create an age squared column\n",
    "propensity_data[\"age_squared\"] = propensity_data['age']**2\n",
    "\n",
    "# This model also includes age_squared and interactions between gender/self-employment and lines of business\n",
    "model2_features = propensity_data[\n",
    "    [\"age\", \"age_squared\", \"number_of_contracts\", \"gender_self_employed\", \n",
    "     \"sales_channel\", \"lines_of_business\", \"new_business_py\", \"premium_household_log\"]\n",
    "]\n",
    "\n",
    "# Get dummy variables for the features\n",
    "model2_dummies = pd.get_dummies(model2_features, drop_first=True)\n",
    "\n",
    "# Split the dataset into training and testing sets with a test size of 30%, \n",
    "# using 42 as the random seed and stratified by the response\n",
    "model2_X_train, model2_X_test, model2_y_train, model2_y_test = train_test_split(model2_dummies, response, test_size=0.3, random_state=42, stratify=response)\n",
    "\n",
    "\n",
    "\n",
    "# Create a LogisticRegression object using 'newton-cg' as solver\n",
    "log_reg2 = LogisticRegression(solver='newton-cg')\n",
    "\n",
    "# Fit the logistic regression model to model2_X_train and model2_y_train \n",
    "log_reg2.fit(model2_X_train, model2_y_train)\n",
    "\n",
    "# Predict the probabilities of buying on the test dataset\n",
    "model2_prediction_probs = log_reg2.predict_proba(model2_X_test)[:,1]"
   ]
  },
  {
   "attachments": {},
   "cell_type": "markdown",
   "metadata": {
    "dc": {
     "key": "74"
    },
    "deletable": false,
    "editable": false,
    "run_control": {
     "frozen": true
    },
    "tags": [
     "context"
    ]
   },
   "source": [
    "## 10. Comparing fit of age on training set\n",
    "<p>You included the age squared term in the second model to better capture the almost parabolic effect of age on propensity to buy. Check if this worked and if there is a visible improvement between model 1 and 2.</p>\n",
    "<p>You can visualize the fit by comparing the mean of predicted probabilities on the training set per age group for model 1, model 2 and the true proportion. </p>\n",
    "<p>Combining all information in one plot helps with comparison. This can be easily implemented with Seaborn if the dataset contains all relevant data and is in the right format.  </p>"
   ]
  },
  {
   "cell_type": "code",
   "execution_count": 43,
   "metadata": {
    "dc": {
     "key": "74"
    },
    "tags": [
     "sample_code"
    ]
   },
   "outputs": [
    {
     "data": {
      "image/png": "[encoded data removed]",
      "text/plain": [
       "<Figure size 432x288 with 1 Axes>"
      ]
     },
     "metadata": {
      "needs_background": "light"
     },
     "output_type": "display_data"
    }
   ],
   "source": [
    "# Predict the probabilities of buying on the training dataset for Model 1\n",
    "model1_scores_train = log_reg1.predict_proba(model1_X_train,)[:,1]\n",
    "\n",
    "# Do the same for Model 2\n",
    "model2_scores_train = log_reg2.predict_proba(model2_X_train,)[:,1]\n",
    "\n",
    "# Complete the dictionary to fill the DataFrame\n",
    "real_age_scores = pd.DataFrame.from_dict({\n",
    "    # Get the ages from Model 1 training dataset\n",
    "    'age': model1_X_train['age'], \n",
    "    # Get the Model 1 training responses\n",
    "    'score': model1_y_train, \n",
    "    'fit': 'real response'\n",
    "})\n",
    "\n",
    "# Complete the dictionary to fill the DataFrame\n",
    "model1_age_scores = pd.DataFrame.from_dict({\n",
    "    # Get the ages from Model 1 training dataset\n",
    "    'age': model1_X_train['age'], \n",
    "    # Get the Model 1 predicted probabilities\n",
    "    'score': model1_scores_train, \n",
    "    'fit': 'Model 1 prediction: age'\n",
    "})\n",
    "\n",
    "# Complete the dictionary and convert to a DataFrame\n",
    "model2_age_scores = pd.DataFrame.from_dict({\n",
    "    # Get the ages from Model 2 training dataset\n",
    "    'age': model2_X_train['age'], \n",
    "    # Get the Model 2 predicted probabilities\n",
    "    'score': model2_scores_train, \n",
    "    'fit': 'Model 2 prediction: age+age**2'\n",
    "})\n",
    "\n",
    "# From real_age_scores append model1_age_scores then append model2_age_scores\n",
    "age_scores = (real_age_scores.append(model1_age_scores)).append(model2_age_scores)\n",
    "\n",
    "# Group `age_scores` by age and fit, select the score column, \n",
    "# calculate the mean, and reset the index\n",
    "modelfit_age = age_scores.groupby(['age', 'fit'])['score'].mean().reset_index()\n",
    "\n",
    "# Using modelfit_age, draw a line plot of score vs. age colored by fit\n",
    "ax = sns.lineplot(data=modelfit_age, hue='fit', x='age', y='score', ci=None)\n",
    "plt.show()"
   ]
  },
  {
   "attachments": {},
   "cell_type": "markdown",
   "metadata": {
    "dc": {
     "key": "82"
    },
    "deletable": false,
    "editable": false,
    "run_control": {
     "frozen": true
    },
    "tags": [
     "context"
    ]
   },
   "source": [
    "## 11. Comparing model performance\n",
    "<p>The previous plot showed that model 2 actually captured the almost parabolic effect of age on the propensity to buy very well while model 1 only estimated a monotone effect. Now check if the predictive power has improved in addition to the fit. Compare the ROC curves of the two models by drawing both curves in one plot and calculate the AUC values. </p>"
   ]
  },
  {
   "cell_type": "code",
   "execution_count": 11,
   "metadata": {
    "dc": {
     "key": "82"
    },
    "tags": [
     "sample_code"
    ]
   },
   "outputs": [
    {
     "name": "stdout",
     "output_type": "stream",
     "text": [
      "AUC1 = 0.758\n",
      "AUC2 = 0.784\n"
     ]
    },
    {
     "data": {
      "image/png": "[encoded data removed]",
      "text/plain": [
       "<Figure size 432x288 with 1 Axes>"
      ]
     },
     "metadata": {
      "needs_background": "light"
     },
     "output_type": "display_data"
    }
   ],
   "source": [
    "# Predict the probabilities of buying on the Model 2 test dataset\n",
    "model2_prediction_probs = log_reg2.predict_proba(model2_X_test)[:,1]\n",
    "\n",
    "# Calculate the ROC curve using Model 2\n",
    "fpr2, tpr2, thresholds2 = roc_curve(model2_y_test, model2_prediction_probs)\n",
    "\n",
    "# This creates a DataFrame of ROC data from Model 1\n",
    "roc_data1 = pd.DataFrame.from_dict({\n",
    "    'fpr': fpr1, \n",
    "    'tpr': tpr1, \n",
    "    'model': 'Model 1'\n",
    "})\n",
    "# Create a DataFrame of ROC data from Model 2\n",
    "roc_data2 = pd.DataFrame.from_dict({\n",
    "    'fpr':fpr2,\n",
    "    'tpr':tpr2,\n",
    "    'model': 'Model 2'\n",
    "})\n",
    "\n",
    "\n",
    "# From the Model 1 ROC data, append the Model 2 ROC data\n",
    "roc_data = roc_data1.append(roc_data2)\n",
    "\n",
    "# Using roc_data, draw a line plot of true +ve rate vs. false +ve rate colored by model \n",
    "ax = sns.lineplot(data=roc_data, x='fpr', y='tpr', hue ='model')\n",
    "\n",
    "# Add diagonal and labels to the x and y axes\n",
    "ax.set(xlabel='False positive rate', ylabel='True positive rate')\n",
    "ax.axline([0, 0], slope=1, linestyle='--', color='black')\n",
    "\n",
    "# Calculate AUC score of Model 2\n",
    "auc2 = roc_auc_score(model2_y_test, model2_prediction_probs)\n",
    "\n",
    "# Print AUC values for both models\n",
    "print(f\"AUC1 = {auc1:.3f}\")\n",
    "print(f\"AUC2 = {auc2:.3f}\")"
   ]
  },
  {
   "attachments": {},
   "cell_type": "markdown",
   "metadata": {
    "dc": {
     "key": "90"
    },
    "deletable": false,
    "editable": false,
    "run_control": {
     "frozen": true
    },
    "tags": [
     "context"
    ]
   },
   "source": [
    "## 12. Examining lift\n",
    "<p>As the exploration of the data above suggested, including the derived features improved the predictive power of your logistic regression. Model 2 is outperforming Model 1 at almost every classification threshold. For example, the AUC value increased from <code>0.758</code> to <code>0.784</code>.</p>\n",
    "<p>These metrics provide a comprehensive measure of model performance across all data points. For this marketing campaign however, you are only interested in detecting the (let's say) 10% of customers with the highest propensity to buy. That is, you only care about a model that performs well for the top-score sector. Therefore, you will now take a final look at the 10% lift of your models and compare them.</p>\n",
    "<p>Lift is a measure of the effectiveness of a predictive model. It is very popular in marketing analytics and quantifies how much better you can expect to perform with the predictive model compared to without the model. </p>\n",
    "<p>The 10% lift is calculated as the ratio between the true proportion of customers with new business among the 10% customers with the highest propensity to buy and the overall proportion of customers with new business. For example, if the 10% lift of our model is 2, picking the top 10% customers with the highest scores from this model would result in a subgroup whose propensity to buy is 2 times higher than the overall average. We could then conclude that the marketing campaign would benefit from our prognosis model. However, keep in mind that this result is only valid when the dataset the model is applied on has approximately the same structure as the dataset that was used for training the model.</p>\n",
    "<p>Since you have not been introduced to this measure in any of the courses, you will be guided through the calculation step by step. </p>\n",
    "<p>You will again use the test set for your calculations as lift is a performance metric. </p>"
   ]
  },
  {
   "cell_type": "code",
   "execution_count": 18,
   "metadata": {
    "dc": {
     "key": "90"
    },
    "tags": [
     "sample_code"
    ]
   },
   "outputs": [
    {
     "name": "stdout",
     "output_type": "stream",
     "text": [
      "Lift 10% Model 1: 2.359\n",
      "Lift 10% Model 2: 2.674\n"
     ]
    }
   ],
   "source": [
    "# This code gets 10% of number of observations in the test dataset (300)\n",
    "n_10_pct = round(len(model1_y_test) * 0.1)\n",
    "\n",
    "# This code combines actual new business and predicted probabilities using Model 1\n",
    "model1_score = pd.DataFrame.from_dict({\n",
    "    'new_business': model1_y_test, \n",
    "    'score': model1_prediction_probs\n",
    "})\n",
    "\n",
    "# Get the rows of model1_score with the n_10_pct largest scores\n",
    "model1_top_10_pct = model1_score.nlargest(n=n_10_pct, columns='score')\n",
    "\n",
    "# Calculate Model 1 10% lift\n",
    "model1_lift = model1_top_10_pct.new_business.mean()/model1_y_test.mean()\n",
    "print(f\"Lift 10% Model 1: {model1_lift:.3f}\")\n",
    "\n",
    "# Create a DataFrame combining actual new business and predicted probabilities using Model 2\n",
    "model2_score = pd.DataFrame.from_dict({\n",
    "    'new_business': model2_y_test, \n",
    "    'score': model2_prediction_probs\n",
    "})\n",
    "\n",
    "# Get the rows of model2_score with the n_10_pct largest scores\n",
    "model2_top_10_pct = model2_score.nlargest(n=n_10_pct, columns='score')\n",
    "\n",
    "# Calculate Model 2 10% lift\n",
    "model2_lift = model2_top_10_pct.new_business.mean() / model2_y_test.mean()\n",
    "print(f\"Lift 10% Model 2: {model2_lift:.3f}\")"
   ]
  },
  {
   "attachments": {},
   "cell_type": "markdown",
   "metadata": {},
   "source": [
    "Code is provided to combine actual new business and predicted probabilities using Model 1. Using model1_score, get the rows with the n_10_pct largest scores. Assign to model1_top_10_pct.\n",
    "Using Model 1, calculate the lift of the 10% of customers with the highest scores versus the whole population of customers. That is, calculate the proportion of new_business in model1_top_10_pct, and divide it by the mean response in the Model 1 test dataset (model1_y_test).\n",
    "Repeat the lift calculation steps for Model 2.\n",
    "\n",
    "Create a DataFrame combining actual new business and predicted probabilities using Model 2.\n",
    "Using model2_score, get the rows with the n_10_pct largest scores. Assign to model2_top_10_pct.\n",
    "Using Model 2, calculate the lift of the 10% of customers with the highest scores versus the whole population of customers."
   ]
  }
 ],
 "metadata": {
  "kernelspec": {
   "display_name": "Python 3",
   "language": "python",
   "name": "python3"
  },
  "language_info": {
   "codemirror_mode": {
    "name": "ipython",
    "version": 3
   },
   "file_extension": ".py",
   "mimetype": "text/x-python",
   "name": "python",
   "nbconvert_exporter": "python",
   "pygments_lexer": "ipython3",
   "version": "3.9.15"
  }
 },
 "nbformat": 4,
 "nbformat_minor": 2
}
